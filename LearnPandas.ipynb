{
  "cells": [
    {
      "cell_type": "markdown",
      "source": [
        "# Web Scraping"
      ],
      "metadata": {
        "id": "bCKOxlzVBi4G"
      }
    },
    {
      "cell_type": "code",
      "source": [
        "# Import Python Modules\n",
        "import requests\n",
        "from bs4 import BeautifulSoup\n",
        "import pandas as pd"
      ],
      "metadata": {
        "id": "Y0ISM3q_Bmf_"
      },
      "execution_count": null,
      "outputs": []
    },
    {
      "cell_type": "code",
      "source": [
        "# Get page and convert to html parse\n",
        "page_url = \"https://en.wikipedia.org/wiki/List_of_largest_companies_in_the_United_States_by_revenue\"\n",
        "page = requests.get(page_url)\n",
        "\n",
        "soup = BeautifulSoup(page.text, 'html')"
      ],
      "metadata": {
        "id": "5wIzJSdgBswW"
      },
      "execution_count": null,
      "outputs": []
    },
    {
      "cell_type": "code",
      "source": [
        "# Get table data\n",
        "table = soup.find('table', class_='wikitable sortable')"
      ],
      "metadata": {
        "id": "-n2QrlwKBstR"
      },
      "execution_count": null,
      "outputs": []
    },
    {
      "cell_type": "code",
      "source": [
        "# Get table title\n",
        "table_head = table.find_all('th')\n",
        "table_title = [title.text.strip() for title in table_head]"
      ],
      "metadata": {
        "id": "046Vzr9LBspR"
      },
      "execution_count": null,
      "outputs": []
    },
    {
      "cell_type": "code",
      "source": [
        "# Save table title to a data frame\n",
        "df = pd.DataFrame(columns=table_title)"
      ],
      "metadata": {
        "id": "pqdZ_hw8Bsj8"
      },
      "execution_count": null,
      "outputs": []
    },
    {
      "cell_type": "code",
      "source": [
        "# Get table data\n",
        "table_row = table.find_all('tr')[1:]\n",
        "for row in table_row:\n",
        "  table_data = row.find_all('td')\n",
        "  individual_row = [ row.text.strip() for row in table_data]\n",
        "\n",
        "  data_length = len(df)\n",
        "  df.loc[data_length] = individual_row"
      ],
      "metadata": {
        "id": "6iWOzkHrBsVC"
      },
      "execution_count": null,
      "outputs": []
    },
    {
      "cell_type": "code",
      "source": [
        "# Save to csv and download\n",
        "from google.colab import files\n",
        "\n",
        "df.to_csv('DataScripNew.csv')\n",
        "files.download('DataScripNew.csv')"
      ],
      "metadata": {
        "colab": {
          "base_uri": "https://localhost:8080/",
          "height": 17
        },
        "id": "iXnT0uAWBsRV",
        "outputId": "bd0bcde5-36b8-4250-a9a5-949c39b90dbc"
      },
      "execution_count": null,
      "outputs": [
        {
          "output_type": "display_data",
          "data": {
            "text/plain": [
              "<IPython.core.display.Javascript object>"
            ],
            "application/javascript": [
              "\n",
              "    async function download(id, filename, size) {\n",
              "      if (!google.colab.kernel.accessAllowed) {\n",
              "        return;\n",
              "      }\n",
              "      const div = document.createElement('div');\n",
              "      const label = document.createElement('label');\n",
              "      label.textContent = `Downloading \"${filename}\": `;\n",
              "      div.appendChild(label);\n",
              "      const progress = document.createElement('progress');\n",
              "      progress.max = size;\n",
              "      div.appendChild(progress);\n",
              "      document.body.appendChild(div);\n",
              "\n",
              "      const buffers = [];\n",
              "      let downloaded = 0;\n",
              "\n",
              "      const channel = await google.colab.kernel.comms.open(id);\n",
              "      // Send a message to notify the kernel that we're ready.\n",
              "      channel.send({})\n",
              "\n",
              "      for await (const message of channel.messages) {\n",
              "        // Send a message to notify the kernel that we're ready.\n",
              "        channel.send({})\n",
              "        if (message.buffers) {\n",
              "          for (const buffer of message.buffers) {\n",
              "            buffers.push(buffer);\n",
              "            downloaded += buffer.byteLength;\n",
              "            progress.value = downloaded;\n",
              "          }\n",
              "        }\n",
              "      }\n",
              "      const blob = new Blob(buffers, {type: 'application/binary'});\n",
              "      const a = document.createElement('a');\n",
              "      a.href = window.URL.createObjectURL(blob);\n",
              "      a.download = filename;\n",
              "      div.appendChild(a);\n",
              "      a.click();\n",
              "      div.remove();\n",
              "    }\n",
              "  "
            ]
          },
          "metadata": {}
        },
        {
          "output_type": "display_data",
          "data": {
            "text/plain": [
              "<IPython.core.display.Javascript object>"
            ],
            "application/javascript": [
              "download(\"download_3f6016ad-f5f6-4232-9af4-0dd906e9999b\", \"DataScripNew.csv\", 8259)"
            ]
          },
          "metadata": {}
        }
      ]
    },
    {
      "cell_type": "markdown",
      "metadata": {
        "id": "IGzxpjAf6z4-"
      },
      "source": [
        "# Filter, Sort and Grouping in Pandas"
      ]
    },
    {
      "cell_type": "code",
      "execution_count": null,
      "metadata": {
        "id": "VpNOQ0Ab643W"
      },
      "outputs": [],
      "source": [
        "#### TASK\n",
        "# IMPORTS AND DATA READING\n",
        "  # Imports python modules\n",
        "  # Read data eg. World Population.csv\n",
        "# FILTER\n",
        "  # Filter ranks less than 10. Thus,  Return data with ranks less than 10\n",
        "  # Filter data and return specific country. Eg. Ghana\n",
        "  # Filter data and return specific countries. Thus, Brazil, Russia\n",
        "  # Change index of the dataframe.\n",
        "  # Use filter to filter out infomation needed eg. Filter out Capital and continents only\n",
        "\n",
        "# SORTING\n",
        "  # Get data with Rank less than 4 in ascending and descending\n",
        "  # Reset index and set index again\n",
        "  # Use Continent and Country as index and sort it\n",
        "  # Get data for Africa country only\n",
        "\n",
        "# GROUP [NEW DATA -> Flavors.csv]\n",
        "  # Group by [Base Flower] with aggregate functions [describe]"
      ]
    },
    {
      "cell_type": "code",
      "execution_count": null,
      "metadata": {
        "id": "FIc2noKkyWDk"
      },
      "outputs": [],
      "source": [
        "### Source Codes\n",
        "\n",
        "# IMPORTS\n",
        "  # from google.colab import files\n",
        "  # import pandas as pd\n",
        "  # df = pd.read_csv('/content/world_population.csv')\n",
        "\n",
        "#FILTER\n",
        "  # df2 = df.set_index('Country')\n",
        "  # df2[df2['Rank'] > 230]\n",
        "  # df[df['Country'] == \"Ghana\"]\n",
        "  # df[df['Country'].str.contains('Gha')]\n",
        "  # specific_country = [\"Ghana\", \"Brazil\", \"Russia\"]\n",
        "  # df[df['Country'].isin(specific_country)]\n",
        "  # df2.filter(like = \"Gha\", axis=0)\n",
        "  # df2.filter(items = specific_country, axis=0)\n",
        "  # df.filter(items = ['Rank', 'Country']).head(3)\n",
        "\n",
        "# SORT\n",
        "  # df[df['Rank'] < 10].sort_values(by=\"Rank\", ascending=True)\n",
        "  # df.reset_index(inplace=True)\n",
        "  # df.set_index(['Continent', 'Country']).sort_values(['Continent', 'Country'])\n",
        "\n",
        "# GROUP\n",
        "  # flavor.groupby('Base Flavor').describe()"
      ]
    },
    {
      "cell_type": "code",
      "source": [],
      "metadata": {
        "id": "NKhaYTiqokAV"
      },
      "execution_count": null,
      "outputs": []
    },
    {
      "cell_type": "markdown",
      "metadata": {
        "id": "BJ036ynxmTqZ"
      },
      "source": [
        "# Data Cleaning\n"
      ]
    },
    {
      "cell_type": "code",
      "execution_count": null,
      "metadata": {
        "id": "yIvy8KTUmaOj"
      },
      "outputs": [],
      "source": [
        "# :::::::::: TASKS  ::::::::::\n",
        "# IMPORT\n",
        "  # Import packages || # Import data [Customer call list.xlsx]\n",
        "\n",
        "# CLEANING\n",
        "  # Remove duplicates || Remove unused column [Not_Useful_Column]\n",
        "  # Format [Last_Name], remove symtems (\\.._) -> Format {[Kwame]}\n",
        "  # Clean [Phone Number], Format{123-456-7899}\n",
        "  # Clean [Address] -> Format [Street_Address, State, Zip_Address]\n",
        "  # Work on column [Paying Customer\tand Do_Not_Contact] -> Format [Yes, No]\n",
        "  # Remove the NaN\n",
        "\n",
        "  # Remove row, where [Do_Not_Contact] is {Yes}"
      ]
    },
    {
      "cell_type": "code",
      "execution_count": null,
      "metadata": {
        "id": "H0b2VL8mmar7"
      },
      "outputs": [],
      "source": [
        "# :::::::::: CHEATSHEET  ::::::::::\n",
        "# IMPORTS\n",
        "  # from google.colab import files || # import pandas as pd || # files.upload()\n",
        "\n",
        "# CLEANING\n",
        "  # df = df.drop_duplicates() || df = df.drop(columns=\"Not_Useful_Column\")\n",
        "\n",
        "  # df['Last_Name'] = df['Last_Name'].str.strip()\n",
        "  # df['Last_Name'] = df['Last_Name'].str.lstrip(\"/\")\n",
        "  # df['Last_Name'] = df['Last_Name'].str.lstrip(\"...\")\n",
        "  # df['Last_Name'] = df['Last_Name'].str.rstrip(\"_\")\n",
        "\n",
        "  # df['Phone_Number'] = df['Phone_Number'].str.replace('-','')\n",
        "  # df['Phone_Number'] = df['Phone_Number'].str.replace('|','')\n",
        "  # df['Phone_Number'] = df['Phone_Number'].str.replace('/','')\n",
        "  # df['Phone_Number'] = df['Phone_Number'].apply(lambda x: str(x)[0:3] + \"-\" + str(x)[3:6]+ \"-\" + str(x)[6:10])\n",
        "  # df['Phone_Number'] = df['Phone_Number'].replace([\"na--\", \"nan--\", \"Na--\", \"--\"], \"\")\n",
        "  # df[[\"Paying Customer\",\"Do_Not_Contact\"]] = df[[\"Paying Customer\",\"Do_Not_Contact\"]].replace({'Y':\"Yes\", \"N\":\"No\", \"N/a\":\"\"})\n",
        "  # df = df.fillna(\"\")\n",
        "\n",
        "  # for index in df.index:\n",
        "  #   if df.loc[index,'Do_Not_Contact'] == \"Yes\":\n",
        "  #      df.drop(index, inplace=True)"
      ]
    },
    {
      "cell_type": "markdown",
      "source": [],
      "metadata": {
        "id": "6QgaeJ3RZf7q"
      }
    },
    {
      "cell_type": "markdown",
      "source": [
        "# Create HTML file"
      ],
      "metadata": {
        "id": "VTWmegTNZR0n"
      }
    },
    {
      "cell_type": "code",
      "source": [
        "!jupyter nbconvert --to html '/content/your_notebook.ipynb'"
      ],
      "metadata": {
        "id": "SZ_vIjYdZWYW"
      },
      "execution_count": null,
      "outputs": []
    }
  ],
  "metadata": {
    "colab": {
      "provenance": [],
      "collapsed_sections": [
        "IGzxpjAf6z4-"
      ]
    },
    "kernelspec": {
      "display_name": "Python 3",
      "name": "python3"
    },
    "language_info": {
      "name": "python"
    }
  },
  "nbformat": 4,
  "nbformat_minor": 0
}