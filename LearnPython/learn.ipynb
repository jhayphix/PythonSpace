{
 "cells": [
  {
   "cell_type": "markdown",
   "metadata": {},
   "source": [
    "## <span style=\"color:MediumSeaGreen\"> Classes </span>"
   ]
  },
  {
   "cell_type": "markdown",
   "metadata": {},
   "source": [
    "Create Student Info [name, age, scores]\n",
    "Create Student Result [Sum, Average, Grades]"
   ]
  },
  {
   "cell_type": "code",
   "execution_count": 3,
   "metadata": {},
   "outputs": [],
   "source": [
    "class StudentResult:\n",
    "    def __init__(self, scores):\n",
    "        self.scores = scores\n",
    "\n",
    "    def scores_sum(self):\n",
    "        operation_sum = sum(self.scores)\n",
    "        return round(operation_sum, 2)\n",
    "    \n",
    "    def scores_avg(self):\n",
    "        operation_avg = self.scores_sum() / len(self.scores)\n",
    "        return round(operation_avg, 2)\n",
    "\n",
    "    def student_class(self):\n",
    "        avg = self.scores_avg()\n",
    "        grage = \"__Grade__\"\n",
    "        if avg >= 70:\n",
    "            grade = \"First Class\"\n",
    "        elif avg >= 60:\n",
    "            grade = \"Second Class (Upper Division)\"\n",
    "        elif avg >= 50:\n",
    "            grade = \"Second Class (Lower Division)\"\n",
    "        elif avg >= 40:\n",
    "            grade = \"Pass\"\n",
    "        else:\n",
    "            grade = \"Fail\"\n",
    "\n",
    "        return grade\n",
    "\n",
    "    def scores_add(self, score):\n",
    "        self.scores.append(score)\n",
    "\n",
    "class StudentInfo(StudentResult):\n",
    "    def __init__(self, name, age, scores):\n",
    "        super().__init__(scores) # Run Student Results\n",
    "        self.name = str(name)\n",
    "        self.age = int(age)\n",
    "        self.scores = list(scores)\n",
    "\n",
    "    def displayInfo(self):\n",
    "        output = f'Name : {self.name} \\nAge : {self.age} \\nScores : {self.scores}'\n",
    "        output2 = f'\\n \\nSum of scores : {self.scores_sum()} \\nAverage Score : {self.scores_avg()}'\n",
    "        output3 = f'\\n \\nClass : {self.student_class()}'\n",
    "        print(output, output2, output3)\n",
    "\n",
    "\n",
    "\n",
    "class Student(StudentInfo):\n",
    "    def __init__(self, name, age, scores):\n",
    "        super().__init__(name, age, scores) # Run Student Info\n",
    "\n",
    "\n",
    "\n",
    "    "
   ]
  },
  {
   "cell_type": "code",
   "execution_count": 2,
   "metadata": {},
   "outputs": [
    {
     "name": "stdout",
     "output_type": "stream",
     "text": [
      "Name : Jhay \n",
      "Age : 24 \n",
      "Scores : [80, 90, 75, 90] \n",
      " \n",
      "Sum of scores : 335 \n",
      "Average Score : 83.75 \n",
      " \n",
      "Class : First Class\n"
     ]
    }
   ],
   "source": [
    "student = Student(\"Jhay\", 24, [80, 90, 75])\n",
    "student_result = StudentResult(student.scores)\n",
    "\n",
    "student.scores_add(90)\n",
    "student.displayInfo()"
   ]
  },
  {
   "cell_type": "code",
   "execution_count": null,
   "metadata": {},
   "outputs": [],
   "source": []
  }
 ],
 "metadata": {
  "kernelspec": {
   "display_name": "Python 3",
   "language": "python",
   "name": "python3"
  },
  "language_info": {
   "codemirror_mode": {
    "name": "ipython",
    "version": 3
   },
   "file_extension": ".py",
   "mimetype": "text/x-python",
   "name": "python",
   "nbconvert_exporter": "python",
   "pygments_lexer": "ipython3",
   "version": "3.12.1"
  }
 },
 "nbformat": 4,
 "nbformat_minor": 2
}
