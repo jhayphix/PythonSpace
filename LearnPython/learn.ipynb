{
 "cells": [
  {
   "cell_type": "markdown",
   "metadata": {},
   "source": [
    "## <span style=\"color:MediumSeaGreen\"> Classes </span>"
   ]
  },
  {
   "cell_type": "code",
   "execution_count": 108,
   "metadata": {},
   "outputs": [],
   "source": [
    "class Student:\n",
    "    def __init__(self, name, age, grades):\n",
    "        self.name = str(name)\n",
    "        self.age = int(age)\n",
    "        self.grades = list(grades)\n",
    "\n",
    "    def add_grades(self):\n",
    "        total = sum(self.grades)\n",
    "        output = self.display(\"Sum of Grades\", total)\n",
    "        print(output)\n",
    "\n",
    "    def avg_grades(self):\n",
    "        average = sum(self.grades)/len(self.grades)\n",
    "        output = self.display(\"Average of Grades\", round(average,2))\n",
    "        print(output)\n",
    "\n",
    "    def display(self, text, stat):\n",
    "        sep = \":\" * 50\n",
    "        output = f'Name : {self.name} \\nAge : {self.age} \\nGrades : {self.grades} \\n{text} : {stat}'\n",
    "        final_output = f'{sep} \\n{output} \\n{sep}'\n",
    "        return final_output\n"
   ]
  },
  {
   "cell_type": "code",
   "execution_count": 109,
   "metadata": {},
   "outputs": [
    {
     "name": "stdout",
     "output_type": "stream",
     "text": [
      ":::::::::::::::::::::::::::::::::::::::::::::::::: \n",
      "Name : James \n",
      "Age : 25 \n",
      "Grades : [56, 78, 90] \n",
      "Sum of Grades : 224 \n",
      "::::::::::::::::::::::::::::::::::::::::::::::::::\n",
      ":::::::::::::::::::::::::::::::::::::::::::::::::: \n",
      "Name : James \n",
      "Age : 25 \n",
      "Grades : [56, 78, 90] \n",
      "Average of Grades : 74.67 \n",
      "::::::::::::::::::::::::::::::::::::::::::::::::::\n"
     ]
    }
   ],
   "source": [
    "student1 = Student('James', 25, [56,78,90])\n",
    "student2 = Student('Yaw', 23, [1,2,3])\n",
    "\n",
    "student1.add_grades()\n",
    "student1.avg_grades()"
   ]
  },
  {
   "cell_type": "code",
   "execution_count": null,
   "metadata": {},
   "outputs": [],
   "source": []
  },
  {
   "cell_type": "code",
   "execution_count": null,
   "metadata": {},
   "outputs": [],
   "source": []
  }
 ],
 "metadata": {
  "kernelspec": {
   "display_name": "Python 3",
   "language": "python",
   "name": "python3"
  },
  "language_info": {
   "codemirror_mode": {
    "name": "ipython",
    "version": 3
   },
   "file_extension": ".py",
   "mimetype": "text/x-python",
   "name": "python",
   "nbconvert_exporter": "python",
   "pygments_lexer": "ipython3",
   "version": "3.12.1"
  }
 },
 "nbformat": 4,
 "nbformat_minor": 2
}
