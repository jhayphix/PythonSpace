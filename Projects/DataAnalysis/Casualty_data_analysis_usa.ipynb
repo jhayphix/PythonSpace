{
 "cells": [
  {
   "cell_type": "markdown",
   "metadata": {},
   "source": [
    "<h1 style=\"color:DarkOrange\">Casualty Data Analysis</h1>"
   ]
  },
  {
   "cell_type": "markdown",
   "metadata": {},
   "source": [
    "## <span style=\"color:MediumSeaGreen\">Introduction</span>"
   ]
  },
  {
   "cell_type": "markdown",
   "metadata": {},
   "source": [
    "\n",
    "#### Project Description  \n",
    "The Casualty Data Analysis focuses on examining the patterns and trends in accident-related casualties based on various factors such as accident severity, vehicle types, road conditions, and time of day. This analysis provides insights into the scope of accidents and helps identify key areas that require attention for safety improvements.\n",
    "\n",
    "#### Data Source  \n",
    "The data for this analysis was sourced from DataVisionary on Youtube, which provided detailed information on accident casualties, including severity, vehicle types, road conditions, and time-related factors."
   ]
  },
  {
   "cell_type": "markdown",
   "metadata": {},
   "source": [
    "## <span style=\"color:MediumSeaGreen\">Objectives</span>"
   ]
  },
  {
   "cell_type": "markdown",
   "metadata": {},
   "source": [
    "\n",
    "\n",
    "CASUALTY OVERVIEW and BREAKDOWN\n",
    "\n",
    "- Total Casualties\n",
    "- Total Serious Casaulties\n",
    "- Total Fatal Casaulties\n",
    "- Total Slight Casaulties\n",
    "- Total Casaulties by Car\n",
    "- Casaulties By [Vehicle Types]\n",
    "\n",
    "\n",
    "CASUALTY ANALYSIS BY VARIOUS FACTORS\n",
    "- Monthly Casualties Trends\n",
    "- Casualties by Road Type\n",
    "- Casualties by Road Surface Condition\n",
    "- Casualties by Location Type\n",
    "- Casualties by Time of Day\n"
   ]
  },
  {
   "cell_type": "markdown",
   "metadata": {},
   "source": [
    "## <span style=\"color:MediumSeaGreen\">Import and Reading of data</span>"
   ]
  },
  {
   "cell_type": "code",
   "execution_count": 2,
   "metadata": {},
   "outputs": [],
   "source": [
    "# Imports\n",
    "import pandas as pd\n",
    "import seaborn as sns\n",
    "import matplotlib.pyplot as plt"
   ]
  },
  {
   "cell_type": "code",
   "execution_count": 3,
   "metadata": {},
   "outputs": [],
   "source": [
    "data_path = '/workspaces/PythonSpace/Datasource/Project/Road_accident.xlsx'\n",
    "df_raw = pd.read_excel(data_path)"
   ]
  },
  {
   "cell_type": "code",
   "execution_count": 4,
   "metadata": {},
   "outputs": [
    {
     "data": {
      "text/html": [
       "<div>\n",
       "<style scoped>\n",
       "    .dataframe tbody tr th:only-of-type {\n",
       "        vertical-align: middle;\n",
       "    }\n",
       "\n",
       "    .dataframe tbody tr th {\n",
       "        vertical-align: top;\n",
       "    }\n",
       "\n",
       "    .dataframe thead th {\n",
       "        text-align: right;\n",
       "    }\n",
       "</style>\n",
       "<table border=\"1\" class=\"dataframe\">\n",
       "  <thead>\n",
       "    <tr style=\"text-align: right;\">\n",
       "      <th></th>\n",
       "      <th>Accident_Index</th>\n",
       "      <th>Accident Date</th>\n",
       "      <th>Day_of_Week</th>\n",
       "      <th>Junction_Control</th>\n",
       "      <th>Junction_Detail</th>\n",
       "      <th>Accident_Severity</th>\n",
       "      <th>Latitude</th>\n",
       "      <th>Light_Conditions</th>\n",
       "      <th>Local_Authority_(District)</th>\n",
       "      <th>Carriageway_Hazards</th>\n",
       "      <th>...</th>\n",
       "      <th>Number_of_Casualties</th>\n",
       "      <th>Number_of_Vehicles</th>\n",
       "      <th>Police_Force</th>\n",
       "      <th>Road_Surface_Conditions</th>\n",
       "      <th>Road_Type</th>\n",
       "      <th>Speed_limit</th>\n",
       "      <th>Time</th>\n",
       "      <th>Urban_or_Rural_Area</th>\n",
       "      <th>Weather_Conditions</th>\n",
       "      <th>Vehicle_Type</th>\n",
       "    </tr>\n",
       "  </thead>\n",
       "  <tbody>\n",
       "    <tr>\n",
       "      <th>0</th>\n",
       "      <td>200901BS70001</td>\n",
       "      <td>2021-01-01</td>\n",
       "      <td>Thursday</td>\n",
       "      <td>Give way or uncontrolled</td>\n",
       "      <td>T or staggered junction</td>\n",
       "      <td>Serious</td>\n",
       "      <td>51.512273</td>\n",
       "      <td>Daylight</td>\n",
       "      <td>Kensington and Chelsea</td>\n",
       "      <td>NaN</td>\n",
       "      <td>...</td>\n",
       "      <td>1</td>\n",
       "      <td>2</td>\n",
       "      <td>Metropolitan Police</td>\n",
       "      <td>Dry</td>\n",
       "      <td>One way street</td>\n",
       "      <td>30</td>\n",
       "      <td>15:11:00</td>\n",
       "      <td>Urban</td>\n",
       "      <td>Fine no high winds</td>\n",
       "      <td>Car</td>\n",
       "    </tr>\n",
       "    <tr>\n",
       "      <th>1</th>\n",
       "      <td>200901BS70002</td>\n",
       "      <td>2021-01-05</td>\n",
       "      <td>Monday</td>\n",
       "      <td>Give way or uncontrolled</td>\n",
       "      <td>Crossroads</td>\n",
       "      <td>Serious</td>\n",
       "      <td>51.514399</td>\n",
       "      <td>Daylight</td>\n",
       "      <td>Kensington and Chelsea</td>\n",
       "      <td>NaN</td>\n",
       "      <td>...</td>\n",
       "      <td>11</td>\n",
       "      <td>2</td>\n",
       "      <td>Metropolitan Police</td>\n",
       "      <td>Wet or damp</td>\n",
       "      <td>Single carriageway</td>\n",
       "      <td>30</td>\n",
       "      <td>10:59:00</td>\n",
       "      <td>Urban</td>\n",
       "      <td>Fine no high winds</td>\n",
       "      <td>Taxi/Private hire car</td>\n",
       "    </tr>\n",
       "    <tr>\n",
       "      <th>2</th>\n",
       "      <td>200901BS70003</td>\n",
       "      <td>2021-01-04</td>\n",
       "      <td>Sunday</td>\n",
       "      <td>Give way or uncontrolled</td>\n",
       "      <td>T or staggered junction</td>\n",
       "      <td>Slight</td>\n",
       "      <td>51.486668</td>\n",
       "      <td>Daylight</td>\n",
       "      <td>Kensington and Chelsea</td>\n",
       "      <td>NaN</td>\n",
       "      <td>...</td>\n",
       "      <td>1</td>\n",
       "      <td>2</td>\n",
       "      <td>Metropolitan Police</td>\n",
       "      <td>Dry</td>\n",
       "      <td>Single carriageway</td>\n",
       "      <td>30</td>\n",
       "      <td>14:19:00</td>\n",
       "      <td>Urban</td>\n",
       "      <td>Fine no high winds</td>\n",
       "      <td>Taxi/Private hire car</td>\n",
       "    </tr>\n",
       "    <tr>\n",
       "      <th>3</th>\n",
       "      <td>200901BS70004</td>\n",
       "      <td>2021-01-05</td>\n",
       "      <td>Monday</td>\n",
       "      <td>Auto traffic signal</td>\n",
       "      <td>T or staggered junction</td>\n",
       "      <td>Serious</td>\n",
       "      <td>51.507804</td>\n",
       "      <td>Daylight</td>\n",
       "      <td>Kensington and Chelsea</td>\n",
       "      <td>NaN</td>\n",
       "      <td>...</td>\n",
       "      <td>1</td>\n",
       "      <td>2</td>\n",
       "      <td>Metropolitan Police</td>\n",
       "      <td>Frost or ice</td>\n",
       "      <td>Single carriageway</td>\n",
       "      <td>30</td>\n",
       "      <td>08:10:00</td>\n",
       "      <td>Urban</td>\n",
       "      <td>Other</td>\n",
       "      <td>Motorcycle over 500cc</td>\n",
       "    </tr>\n",
       "    <tr>\n",
       "      <th>4</th>\n",
       "      <td>200901BS70005</td>\n",
       "      <td>2021-01-06</td>\n",
       "      <td>Tuesday</td>\n",
       "      <td>Auto traffic signal</td>\n",
       "      <td>Crossroads</td>\n",
       "      <td>Serious</td>\n",
       "      <td>51.482076</td>\n",
       "      <td>Darkness - lights lit</td>\n",
       "      <td>Kensington and Chelsea</td>\n",
       "      <td>NaN</td>\n",
       "      <td>...</td>\n",
       "      <td>1</td>\n",
       "      <td>2</td>\n",
       "      <td>Metropolitan Police</td>\n",
       "      <td>Dry</td>\n",
       "      <td>Single carriageway</td>\n",
       "      <td>30</td>\n",
       "      <td>17:25:00</td>\n",
       "      <td>Urban</td>\n",
       "      <td>Fine no high winds</td>\n",
       "      <td>Car</td>\n",
       "    </tr>\n",
       "  </tbody>\n",
       "</table>\n",
       "<p>5 rows × 21 columns</p>\n",
       "</div>"
      ],
      "text/plain": [
       "  Accident_Index Accident Date Day_of_Week          Junction_Control  \\\n",
       "0  200901BS70001    2021-01-01    Thursday  Give way or uncontrolled   \n",
       "1  200901BS70002    2021-01-05      Monday  Give way or uncontrolled   \n",
       "2  200901BS70003    2021-01-04      Sunday  Give way or uncontrolled   \n",
       "3  200901BS70004    2021-01-05      Monday       Auto traffic signal   \n",
       "4  200901BS70005    2021-01-06     Tuesday       Auto traffic signal   \n",
       "\n",
       "           Junction_Detail Accident_Severity   Latitude  \\\n",
       "0  T or staggered junction           Serious  51.512273   \n",
       "1               Crossroads           Serious  51.514399   \n",
       "2  T or staggered junction            Slight  51.486668   \n",
       "3  T or staggered junction           Serious  51.507804   \n",
       "4               Crossroads           Serious  51.482076   \n",
       "\n",
       "        Light_Conditions Local_Authority_(District) Carriageway_Hazards  ...  \\\n",
       "0               Daylight     Kensington and Chelsea                 NaN  ...   \n",
       "1               Daylight     Kensington and Chelsea                 NaN  ...   \n",
       "2               Daylight     Kensington and Chelsea                 NaN  ...   \n",
       "3               Daylight     Kensington and Chelsea                 NaN  ...   \n",
       "4  Darkness - lights lit     Kensington and Chelsea                 NaN  ...   \n",
       "\n",
       "   Number_of_Casualties  Number_of_Vehicles         Police_Force  \\\n",
       "0                     1                   2  Metropolitan Police   \n",
       "1                    11                   2  Metropolitan Police   \n",
       "2                     1                   2  Metropolitan Police   \n",
       "3                     1                   2  Metropolitan Police   \n",
       "4                     1                   2  Metropolitan Police   \n",
       "\n",
       "  Road_Surface_Conditions           Road_Type Speed_limit      Time  \\\n",
       "0                     Dry      One way street          30  15:11:00   \n",
       "1             Wet or damp  Single carriageway          30  10:59:00   \n",
       "2                     Dry  Single carriageway          30  14:19:00   \n",
       "3            Frost or ice  Single carriageway          30  08:10:00   \n",
       "4                     Dry  Single carriageway          30  17:25:00   \n",
       "\n",
       "  Urban_or_Rural_Area  Weather_Conditions           Vehicle_Type  \n",
       "0               Urban  Fine no high winds                    Car  \n",
       "1               Urban  Fine no high winds  Taxi/Private hire car  \n",
       "2               Urban  Fine no high winds  Taxi/Private hire car  \n",
       "3               Urban               Other  Motorcycle over 500cc  \n",
       "4               Urban  Fine no high winds                    Car  \n",
       "\n",
       "[5 rows x 21 columns]"
      ]
     },
     "execution_count": 4,
     "metadata": {},
     "output_type": "execute_result"
    }
   ],
   "source": [
    "df_raw.head(5)"
   ]
  },
  {
   "cell_type": "markdown",
   "metadata": {},
   "source": [
    "## <span style=\"color:MediumSeaGreen\">Data Cleaning</span>"
   ]
  },
  {
   "cell_type": "code",
   "execution_count": 5,
   "metadata": {},
   "outputs": [
    {
     "data": {
      "text/html": [
       "<div>\n",
       "<style scoped>\n",
       "    .dataframe tbody tr th:only-of-type {\n",
       "        vertical-align: middle;\n",
       "    }\n",
       "\n",
       "    .dataframe tbody tr th {\n",
       "        vertical-align: top;\n",
       "    }\n",
       "\n",
       "    .dataframe thead th {\n",
       "        text-align: right;\n",
       "    }\n",
       "</style>\n",
       "<table border=\"1\" class=\"dataframe\">\n",
       "  <thead>\n",
       "    <tr style=\"text-align: right;\">\n",
       "      <th></th>\n",
       "      <th>Accident_Index</th>\n",
       "      <th>Accident Date</th>\n",
       "      <th>Day_of_Week</th>\n",
       "      <th>Junction_Control</th>\n",
       "      <th>Junction_Detail</th>\n",
       "      <th>Accident_Severity</th>\n",
       "      <th>Latitude</th>\n",
       "      <th>Light_Conditions</th>\n",
       "      <th>Local_Authority_(District)</th>\n",
       "      <th>Carriageway_Hazards</th>\n",
       "      <th>...</th>\n",
       "      <th>Number_of_Casualties</th>\n",
       "      <th>Number_of_Vehicles</th>\n",
       "      <th>Police_Force</th>\n",
       "      <th>Road_Surface_Conditions</th>\n",
       "      <th>Road_Type</th>\n",
       "      <th>Speed_limit</th>\n",
       "      <th>Time</th>\n",
       "      <th>Urban_or_Rural_Area</th>\n",
       "      <th>Weather_Conditions</th>\n",
       "      <th>Vehicle_Type</th>\n",
       "    </tr>\n",
       "  </thead>\n",
       "  <tbody>\n",
       "    <tr>\n",
       "      <th>0</th>\n",
       "      <td>200901BS70001</td>\n",
       "      <td>2021-01-01</td>\n",
       "      <td>Thursday</td>\n",
       "      <td>Give way or uncontrolled</td>\n",
       "      <td>T or staggered junction</td>\n",
       "      <td>Serious</td>\n",
       "      <td>51.512273</td>\n",
       "      <td>Daylight</td>\n",
       "      <td>Kensington and Chelsea</td>\n",
       "      <td>NaN</td>\n",
       "      <td>...</td>\n",
       "      <td>1</td>\n",
       "      <td>2</td>\n",
       "      <td>Metropolitan Police</td>\n",
       "      <td>Dry</td>\n",
       "      <td>One way street</td>\n",
       "      <td>30</td>\n",
       "      <td>15:11:00</td>\n",
       "      <td>Urban</td>\n",
       "      <td>Fine no high winds</td>\n",
       "      <td>Car</td>\n",
       "    </tr>\n",
       "    <tr>\n",
       "      <th>1</th>\n",
       "      <td>200901BS70002</td>\n",
       "      <td>2021-01-05</td>\n",
       "      <td>Monday</td>\n",
       "      <td>Give way or uncontrolled</td>\n",
       "      <td>Crossroads</td>\n",
       "      <td>Serious</td>\n",
       "      <td>51.514399</td>\n",
       "      <td>Daylight</td>\n",
       "      <td>Kensington and Chelsea</td>\n",
       "      <td>NaN</td>\n",
       "      <td>...</td>\n",
       "      <td>11</td>\n",
       "      <td>2</td>\n",
       "      <td>Metropolitan Police</td>\n",
       "      <td>Wet or damp</td>\n",
       "      <td>Single carriageway</td>\n",
       "      <td>30</td>\n",
       "      <td>10:59:00</td>\n",
       "      <td>Urban</td>\n",
       "      <td>Fine no high winds</td>\n",
       "      <td>Taxi/Private hire car</td>\n",
       "    </tr>\n",
       "    <tr>\n",
       "      <th>2</th>\n",
       "      <td>200901BS70003</td>\n",
       "      <td>2021-01-04</td>\n",
       "      <td>Sunday</td>\n",
       "      <td>Give way or uncontrolled</td>\n",
       "      <td>T or staggered junction</td>\n",
       "      <td>Slight</td>\n",
       "      <td>51.486668</td>\n",
       "      <td>Daylight</td>\n",
       "      <td>Kensington and Chelsea</td>\n",
       "      <td>NaN</td>\n",
       "      <td>...</td>\n",
       "      <td>1</td>\n",
       "      <td>2</td>\n",
       "      <td>Metropolitan Police</td>\n",
       "      <td>Dry</td>\n",
       "      <td>Single carriageway</td>\n",
       "      <td>30</td>\n",
       "      <td>14:19:00</td>\n",
       "      <td>Urban</td>\n",
       "      <td>Fine no high winds</td>\n",
       "      <td>Taxi/Private hire car</td>\n",
       "    </tr>\n",
       "    <tr>\n",
       "      <th>3</th>\n",
       "      <td>200901BS70004</td>\n",
       "      <td>2021-01-05</td>\n",
       "      <td>Monday</td>\n",
       "      <td>Auto traffic signal</td>\n",
       "      <td>T or staggered junction</td>\n",
       "      <td>Serious</td>\n",
       "      <td>51.507804</td>\n",
       "      <td>Daylight</td>\n",
       "      <td>Kensington and Chelsea</td>\n",
       "      <td>NaN</td>\n",
       "      <td>...</td>\n",
       "      <td>1</td>\n",
       "      <td>2</td>\n",
       "      <td>Metropolitan Police</td>\n",
       "      <td>Frost or ice</td>\n",
       "      <td>Single carriageway</td>\n",
       "      <td>30</td>\n",
       "      <td>08:10:00</td>\n",
       "      <td>Urban</td>\n",
       "      <td>Other</td>\n",
       "      <td>Motorcycle over 500cc</td>\n",
       "    </tr>\n",
       "    <tr>\n",
       "      <th>4</th>\n",
       "      <td>200901BS70005</td>\n",
       "      <td>2021-01-06</td>\n",
       "      <td>Tuesday</td>\n",
       "      <td>Auto traffic signal</td>\n",
       "      <td>Crossroads</td>\n",
       "      <td>Serious</td>\n",
       "      <td>51.482076</td>\n",
       "      <td>Darkness - lights lit</td>\n",
       "      <td>Kensington and Chelsea</td>\n",
       "      <td>NaN</td>\n",
       "      <td>...</td>\n",
       "      <td>1</td>\n",
       "      <td>2</td>\n",
       "      <td>Metropolitan Police</td>\n",
       "      <td>Dry</td>\n",
       "      <td>Single carriageway</td>\n",
       "      <td>30</td>\n",
       "      <td>17:25:00</td>\n",
       "      <td>Urban</td>\n",
       "      <td>Fine no high winds</td>\n",
       "      <td>Car</td>\n",
       "    </tr>\n",
       "  </tbody>\n",
       "</table>\n",
       "<p>5 rows × 21 columns</p>\n",
       "</div>"
      ],
      "text/plain": [
       "  Accident_Index Accident Date Day_of_Week          Junction_Control  \\\n",
       "0  200901BS70001    2021-01-01    Thursday  Give way or uncontrolled   \n",
       "1  200901BS70002    2021-01-05      Monday  Give way or uncontrolled   \n",
       "2  200901BS70003    2021-01-04      Sunday  Give way or uncontrolled   \n",
       "3  200901BS70004    2021-01-05      Monday       Auto traffic signal   \n",
       "4  200901BS70005    2021-01-06     Tuesday       Auto traffic signal   \n",
       "\n",
       "           Junction_Detail Accident_Severity   Latitude  \\\n",
       "0  T or staggered junction           Serious  51.512273   \n",
       "1               Crossroads           Serious  51.514399   \n",
       "2  T or staggered junction            Slight  51.486668   \n",
       "3  T or staggered junction           Serious  51.507804   \n",
       "4               Crossroads           Serious  51.482076   \n",
       "\n",
       "        Light_Conditions Local_Authority_(District) Carriageway_Hazards  ...  \\\n",
       "0               Daylight     Kensington and Chelsea                 NaN  ...   \n",
       "1               Daylight     Kensington and Chelsea                 NaN  ...   \n",
       "2               Daylight     Kensington and Chelsea                 NaN  ...   \n",
       "3               Daylight     Kensington and Chelsea                 NaN  ...   \n",
       "4  Darkness - lights lit     Kensington and Chelsea                 NaN  ...   \n",
       "\n",
       "   Number_of_Casualties  Number_of_Vehicles         Police_Force  \\\n",
       "0                     1                   2  Metropolitan Police   \n",
       "1                    11                   2  Metropolitan Police   \n",
       "2                     1                   2  Metropolitan Police   \n",
       "3                     1                   2  Metropolitan Police   \n",
       "4                     1                   2  Metropolitan Police   \n",
       "\n",
       "  Road_Surface_Conditions           Road_Type Speed_limit      Time  \\\n",
       "0                     Dry      One way street          30  15:11:00   \n",
       "1             Wet or damp  Single carriageway          30  10:59:00   \n",
       "2                     Dry  Single carriageway          30  14:19:00   \n",
       "3            Frost or ice  Single carriageway          30  08:10:00   \n",
       "4                     Dry  Single carriageway          30  17:25:00   \n",
       "\n",
       "  Urban_or_Rural_Area  Weather_Conditions           Vehicle_Type  \n",
       "0               Urban  Fine no high winds                    Car  \n",
       "1               Urban  Fine no high winds  Taxi/Private hire car  \n",
       "2               Urban  Fine no high winds  Taxi/Private hire car  \n",
       "3               Urban               Other  Motorcycle over 500cc  \n",
       "4               Urban  Fine no high winds                    Car  \n",
       "\n",
       "[5 rows x 21 columns]"
      ]
     },
     "execution_count": 5,
     "metadata": {},
     "output_type": "execute_result"
    }
   ],
   "source": [
    "df_unclean = df_raw\n",
    "df_unclean.head()"
   ]
  },
  {
   "cell_type": "code",
   "execution_count": 6,
   "metadata": {},
   "outputs": [],
   "source": [
    "# Remove column names not needed in analysis\n",
    "\n",
    "columns_to_drop = ['Local_Authority_(District)', 'Carriageway_Hazards', 'Accident_Index', 'Latitude', 'Longitude', 'Carriageway_Hazards', 'Number_of_Vehicles', 'Police_Force', 'Speed_limit', 'Time', 'Weather_Conditions', 'Junction_Control', 'Junction_Detail']\n",
    "\n",
    "# Checking if column name exist before droping it\n",
    "for column in columns_to_drop:\n",
    "    if column in df_unclean.columns:\n",
    "        df_unclean = df_unclean.drop(columns = column)\n"
   ]
  },
  {
   "cell_type": "code",
   "execution_count": 7,
   "metadata": {},
   "outputs": [],
   "source": [
    "# Rename column name\n",
    "\n",
    "column_names = [ 'date', 'day', 'severity', 'light_condition', 'number_of_casualties', 'road_condition', 'road_type', 'location', 'vehicle_type']\n",
    "\n",
    "df_unclean.columns = column_names"
   ]
  },
  {
   "cell_type": "markdown",
   "metadata": {},
   "source": [
    "<span style=\"color:#f39c12\"> Clean Date <span>"
   ]
  },
  {
   "cell_type": "code",
   "execution_count": 8,
   "metadata": {},
   "outputs": [],
   "source": [
    "# Create a column for year\n",
    "df_unclean['year'] = pd.to_datetime(df_unclean['date']).dt.year\n",
    "df_unclean['month'] = pd.to_datetime(df_unclean['date']).dt.strftime('%b')\n"
   ]
  },
  {
   "cell_type": "code",
   "execution_count": 9,
   "metadata": {},
   "outputs": [],
   "source": [
    "# Reorder coumns. Excluded date\n",
    "df_unclean = df_unclean[['year', 'month', 'day', 'severity', 'light_condition', 'number_of_casualties', 'road_condition', 'road_type', 'location', 'vehicle_type']]\n",
    "\n",
    "df_unclean = df_unclean.set_index('year').sort_index()"
   ]
  },
  {
   "cell_type": "code",
   "execution_count": 10,
   "metadata": {},
   "outputs": [
    {
     "data": {
      "text/html": [
       "<div>\n",
       "<style scoped>\n",
       "    .dataframe tbody tr th:only-of-type {\n",
       "        vertical-align: middle;\n",
       "    }\n",
       "\n",
       "    .dataframe tbody tr th {\n",
       "        vertical-align: top;\n",
       "    }\n",
       "\n",
       "    .dataframe thead th {\n",
       "        text-align: right;\n",
       "    }\n",
       "</style>\n",
       "<table border=\"1\" class=\"dataframe\">\n",
       "  <thead>\n",
       "    <tr style=\"text-align: right;\">\n",
       "      <th></th>\n",
       "      <th>month</th>\n",
       "      <th>day</th>\n",
       "      <th>severity</th>\n",
       "      <th>light_condition</th>\n",
       "      <th>number_of_casualties</th>\n",
       "      <th>road_condition</th>\n",
       "      <th>road_type</th>\n",
       "      <th>location</th>\n",
       "      <th>vehicle_type</th>\n",
       "    </tr>\n",
       "    <tr>\n",
       "      <th>year</th>\n",
       "      <th></th>\n",
       "      <th></th>\n",
       "      <th></th>\n",
       "      <th></th>\n",
       "      <th></th>\n",
       "      <th></th>\n",
       "      <th></th>\n",
       "      <th></th>\n",
       "      <th></th>\n",
       "    </tr>\n",
       "  </thead>\n",
       "  <tbody>\n",
       "    <tr>\n",
       "      <th>2021</th>\n",
       "      <td>Jan</td>\n",
       "      <td>Thursday</td>\n",
       "      <td>Serious</td>\n",
       "      <td>Daylight</td>\n",
       "      <td>1</td>\n",
       "      <td>Dry</td>\n",
       "      <td>One way street</td>\n",
       "      <td>Urban</td>\n",
       "      <td>Car</td>\n",
       "    </tr>\n",
       "    <tr>\n",
       "      <th>2021</th>\n",
       "      <td>Jan</td>\n",
       "      <td>Monday</td>\n",
       "      <td>Serious</td>\n",
       "      <td>Daylight</td>\n",
       "      <td>11</td>\n",
       "      <td>Wet or damp</td>\n",
       "      <td>Single carriageway</td>\n",
       "      <td>Urban</td>\n",
       "      <td>Taxi/Private hire car</td>\n",
       "    </tr>\n",
       "    <tr>\n",
       "      <th>2021</th>\n",
       "      <td>Jan</td>\n",
       "      <td>Sunday</td>\n",
       "      <td>Slight</td>\n",
       "      <td>Daylight</td>\n",
       "      <td>1</td>\n",
       "      <td>Dry</td>\n",
       "      <td>Single carriageway</td>\n",
       "      <td>Urban</td>\n",
       "      <td>Taxi/Private hire car</td>\n",
       "    </tr>\n",
       "    <tr>\n",
       "      <th>2021</th>\n",
       "      <td>Jan</td>\n",
       "      <td>Monday</td>\n",
       "      <td>Serious</td>\n",
       "      <td>Daylight</td>\n",
       "      <td>1</td>\n",
       "      <td>Frost or ice</td>\n",
       "      <td>Single carriageway</td>\n",
       "      <td>Urban</td>\n",
       "      <td>Motorcycle over 500cc</td>\n",
       "    </tr>\n",
       "    <tr>\n",
       "      <th>2021</th>\n",
       "      <td>Jan</td>\n",
       "      <td>Tuesday</td>\n",
       "      <td>Serious</td>\n",
       "      <td>Darkness - lights lit</td>\n",
       "      <td>1</td>\n",
       "      <td>Dry</td>\n",
       "      <td>Single carriageway</td>\n",
       "      <td>Urban</td>\n",
       "      <td>Car</td>\n",
       "    </tr>\n",
       "  </tbody>\n",
       "</table>\n",
       "</div>"
      ],
      "text/plain": [
       "     month       day severity        light_condition  number_of_casualties  \\\n",
       "year                                                                         \n",
       "2021   Jan  Thursday  Serious               Daylight                     1   \n",
       "2021   Jan    Monday  Serious               Daylight                    11   \n",
       "2021   Jan    Sunday   Slight               Daylight                     1   \n",
       "2021   Jan    Monday  Serious               Daylight                     1   \n",
       "2021   Jan   Tuesday  Serious  Darkness - lights lit                     1   \n",
       "\n",
       "     road_condition           road_type location           vehicle_type  \n",
       "year                                                                     \n",
       "2021            Dry      One way street    Urban                    Car  \n",
       "2021    Wet or damp  Single carriageway    Urban  Taxi/Private hire car  \n",
       "2021            Dry  Single carriageway    Urban  Taxi/Private hire car  \n",
       "2021   Frost or ice  Single carriageway    Urban  Motorcycle over 500cc  \n",
       "2021            Dry  Single carriageway    Urban                    Car  "
      ]
     },
     "execution_count": 10,
     "metadata": {},
     "output_type": "execute_result"
    }
   ],
   "source": [
    "df_unclean.head()"
   ]
  },
  {
   "cell_type": "markdown",
   "metadata": {},
   "source": [
    "<span style=\"color:#f39c12\"> Clean Severity <span>"
   ]
  },
  {
   "cell_type": "code",
   "execution_count": 11,
   "metadata": {},
   "outputs": [
    {
     "name": "stdout",
     "output_type": "stream",
     "text": [
      "['Serious' 'Slight' 'Fetal' 'Fatal']\n"
     ]
    }
   ],
   "source": [
    "# Get distinct values in the severity column\n",
    "print(df_unclean['severity'].unique())"
   ]
  },
  {
   "cell_type": "code",
   "execution_count": 12,
   "metadata": {},
   "outputs": [
    {
     "name": "stdout",
     "output_type": "stream",
     "text": [
      "['Serious' 'Slight' 'Fatal']\n"
     ]
    }
   ],
   "source": [
    "# Clean up severity column with replacement of values\n",
    "if 'Fetal' in df_unclean['severity'].values:\n",
    "    df_unclean.loc[df_unclean['severity'] == 'Fetal', 'severity'] = 'Fatal'\n",
    "\n",
    "print(df_unclean['severity'].unique())"
   ]
  },
  {
   "cell_type": "markdown",
   "metadata": {},
   "source": [
    "<div style=\"color:DarkOrange\">Light Condition</div>"
   ]
  },
  {
   "cell_type": "code",
   "execution_count": 13,
   "metadata": {},
   "outputs": [
    {
     "name": "stdout",
     "output_type": "stream",
     "text": [
      "['Daylight' 'Darkness - lights lit' 'Darkness - lighting unknown'\n",
      " 'Darkness - lights unlit' 'Darkness - no lighting']\n"
     ]
    }
   ],
   "source": [
    "# Get distinct values in the light condition column\n",
    "print(df_unclean['light_condition'].unique())"
   ]
  },
  {
   "cell_type": "code",
   "execution_count": 14,
   "metadata": {},
   "outputs": [],
   "source": [
    "# Clean up light condition column with replacement of values\n",
    "light_condition_darkness_errors = ['Darkness - lights lit', 'Darkness - lighting unknown',\n",
    "       'Darkness - lights unlit', 'Darkness - no lighting']\n",
    "\n",
    "for error in light_condition_darkness_errors:\n",
    "    if error in df_unclean['light_condition'].values:\n",
    "        df_unclean.loc[df_unclean['light_condition'] == error, 'light_condition'] = 'Darkness'"
   ]
  },
  {
   "cell_type": "code",
   "execution_count": 15,
   "metadata": {},
   "outputs": [
    {
     "name": "stdout",
     "output_type": "stream",
     "text": [
      "['Daylight' 'Darkness']\n"
     ]
    }
   ],
   "source": [
    "print(df_unclean['light_condition'].unique())"
   ]
  },
  {
   "cell_type": "markdown",
   "metadata": {},
   "source": [
    "<div style=\"color:DarkOrange\"> Clean number of casualties </div>"
   ]
  },
  {
   "cell_type": "code",
   "execution_count": 16,
   "metadata": {},
   "outputs": [
    {
     "name": "stdout",
     "output_type": "stream",
     "text": [
      "[1, 2, 3, 4, 5, 6, 7, 8, 9, 10, 11, 12, 13, 14, 15, 16, 17, 18, 19, 21, 22, 24, 26, 27, 40, 42, 43, 48]\n"
     ]
    }
   ],
   "source": [
    "# Sort and print out unique values\n",
    "distinct_num_of_casualties = [int(value) for value in df_unclean['number_of_casualties'].unique()]\n",
    "print(sorted(distinct_num_of_casualties))"
   ]
  },
  {
   "cell_type": "code",
   "execution_count": 17,
   "metadata": {},
   "outputs": [
    {
     "data": {
      "text/html": [
       "<div>\n",
       "<style scoped>\n",
       "    .dataframe tbody tr th:only-of-type {\n",
       "        vertical-align: middle;\n",
       "    }\n",
       "\n",
       "    .dataframe tbody tr th {\n",
       "        vertical-align: top;\n",
       "    }\n",
       "\n",
       "    .dataframe thead th {\n",
       "        text-align: right;\n",
       "    }\n",
       "</style>\n",
       "<table border=\"1\" class=\"dataframe\">\n",
       "  <thead>\n",
       "    <tr style=\"text-align: right;\">\n",
       "      <th></th>\n",
       "      <th>month</th>\n",
       "      <th>day</th>\n",
       "      <th>severity</th>\n",
       "      <th>light_condition</th>\n",
       "      <th>number_of_casualties</th>\n",
       "      <th>road_condition</th>\n",
       "      <th>road_type</th>\n",
       "      <th>location</th>\n",
       "      <th>vehicle_type</th>\n",
       "    </tr>\n",
       "    <tr>\n",
       "      <th>year</th>\n",
       "      <th></th>\n",
       "      <th></th>\n",
       "      <th></th>\n",
       "      <th></th>\n",
       "      <th></th>\n",
       "      <th></th>\n",
       "      <th></th>\n",
       "      <th></th>\n",
       "      <th></th>\n",
       "    </tr>\n",
       "  </thead>\n",
       "  <tbody>\n",
       "    <tr>\n",
       "      <th>2021</th>\n",
       "      <td>Jan</td>\n",
       "      <td>Thursday</td>\n",
       "      <td>Serious</td>\n",
       "      <td>Daylight</td>\n",
       "      <td>1</td>\n",
       "      <td>Dry</td>\n",
       "      <td>One way street</td>\n",
       "      <td>Urban</td>\n",
       "      <td>Car</td>\n",
       "    </tr>\n",
       "    <tr>\n",
       "      <th>2021</th>\n",
       "      <td>Jan</td>\n",
       "      <td>Monday</td>\n",
       "      <td>Serious</td>\n",
       "      <td>Daylight</td>\n",
       "      <td>11</td>\n",
       "      <td>Wet or damp</td>\n",
       "      <td>Single carriageway</td>\n",
       "      <td>Urban</td>\n",
       "      <td>Taxi/Private hire car</td>\n",
       "    </tr>\n",
       "    <tr>\n",
       "      <th>2021</th>\n",
       "      <td>Jan</td>\n",
       "      <td>Sunday</td>\n",
       "      <td>Slight</td>\n",
       "      <td>Daylight</td>\n",
       "      <td>1</td>\n",
       "      <td>Dry</td>\n",
       "      <td>Single carriageway</td>\n",
       "      <td>Urban</td>\n",
       "      <td>Taxi/Private hire car</td>\n",
       "    </tr>\n",
       "    <tr>\n",
       "      <th>2021</th>\n",
       "      <td>Jan</td>\n",
       "      <td>Monday</td>\n",
       "      <td>Serious</td>\n",
       "      <td>Daylight</td>\n",
       "      <td>1</td>\n",
       "      <td>Frost or ice</td>\n",
       "      <td>Single carriageway</td>\n",
       "      <td>Urban</td>\n",
       "      <td>Motorcycle over 500cc</td>\n",
       "    </tr>\n",
       "    <tr>\n",
       "      <th>2021</th>\n",
       "      <td>Jan</td>\n",
       "      <td>Tuesday</td>\n",
       "      <td>Serious</td>\n",
       "      <td>Darkness</td>\n",
       "      <td>1</td>\n",
       "      <td>Dry</td>\n",
       "      <td>Single carriageway</td>\n",
       "      <td>Urban</td>\n",
       "      <td>Car</td>\n",
       "    </tr>\n",
       "  </tbody>\n",
       "</table>\n",
       "</div>"
      ],
      "text/plain": [
       "     month       day severity light_condition  number_of_casualties  \\\n",
       "year                                                                  \n",
       "2021   Jan  Thursday  Serious        Daylight                     1   \n",
       "2021   Jan    Monday  Serious        Daylight                    11   \n",
       "2021   Jan    Sunday   Slight        Daylight                     1   \n",
       "2021   Jan    Monday  Serious        Daylight                     1   \n",
       "2021   Jan   Tuesday  Serious        Darkness                     1   \n",
       "\n",
       "     road_condition           road_type location           vehicle_type  \n",
       "year                                                                     \n",
       "2021            Dry      One way street    Urban                    Car  \n",
       "2021    Wet or damp  Single carriageway    Urban  Taxi/Private hire car  \n",
       "2021            Dry  Single carriageway    Urban  Taxi/Private hire car  \n",
       "2021   Frost or ice  Single carriageway    Urban  Motorcycle over 500cc  \n",
       "2021            Dry  Single carriageway    Urban                    Car  "
      ]
     },
     "execution_count": 17,
     "metadata": {},
     "output_type": "execute_result"
    }
   ],
   "source": [
    "df_unclean.head()"
   ]
  },
  {
   "cell_type": "markdown",
   "metadata": {},
   "source": [
    "<div style=\"color:DarkOrange\">Clean Road Condition</div>"
   ]
  },
  {
   "cell_type": "code",
   "execution_count": 18,
   "metadata": {},
   "outputs": [
    {
     "name": "stdout",
     "output_type": "stream",
     "text": [
      "['Dry' 'Wet or damp' 'Frost or ice' 'Snow' 'Flood over 3cm. deep' nan]\n"
     ]
    }
   ],
   "source": [
    "print(df_unclean['road_condition'].unique())"
   ]
  },
  {
   "cell_type": "code",
   "execution_count": 19,
   "metadata": {},
   "outputs": [],
   "source": [
    "# Clean up road condition column with replacement of values\n",
    "road_condition_values = {'Wet or damp':'Damp', 'Frost or ice':'Frost', 'Flood over 3cm. deep': 'Flood'}\n",
    "for condition in road_condition_values.keys():\n",
    "    if condition in df_unclean['road_condition'].values:\n",
    "        df_unclean.loc[df_unclean['road_condition'] == condition,'road_condition'] = road_condition_values[condition]"
   ]
  },
  {
   "cell_type": "code",
   "execution_count": 20,
   "metadata": {},
   "outputs": [
    {
     "name": "stdout",
     "output_type": "stream",
     "text": [
      "['Dry' 'Damp' 'Frost' 'Snow' 'Flood' 'Unknown']\n"
     ]
    }
   ],
   "source": [
    "# Replace empty/nan value with 'Unknown'\n",
    "df_unclean['road_condition'] = df_unclean['road_condition'].fillna('Unknown')\n",
    "print(df_unclean['road_condition'].unique())"
   ]
  },
  {
   "cell_type": "markdown",
   "metadata": {},
   "source": [
    "<div style=\"color:DarkOrange\"> Clean Road Type </div>"
   ]
  },
  {
   "cell_type": "code",
   "execution_count": 21,
   "metadata": {},
   "outputs": [
    {
     "name": "stdout",
     "output_type": "stream",
     "text": [
      "['One way street' 'Single carriageway' 'Dual carriageway' 'Roundabout'\n",
      " 'Slip road' nan]\n"
     ]
    }
   ],
   "source": [
    "print(df_unclean['road_type'].unique())"
   ]
  },
  {
   "cell_type": "code",
   "execution_count": 22,
   "metadata": {},
   "outputs": [
    {
     "name": "stdout",
     "output_type": "stream",
     "text": [
      "['One way street' 'Single carriageway' 'Dual carriageway' 'Roundabout'\n",
      " 'Slip road' 'Unknown']\n"
     ]
    }
   ],
   "source": [
    "# Replace empty/nan value with 'Unknown'\n",
    "\n",
    "df_unclean['road_type'] = df_unclean['road_type'].fillna('Unknown')\n",
    "print(df_unclean['road_type'].unique())"
   ]
  },
  {
   "cell_type": "code",
   "execution_count": 23,
   "metadata": {},
   "outputs": [
    {
     "data": {
      "text/html": [
       "<div>\n",
       "<style scoped>\n",
       "    .dataframe tbody tr th:only-of-type {\n",
       "        vertical-align: middle;\n",
       "    }\n",
       "\n",
       "    .dataframe tbody tr th {\n",
       "        vertical-align: top;\n",
       "    }\n",
       "\n",
       "    .dataframe thead th {\n",
       "        text-align: right;\n",
       "    }\n",
       "</style>\n",
       "<table border=\"1\" class=\"dataframe\">\n",
       "  <thead>\n",
       "    <tr style=\"text-align: right;\">\n",
       "      <th></th>\n",
       "      <th>month</th>\n",
       "      <th>day</th>\n",
       "      <th>severity</th>\n",
       "      <th>light_condition</th>\n",
       "      <th>number_of_casualties</th>\n",
       "      <th>road_condition</th>\n",
       "      <th>road_type</th>\n",
       "      <th>location</th>\n",
       "      <th>vehicle_type</th>\n",
       "    </tr>\n",
       "    <tr>\n",
       "      <th>year</th>\n",
       "      <th></th>\n",
       "      <th></th>\n",
       "      <th></th>\n",
       "      <th></th>\n",
       "      <th></th>\n",
       "      <th></th>\n",
       "      <th></th>\n",
       "      <th></th>\n",
       "      <th></th>\n",
       "    </tr>\n",
       "  </thead>\n",
       "  <tbody>\n",
       "    <tr>\n",
       "      <th>2021</th>\n",
       "      <td>Jan</td>\n",
       "      <td>Thursday</td>\n",
       "      <td>Serious</td>\n",
       "      <td>Daylight</td>\n",
       "      <td>1</td>\n",
       "      <td>Dry</td>\n",
       "      <td>One way street</td>\n",
       "      <td>Urban</td>\n",
       "      <td>Car</td>\n",
       "    </tr>\n",
       "    <tr>\n",
       "      <th>2021</th>\n",
       "      <td>Jan</td>\n",
       "      <td>Monday</td>\n",
       "      <td>Serious</td>\n",
       "      <td>Daylight</td>\n",
       "      <td>11</td>\n",
       "      <td>Damp</td>\n",
       "      <td>Single carriageway</td>\n",
       "      <td>Urban</td>\n",
       "      <td>Taxi/Private hire car</td>\n",
       "    </tr>\n",
       "    <tr>\n",
       "      <th>2021</th>\n",
       "      <td>Jan</td>\n",
       "      <td>Sunday</td>\n",
       "      <td>Slight</td>\n",
       "      <td>Daylight</td>\n",
       "      <td>1</td>\n",
       "      <td>Dry</td>\n",
       "      <td>Single carriageway</td>\n",
       "      <td>Urban</td>\n",
       "      <td>Taxi/Private hire car</td>\n",
       "    </tr>\n",
       "    <tr>\n",
       "      <th>2021</th>\n",
       "      <td>Jan</td>\n",
       "      <td>Monday</td>\n",
       "      <td>Serious</td>\n",
       "      <td>Daylight</td>\n",
       "      <td>1</td>\n",
       "      <td>Frost</td>\n",
       "      <td>Single carriageway</td>\n",
       "      <td>Urban</td>\n",
       "      <td>Motorcycle over 500cc</td>\n",
       "    </tr>\n",
       "    <tr>\n",
       "      <th>2021</th>\n",
       "      <td>Jan</td>\n",
       "      <td>Tuesday</td>\n",
       "      <td>Serious</td>\n",
       "      <td>Darkness</td>\n",
       "      <td>1</td>\n",
       "      <td>Dry</td>\n",
       "      <td>Single carriageway</td>\n",
       "      <td>Urban</td>\n",
       "      <td>Car</td>\n",
       "    </tr>\n",
       "  </tbody>\n",
       "</table>\n",
       "</div>"
      ],
      "text/plain": [
       "     month       day severity light_condition  number_of_casualties  \\\n",
       "year                                                                  \n",
       "2021   Jan  Thursday  Serious        Daylight                     1   \n",
       "2021   Jan    Monday  Serious        Daylight                    11   \n",
       "2021   Jan    Sunday   Slight        Daylight                     1   \n",
       "2021   Jan    Monday  Serious        Daylight                     1   \n",
       "2021   Jan   Tuesday  Serious        Darkness                     1   \n",
       "\n",
       "     road_condition           road_type location           vehicle_type  \n",
       "year                                                                     \n",
       "2021            Dry      One way street    Urban                    Car  \n",
       "2021           Damp  Single carriageway    Urban  Taxi/Private hire car  \n",
       "2021            Dry  Single carriageway    Urban  Taxi/Private hire car  \n",
       "2021          Frost  Single carriageway    Urban  Motorcycle over 500cc  \n",
       "2021            Dry  Single carriageway    Urban                    Car  "
      ]
     },
     "execution_count": 23,
     "metadata": {},
     "output_type": "execute_result"
    }
   ],
   "source": [
    "df_unclean.head()"
   ]
  },
  {
   "cell_type": "markdown",
   "metadata": {},
   "source": [
    "<div style=\"color:DarkOrange\" > Clean Vehicle Type </div>"
   ]
  },
  {
   "cell_type": "code",
   "execution_count": 24,
   "metadata": {},
   "outputs": [
    {
     "name": "stdout",
     "output_type": "stream",
     "text": [
      "['Car' 'Taxi/Private hire car' 'Motorcycle over 500cc'\n",
      " 'Van / Goods 3.5 tonnes mgw or under' 'Goods over 3.5t. and under 7.5t'\n",
      " 'Motorcycle 125cc and under' 'Motorcycle 50cc and under'\n",
      " 'Bus or coach (17 or more pass seats)' 'Goods 7.5 tonnes mgw and over'\n",
      " 'Other vehicle' 'Motorcycle over 125cc and up to 500cc'\n",
      " 'Agricultural vehicle' 'Minibus (8 - 16 passenger seats)' 'Pedal cycle'\n",
      " 'Ridden horse']\n"
     ]
    }
   ],
   "source": [
    "print(df_unclean['vehicle_type'].unique())"
   ]
  },
  {
   "cell_type": "code",
   "execution_count": 25,
   "metadata": {},
   "outputs": [],
   "source": [
    "vehicle_type_name_maintain = ['Car', 'Other vehicle', 'Agricultural vehicle', 'Pedal cycle',\n",
    " 'Ridden horse']\n",
    "vehicle_type_name_to_change = {'Taxi/Private hire car' : 'Taxi', 'Motorcycle over 500cc' : 'Motocycle', 'Van / Goods 3.5 tonnes mgw or under' : 'Van', 'Motorcycle 125cc and under' : 'Motocycle', 'Motorcycle 50cc and under' : 'Motocycle', 'Bus or coach (17 or more pass seats)' : 'Bus', 'Motorcycle over 125cc and up to 500cc' : 'Motocycle', 'Minibus (8 - 16 passenger seats)' : 'Bus', 'Goods over 3.5t. and under 7.5t' : 'Other vehicle', 'Goods 7.5 tonnes mgw and over':'Other vehicle'\n",
    "}\n",
    "\n",
    "for vehicle_name in vehicle_type_name_to_change.keys():\n",
    "    if vehicle_name in df_unclean['vehicle_type'].values:\n",
    "        df_unclean.loc[df_unclean['vehicle_type'] == vehicle_name, 'vehicle_type'] = vehicle_type_name_to_change[vehicle_name]"
   ]
  },
  {
   "cell_type": "code",
   "execution_count": 26,
   "metadata": {},
   "outputs": [
    {
     "name": "stdout",
     "output_type": "stream",
     "text": [
      "['Car' 'Taxi' 'Motocycle' 'Van' 'Other vehicle' 'Bus'\n",
      " 'Agricultural vehicle' 'Pedal cycle' 'Ridden horse']\n"
     ]
    }
   ],
   "source": [
    "print(df_unclean['vehicle_type'].unique())"
   ]
  },
  {
   "cell_type": "markdown",
   "metadata": {},
   "source": [
    "<div style=\"color:DarkOrange\"> Assign Cleaned Data </div>"
   ]
  },
  {
   "cell_type": "code",
   "execution_count": 27,
   "metadata": {},
   "outputs": [
    {
     "data": {
      "text/html": [
       "<div>\n",
       "<style scoped>\n",
       "    .dataframe tbody tr th:only-of-type {\n",
       "        vertical-align: middle;\n",
       "    }\n",
       "\n",
       "    .dataframe tbody tr th {\n",
       "        vertical-align: top;\n",
       "    }\n",
       "\n",
       "    .dataframe thead th {\n",
       "        text-align: right;\n",
       "    }\n",
       "</style>\n",
       "<table border=\"1\" class=\"dataframe\">\n",
       "  <thead>\n",
       "    <tr style=\"text-align: right;\">\n",
       "      <th></th>\n",
       "      <th>month</th>\n",
       "      <th>day</th>\n",
       "      <th>severity</th>\n",
       "      <th>light_condition</th>\n",
       "      <th>number_of_casualties</th>\n",
       "      <th>road_condition</th>\n",
       "      <th>road_type</th>\n",
       "      <th>location</th>\n",
       "      <th>vehicle_type</th>\n",
       "    </tr>\n",
       "    <tr>\n",
       "      <th>year</th>\n",
       "      <th></th>\n",
       "      <th></th>\n",
       "      <th></th>\n",
       "      <th></th>\n",
       "      <th></th>\n",
       "      <th></th>\n",
       "      <th></th>\n",
       "      <th></th>\n",
       "      <th></th>\n",
       "    </tr>\n",
       "  </thead>\n",
       "  <tbody>\n",
       "    <tr>\n",
       "      <th>2021</th>\n",
       "      <td>Jan</td>\n",
       "      <td>Thursday</td>\n",
       "      <td>Serious</td>\n",
       "      <td>Daylight</td>\n",
       "      <td>1</td>\n",
       "      <td>Dry</td>\n",
       "      <td>One way street</td>\n",
       "      <td>Urban</td>\n",
       "      <td>Car</td>\n",
       "    </tr>\n",
       "    <tr>\n",
       "      <th>2021</th>\n",
       "      <td>Jan</td>\n",
       "      <td>Monday</td>\n",
       "      <td>Serious</td>\n",
       "      <td>Daylight</td>\n",
       "      <td>11</td>\n",
       "      <td>Damp</td>\n",
       "      <td>Single carriageway</td>\n",
       "      <td>Urban</td>\n",
       "      <td>Taxi</td>\n",
       "    </tr>\n",
       "    <tr>\n",
       "      <th>2021</th>\n",
       "      <td>Jan</td>\n",
       "      <td>Sunday</td>\n",
       "      <td>Slight</td>\n",
       "      <td>Daylight</td>\n",
       "      <td>1</td>\n",
       "      <td>Dry</td>\n",
       "      <td>Single carriageway</td>\n",
       "      <td>Urban</td>\n",
       "      <td>Taxi</td>\n",
       "    </tr>\n",
       "    <tr>\n",
       "      <th>2021</th>\n",
       "      <td>Jan</td>\n",
       "      <td>Monday</td>\n",
       "      <td>Serious</td>\n",
       "      <td>Daylight</td>\n",
       "      <td>1</td>\n",
       "      <td>Frost</td>\n",
       "      <td>Single carriageway</td>\n",
       "      <td>Urban</td>\n",
       "      <td>Motocycle</td>\n",
       "    </tr>\n",
       "    <tr>\n",
       "      <th>2021</th>\n",
       "      <td>Jan</td>\n",
       "      <td>Tuesday</td>\n",
       "      <td>Serious</td>\n",
       "      <td>Darkness</td>\n",
       "      <td>1</td>\n",
       "      <td>Dry</td>\n",
       "      <td>Single carriageway</td>\n",
       "      <td>Urban</td>\n",
       "      <td>Car</td>\n",
       "    </tr>\n",
       "    <tr>\n",
       "      <th>...</th>\n",
       "      <td>...</td>\n",
       "      <td>...</td>\n",
       "      <td>...</td>\n",
       "      <td>...</td>\n",
       "      <td>...</td>\n",
       "      <td>...</td>\n",
       "      <td>...</td>\n",
       "      <td>...</td>\n",
       "      <td>...</td>\n",
       "    </tr>\n",
       "    <tr>\n",
       "      <th>2022</th>\n",
       "      <td>Feb</td>\n",
       "      <td>Thursday</td>\n",
       "      <td>Slight</td>\n",
       "      <td>Daylight</td>\n",
       "      <td>2</td>\n",
       "      <td>Dry</td>\n",
       "      <td>Single carriageway</td>\n",
       "      <td>Rural</td>\n",
       "      <td>Car</td>\n",
       "    </tr>\n",
       "    <tr>\n",
       "      <th>2022</th>\n",
       "      <td>Feb</td>\n",
       "      <td>Sunday</td>\n",
       "      <td>Slight</td>\n",
       "      <td>Darkness</td>\n",
       "      <td>1</td>\n",
       "      <td>Frost</td>\n",
       "      <td>Single carriageway</td>\n",
       "      <td>Rural</td>\n",
       "      <td>Car</td>\n",
       "    </tr>\n",
       "    <tr>\n",
       "      <th>2022</th>\n",
       "      <td>Feb</td>\n",
       "      <td>Tuesday</td>\n",
       "      <td>Slight</td>\n",
       "      <td>Daylight</td>\n",
       "      <td>1</td>\n",
       "      <td>Frost</td>\n",
       "      <td>Single carriageway</td>\n",
       "      <td>Rural</td>\n",
       "      <td>Car</td>\n",
       "    </tr>\n",
       "    <tr>\n",
       "      <th>2022</th>\n",
       "      <td>Feb</td>\n",
       "      <td>Tuesday</td>\n",
       "      <td>Serious</td>\n",
       "      <td>Darkness</td>\n",
       "      <td>1</td>\n",
       "      <td>Damp</td>\n",
       "      <td>Single carriageway</td>\n",
       "      <td>Rural</td>\n",
       "      <td>Motocycle</td>\n",
       "    </tr>\n",
       "    <tr>\n",
       "      <th>2022</th>\n",
       "      <td>Feb</td>\n",
       "      <td>Sunday</td>\n",
       "      <td>Serious</td>\n",
       "      <td>Daylight</td>\n",
       "      <td>1</td>\n",
       "      <td>Damp</td>\n",
       "      <td>Dual carriageway</td>\n",
       "      <td>Rural</td>\n",
       "      <td>Car</td>\n",
       "    </tr>\n",
       "  </tbody>\n",
       "</table>\n",
       "<p>307973 rows × 9 columns</p>\n",
       "</div>"
      ],
      "text/plain": [
       "     month       day severity light_condition  number_of_casualties  \\\n",
       "year                                                                  \n",
       "2021   Jan  Thursday  Serious        Daylight                     1   \n",
       "2021   Jan    Monday  Serious        Daylight                    11   \n",
       "2021   Jan    Sunday   Slight        Daylight                     1   \n",
       "2021   Jan    Monday  Serious        Daylight                     1   \n",
       "2021   Jan   Tuesday  Serious        Darkness                     1   \n",
       "...    ...       ...      ...             ...                   ...   \n",
       "2022   Feb  Thursday   Slight        Daylight                     2   \n",
       "2022   Feb    Sunday   Slight        Darkness                     1   \n",
       "2022   Feb   Tuesday   Slight        Daylight                     1   \n",
       "2022   Feb   Tuesday  Serious        Darkness                     1   \n",
       "2022   Feb    Sunday  Serious        Daylight                     1   \n",
       "\n",
       "     road_condition           road_type location vehicle_type  \n",
       "year                                                           \n",
       "2021            Dry      One way street    Urban          Car  \n",
       "2021           Damp  Single carriageway    Urban         Taxi  \n",
       "2021            Dry  Single carriageway    Urban         Taxi  \n",
       "2021          Frost  Single carriageway    Urban    Motocycle  \n",
       "2021            Dry  Single carriageway    Urban          Car  \n",
       "...             ...                 ...      ...          ...  \n",
       "2022            Dry  Single carriageway    Rural          Car  \n",
       "2022          Frost  Single carriageway    Rural          Car  \n",
       "2022          Frost  Single carriageway    Rural          Car  \n",
       "2022           Damp  Single carriageway    Rural    Motocycle  \n",
       "2022           Damp    Dual carriageway    Rural          Car  \n",
       "\n",
       "[307973 rows x 9 columns]"
      ]
     },
     "execution_count": 27,
     "metadata": {},
     "output_type": "execute_result"
    }
   ],
   "source": [
    "df_clean = df_unclean\n",
    "df_clean"
   ]
  },
  {
   "cell_type": "markdown",
   "metadata": {},
   "source": [
    "## <span style=\"color:MediumSeaGreen\">Data Exploration & Visualization</span>"
   ]
  },
  {
   "cell_type": "code",
   "execution_count": 28,
   "metadata": {},
   "outputs": [
    {
     "data": {
      "text/html": [
       "<div>\n",
       "<style scoped>\n",
       "    .dataframe tbody tr th:only-of-type {\n",
       "        vertical-align: middle;\n",
       "    }\n",
       "\n",
       "    .dataframe tbody tr th {\n",
       "        vertical-align: top;\n",
       "    }\n",
       "\n",
       "    .dataframe thead th {\n",
       "        text-align: right;\n",
       "    }\n",
       "</style>\n",
       "<table border=\"1\" class=\"dataframe\">\n",
       "  <thead>\n",
       "    <tr style=\"text-align: right;\">\n",
       "      <th></th>\n",
       "      <th>month</th>\n",
       "      <th>day</th>\n",
       "      <th>severity</th>\n",
       "      <th>light_condition</th>\n",
       "      <th>number_of_casualties</th>\n",
       "      <th>road_condition</th>\n",
       "      <th>road_type</th>\n",
       "      <th>location</th>\n",
       "      <th>vehicle_type</th>\n",
       "    </tr>\n",
       "    <tr>\n",
       "      <th>year</th>\n",
       "      <th></th>\n",
       "      <th></th>\n",
       "      <th></th>\n",
       "      <th></th>\n",
       "      <th></th>\n",
       "      <th></th>\n",
       "      <th></th>\n",
       "      <th></th>\n",
       "      <th></th>\n",
       "    </tr>\n",
       "  </thead>\n",
       "  <tbody>\n",
       "    <tr>\n",
       "      <th>2021</th>\n",
       "      <td>Jan</td>\n",
       "      <td>Thursday</td>\n",
       "      <td>Serious</td>\n",
       "      <td>Daylight</td>\n",
       "      <td>1</td>\n",
       "      <td>Dry</td>\n",
       "      <td>One way street</td>\n",
       "      <td>Urban</td>\n",
       "      <td>Car</td>\n",
       "    </tr>\n",
       "    <tr>\n",
       "      <th>2021</th>\n",
       "      <td>Jan</td>\n",
       "      <td>Monday</td>\n",
       "      <td>Serious</td>\n",
       "      <td>Daylight</td>\n",
       "      <td>11</td>\n",
       "      <td>Damp</td>\n",
       "      <td>Single carriageway</td>\n",
       "      <td>Urban</td>\n",
       "      <td>Taxi</td>\n",
       "    </tr>\n",
       "    <tr>\n",
       "      <th>2021</th>\n",
       "      <td>Jan</td>\n",
       "      <td>Sunday</td>\n",
       "      <td>Slight</td>\n",
       "      <td>Daylight</td>\n",
       "      <td>1</td>\n",
       "      <td>Dry</td>\n",
       "      <td>Single carriageway</td>\n",
       "      <td>Urban</td>\n",
       "      <td>Taxi</td>\n",
       "    </tr>\n",
       "    <tr>\n",
       "      <th>2021</th>\n",
       "      <td>Jan</td>\n",
       "      <td>Monday</td>\n",
       "      <td>Serious</td>\n",
       "      <td>Daylight</td>\n",
       "      <td>1</td>\n",
       "      <td>Frost</td>\n",
       "      <td>Single carriageway</td>\n",
       "      <td>Urban</td>\n",
       "      <td>Motocycle</td>\n",
       "    </tr>\n",
       "    <tr>\n",
       "      <th>2021</th>\n",
       "      <td>Jan</td>\n",
       "      <td>Tuesday</td>\n",
       "      <td>Serious</td>\n",
       "      <td>Darkness</td>\n",
       "      <td>1</td>\n",
       "      <td>Dry</td>\n",
       "      <td>Single carriageway</td>\n",
       "      <td>Urban</td>\n",
       "      <td>Car</td>\n",
       "    </tr>\n",
       "  </tbody>\n",
       "</table>\n",
       "</div>"
      ],
      "text/plain": [
       "     month       day severity light_condition  number_of_casualties  \\\n",
       "year                                                                  \n",
       "2021   Jan  Thursday  Serious        Daylight                     1   \n",
       "2021   Jan    Monday  Serious        Daylight                    11   \n",
       "2021   Jan    Sunday   Slight        Daylight                     1   \n",
       "2021   Jan    Monday  Serious        Daylight                     1   \n",
       "2021   Jan   Tuesday  Serious        Darkness                     1   \n",
       "\n",
       "     road_condition           road_type location vehicle_type  \n",
       "year                                                           \n",
       "2021            Dry      One way street    Urban          Car  \n",
       "2021           Damp  Single carriageway    Urban         Taxi  \n",
       "2021            Dry  Single carriageway    Urban         Taxi  \n",
       "2021          Frost  Single carriageway    Urban    Motocycle  \n",
       "2021            Dry  Single carriageway    Urban          Car  "
      ]
     },
     "execution_count": 28,
     "metadata": {},
     "output_type": "execute_result"
    }
   ],
   "source": [
    "df_explore = df_clean\n",
    "df_explore.head()"
   ]
  },
  {
   "cell_type": "markdown",
   "metadata": {},
   "source": [
    "#### <span style=\"color:DarkOrange\"> Casualties Overview and Breakdown </span>"
   ]
  },
  {
   "cell_type": "code",
   "execution_count": 29,
   "metadata": {},
   "outputs": [
    {
     "name": "stdout",
     "output_type": "stream",
     "text": [
      "Total Casualties = 417883\n"
     ]
    }
   ],
   "source": [
    "# Total Casualties\n",
    "total_casualties = df_explore['number_of_casualties'].sum()\n",
    "print(f'Total Casualties = {total_casualties}')"
   ]
  },
  {
   "cell_type": "code",
   "execution_count": 30,
   "metadata": {},
   "outputs": [
    {
     "data": {
      "text/html": [
       "<div>\n",
       "<style scoped>\n",
       "    .dataframe tbody tr th:only-of-type {\n",
       "        vertical-align: middle;\n",
       "    }\n",
       "\n",
       "    .dataframe tbody tr th {\n",
       "        vertical-align: top;\n",
       "    }\n",
       "\n",
       "    .dataframe thead th {\n",
       "        text-align: right;\n",
       "    }\n",
       "</style>\n",
       "<table border=\"1\" class=\"dataframe\">\n",
       "  <thead>\n",
       "    <tr style=\"text-align: right;\">\n",
       "      <th></th>\n",
       "      <th>number_of_casualties</th>\n",
       "    </tr>\n",
       "    <tr>\n",
       "      <th>severity</th>\n",
       "      <th></th>\n",
       "    </tr>\n",
       "  </thead>\n",
       "  <tbody>\n",
       "    <tr>\n",
       "      <th>Slight</th>\n",
       "      <td>351436</td>\n",
       "    </tr>\n",
       "    <tr>\n",
       "      <th>Serious</th>\n",
       "      <td>59312</td>\n",
       "    </tr>\n",
       "    <tr>\n",
       "      <th>Fatal</th>\n",
       "      <td>7135</td>\n",
       "    </tr>\n",
       "  </tbody>\n",
       "</table>\n",
       "</div>"
      ],
      "text/plain": [
       "          number_of_casualties\n",
       "severity                      \n",
       "Slight                  351436\n",
       "Serious                  59312\n",
       "Fatal                     7135"
      ]
     },
     "execution_count": 30,
     "metadata": {},
     "output_type": "execute_result"
    }
   ],
   "source": [
    "# Total Severity Casualties [Serious, Fatal, Slight]\n",
    "df_explore.loc[:, ['severity', 'number_of_casualties']].groupby(by='severity').sum().sort_values(by='number_of_casualties', ascending=False)"
   ]
  },
  {
   "cell_type": "code",
   "execution_count": 31,
   "metadata": {},
   "outputs": [
    {
     "name": "stdout",
     "output_type": "stream",
     "text": [
      "Total Casualties by Car = 325922\n"
     ]
    }
   ],
   "source": [
    "# Total Casaulties by Car\n",
    "total_casualties_by_car = df_explore.loc[df_explore['vehicle_type'] == 'Car', 'number_of_casualties'].sum()\n",
    "\n",
    "print(f'Total Casualties by Car = {int(total_casualties_by_car)}')"
   ]
  },
  {
   "cell_type": "code",
   "execution_count": 32,
   "metadata": {},
   "outputs": [
    {
     "data": {
      "text/html": [
       "<div>\n",
       "<style scoped>\n",
       "    .dataframe tbody tr th:only-of-type {\n",
       "        vertical-align: middle;\n",
       "    }\n",
       "\n",
       "    .dataframe tbody tr th {\n",
       "        vertical-align: top;\n",
       "    }\n",
       "\n",
       "    .dataframe thead th {\n",
       "        text-align: right;\n",
       "    }\n",
       "</style>\n",
       "<table border=\"1\" class=\"dataframe\">\n",
       "  <thead>\n",
       "    <tr style=\"text-align: right;\">\n",
       "      <th></th>\n",
       "      <th>number_of_casualties</th>\n",
       "    </tr>\n",
       "    <tr>\n",
       "      <th>vehicle_type</th>\n",
       "      <th></th>\n",
       "    </tr>\n",
       "  </thead>\n",
       "  <tbody>\n",
       "    <tr>\n",
       "      <th>Car</th>\n",
       "      <td>325922</td>\n",
       "    </tr>\n",
       "    <tr>\n",
       "      <th>Motocycle</th>\n",
       "      <td>33672</td>\n",
       "    </tr>\n",
       "    <tr>\n",
       "      <th>Van</th>\n",
       "      <td>21298</td>\n",
       "    </tr>\n",
       "    <tr>\n",
       "      <th>Other vehicle</th>\n",
       "      <td>15503</td>\n",
       "    </tr>\n",
       "    <tr>\n",
       "      <th>Bus</th>\n",
       "      <td>12798</td>\n",
       "    </tr>\n",
       "    <tr>\n",
       "      <th>Taxi</th>\n",
       "      <td>7563</td>\n",
       "    </tr>\n",
       "    <tr>\n",
       "      <th>Agricultural vehicle</th>\n",
       "      <td>1032</td>\n",
       "    </tr>\n",
       "    <tr>\n",
       "      <th>Pedal cycle</th>\n",
       "      <td>92</td>\n",
       "    </tr>\n",
       "    <tr>\n",
       "      <th>Ridden horse</th>\n",
       "      <td>3</td>\n",
       "    </tr>\n",
       "  </tbody>\n",
       "</table>\n",
       "</div>"
      ],
      "text/plain": [
       "                      number_of_casualties\n",
       "vehicle_type                              \n",
       "Car                                 325922\n",
       "Motocycle                            33672\n",
       "Van                                  21298\n",
       "Other vehicle                        15503\n",
       "Bus                                  12798\n",
       "Taxi                                  7563\n",
       "Agricultural vehicle                  1032\n",
       "Pedal cycle                             92\n",
       "Ridden horse                             3"
      ]
     },
     "execution_count": 32,
     "metadata": {},
     "output_type": "execute_result"
    }
   ],
   "source": [
    "# Casaulties By [Vehicle Types]\n",
    "df_explore.loc[:,['vehicle_type','number_of_casualties']].groupby(by='vehicle_type').sum().sort_values(by='number_of_casualties', ascending=False)"
   ]
  },
  {
   "cell_type": "markdown",
   "metadata": {},
   "source": [
    "#### <span style=\"color:DarkOrange\">Casualties Analysis by Various Factors</span>"
   ]
  },
  {
   "cell_type": "markdown",
   "metadata": {},
   "source": [
    "<div style=\"color:DarkOrange\"> Monthly Casualties Trends </div>"
   ]
  },
  {
   "cell_type": "code",
   "execution_count": 33,
   "metadata": {},
   "outputs": [
    {
     "data": {
      "text/html": [
       "<div>\n",
       "<style scoped>\n",
       "    .dataframe tbody tr th:only-of-type {\n",
       "        vertical-align: middle;\n",
       "    }\n",
       "\n",
       "    .dataframe tbody tr th {\n",
       "        vertical-align: top;\n",
       "    }\n",
       "\n",
       "    .dataframe thead th {\n",
       "        text-align: right;\n",
       "    }\n",
       "</style>\n",
       "<table border=\"1\" class=\"dataframe\">\n",
       "  <thead>\n",
       "    <tr style=\"text-align: right;\">\n",
       "      <th>year</th>\n",
       "      <th>2021</th>\n",
       "      <th>2022</th>\n",
       "    </tr>\n",
       "    <tr>\n",
       "      <th>month</th>\n",
       "      <th></th>\n",
       "      <th></th>\n",
       "    </tr>\n",
       "  </thead>\n",
       "  <tbody>\n",
       "    <tr>\n",
       "      <th>Jan</th>\n",
       "      <td>18173</td>\n",
       "      <td>13163</td>\n",
       "    </tr>\n",
       "    <tr>\n",
       "      <th>Feb</th>\n",
       "      <td>14648</td>\n",
       "      <td>14804</td>\n",
       "    </tr>\n",
       "    <tr>\n",
       "      <th>Mar</th>\n",
       "      <td>17815</td>\n",
       "      <td>16575</td>\n",
       "    </tr>\n",
       "    <tr>\n",
       "      <th>Apr</th>\n",
       "      <td>17335</td>\n",
       "      <td>15767</td>\n",
       "    </tr>\n",
       "    <tr>\n",
       "      <th>May</th>\n",
       "      <td>18852</td>\n",
       "      <td>16775</td>\n",
       "    </tr>\n",
       "    <tr>\n",
       "      <th>Jun</th>\n",
       "      <td>18728</td>\n",
       "      <td>17230</td>\n",
       "    </tr>\n",
       "    <tr>\n",
       "      <th>Jul</th>\n",
       "      <td>19682</td>\n",
       "      <td>17201</td>\n",
       "    </tr>\n",
       "    <tr>\n",
       "      <th>Aug</th>\n",
       "      <td>18797</td>\n",
       "      <td>16796</td>\n",
       "    </tr>\n",
       "    <tr>\n",
       "      <th>Sep</th>\n",
       "      <td>18456</td>\n",
       "      <td>17500</td>\n",
       "    </tr>\n",
       "    <tr>\n",
       "      <th>Oct</th>\n",
       "      <td>20109</td>\n",
       "      <td>18287</td>\n",
       "    </tr>\n",
       "    <tr>\n",
       "      <th>Nov</th>\n",
       "      <td>20975</td>\n",
       "      <td>18439</td>\n",
       "    </tr>\n",
       "    <tr>\n",
       "      <th>Dec</th>\n",
       "      <td>18576</td>\n",
       "      <td>13200</td>\n",
       "    </tr>\n",
       "  </tbody>\n",
       "</table>\n",
       "</div>"
      ],
      "text/plain": [
       "year    2021   2022\n",
       "month              \n",
       "Jan    18173  13163\n",
       "Feb    14648  14804\n",
       "Mar    17815  16575\n",
       "Apr    17335  15767\n",
       "May    18852  16775\n",
       "Jun    18728  17230\n",
       "Jul    19682  17201\n",
       "Aug    18797  16796\n",
       "Sep    18456  17500\n",
       "Oct    20109  18287\n",
       "Nov    20975  18439\n",
       "Dec    18576  13200"
      ]
     },
     "execution_count": 33,
     "metadata": {},
     "output_type": "execute_result"
    }
   ],
   "source": [
    "# Monthly Casualties Trends\n",
    "month_order = ['Jan', 'Feb', 'Mar', 'Apr', 'May', 'Jun', 'Jul', 'Aug', 'Sep', 'Oct', 'Nov', 'Dec']\n",
    "table_casualties_monthly = df_explore.groupby(['year','month'])['number_of_casualties'].sum().unstack(level=1)\n",
    "\n",
    "# Change the order of the month\n",
    "table_casualties_monthly = table_casualties_monthly[month_order].transpose()\n",
    "table_casualties_monthly"
   ]
  },
  {
   "cell_type": "code",
   "execution_count": 34,
   "metadata": {},
   "outputs": [
    {
     "data": {
      "image/png": "[encoded data removed]",
      "text/plain": [
       "<Figure size 1500x500 with 1 Axes>"
      ]
     },
     "metadata": {},
     "output_type": "display_data"
    }
   ],
   "source": [
    "table_casualties_monthly.plot(title=\"Monthly Casualties Trends\",xlabel=\"Month\",ylabel=\"Number of Casualties\", figsize=(15, 5))\n",
    "plt.show()"
   ]
  },
  {
   "cell_type": "markdown",
   "metadata": {},
   "source": [
    "<div style='color:DarkOrange'> Casualties by Road Type</div>"
   ]
  },
  {
   "cell_type": "code",
   "execution_count": 35,
   "metadata": {},
   "outputs": [
    {
     "data": {
      "text/html": [
       "<div>\n",
       "<style scoped>\n",
       "    .dataframe tbody tr th:only-of-type {\n",
       "        vertical-align: middle;\n",
       "    }\n",
       "\n",
       "    .dataframe tbody tr th {\n",
       "        vertical-align: top;\n",
       "    }\n",
       "\n",
       "    .dataframe thead th {\n",
       "        text-align: right;\n",
       "    }\n",
       "</style>\n",
       "<table border=\"1\" class=\"dataframe\">\n",
       "  <thead>\n",
       "    <tr style=\"text-align: right;\">\n",
       "      <th></th>\n",
       "      <th>number_of_casualties</th>\n",
       "    </tr>\n",
       "    <tr>\n",
       "      <th>road_type</th>\n",
       "      <th></th>\n",
       "    </tr>\n",
       "  </thead>\n",
       "  <tbody>\n",
       "    <tr>\n",
       "      <th>Slip road</th>\n",
       "      <td>4679</td>\n",
       "    </tr>\n",
       "    <tr>\n",
       "      <th>One way street</th>\n",
       "      <td>7389</td>\n",
       "    </tr>\n",
       "    <tr>\n",
       "      <th>Roundabout</th>\n",
       "      <td>26828</td>\n",
       "    </tr>\n",
       "    <tr>\n",
       "      <th>Dual carriageway</th>\n",
       "      <td>67368</td>\n",
       "    </tr>\n",
       "    <tr>\n",
       "      <th>Single carriageway</th>\n",
       "      <td>309698</td>\n",
       "    </tr>\n",
       "  </tbody>\n",
       "</table>\n",
       "</div>"
      ],
      "text/plain": [
       "                    number_of_casualties\n",
       "road_type                               \n",
       "Slip road                           4679\n",
       "One way street                      7389\n",
       "Roundabout                         26828\n",
       "Dual carriageway                   67368\n",
       "Single carriageway                309698"
      ]
     },
     "execution_count": 35,
     "metadata": {},
     "output_type": "execute_result"
    }
   ],
   "source": [
    "# Prepare the data\n",
    "table_casualties_road_type = df_explore.loc[df_explore['road_type'] != 'Unknown',['road_type', 'number_of_casualties']].groupby(by='road_type').sum()\n",
    "table_casualties_road_type = table_casualties_road_type.sort_values(by='number_of_casualties')\n",
    "\n",
    "table_casualties_road_type"
   ]
  },
  {
   "cell_type": "code",
   "execution_count": 36,
   "metadata": {},
   "outputs": [
    {
     "data": {
      "image/png": "[encoded data removed]",
      "text/plain": [
       "<Figure size 1000x400 with 1 Axes>"
      ]
     },
     "metadata": {},
     "output_type": "display_data"
    }
   ],
   "source": [
    "# Set a color palette\n",
    "colors_table = sns.color_palette(\"husl\", len(table_casualties_road_type))\n",
    "\n",
    "# Plot each bar individually with a different color\n",
    "plt.figure(figsize=(10, 4))\n",
    "for i, (road_type, row) in enumerate(table_casualties_road_type.iterrows()):\n",
    "    plt.barh(road_type, row['number_of_casualties'], color=colors_table[i], label=road_type)\n",
    "\n",
    "# Add title and labels\n",
    "plt.title('Casualties by Road Type')\n",
    "plt.xlabel('Number of Casualties')\n",
    "plt.ylabel('Road Type')\n",
    "plt.legend(title=\"Road Type\")\n",
    "plt.show()"
   ]
  },
  {
   "cell_type": "markdown",
   "metadata": {},
   "source": [
    "<div style='color:DarkOrange'> Casualties by Road Surface</div>"
   ]
  },
  {
   "cell_type": "code",
   "execution_count": 37,
   "metadata": {},
   "outputs": [
    {
     "data": {
      "text/html": [
       "<div>\n",
       "<style scoped>\n",
       "    .dataframe tbody tr th:only-of-type {\n",
       "        vertical-align: middle;\n",
       "    }\n",
       "\n",
       "    .dataframe tbody tr th {\n",
       "        vertical-align: top;\n",
       "    }\n",
       "\n",
       "    .dataframe thead th {\n",
       "        text-align: right;\n",
       "    }\n",
       "</style>\n",
       "<table border=\"1\" class=\"dataframe\">\n",
       "  <thead>\n",
       "    <tr style=\"text-align: right;\">\n",
       "      <th></th>\n",
       "      <th>number_of_casualties</th>\n",
       "    </tr>\n",
       "    <tr>\n",
       "      <th>road_condition</th>\n",
       "      <th></th>\n",
       "    </tr>\n",
       "  </thead>\n",
       "  <tbody>\n",
       "    <tr>\n",
       "      <th>Dry</th>\n",
       "      <td>279445</td>\n",
       "    </tr>\n",
       "    <tr>\n",
       "      <th>Damp</th>\n",
       "      <td>114697</td>\n",
       "    </tr>\n",
       "    <tr>\n",
       "      <th>Frost</th>\n",
       "      <td>16306</td>\n",
       "    </tr>\n",
       "    <tr>\n",
       "      <th>Snow</th>\n",
       "      <td>6475</td>\n",
       "    </tr>\n",
       "    <tr>\n",
       "      <th>Flood</th>\n",
       "      <td>564</td>\n",
       "    </tr>\n",
       "  </tbody>\n",
       "</table>\n",
       "</div>"
      ],
      "text/plain": [
       "                number_of_casualties\n",
       "road_condition                      \n",
       "Dry                           279445\n",
       "Damp                          114697\n",
       "Frost                          16306\n",
       "Snow                            6475\n",
       "Flood                            564"
      ]
     },
     "execution_count": 37,
     "metadata": {},
     "output_type": "execute_result"
    }
   ],
   "source": [
    "# Casualties by Road Surface Condition\n",
    "table_casualties_road_surface = df_explore.loc[df_explore['road_condition'] !='Unknown' ,['road_condition', 'number_of_casualties']].groupby(by='road_condition').sum().sort_values(by='number_of_casualties', ascending=False)\n",
    "\n",
    "table_casualties_road_surface"
   ]
  },
  {
   "cell_type": "code",
   "execution_count": 38,
   "metadata": {},
   "outputs": [
    {
     "data": {
      "image/png": "[encoded data removed]",
      "text/plain": [
       "<Figure size 1000x400 with 1 Axes>"
      ]
     },
     "metadata": {},
     "output_type": "display_data"
    }
   ],
   "source": [
    "# Plot Casualties by Raod Surface Condition\n",
    "colors_table = sns.color_palette(\"husl\", len(table_casualties_road_surface))\n",
    "\n",
    "# Plot each bar individually with a different color\n",
    "plt.figure(figsize=(10, 4))\n",
    "for i, (road_condition, row) in enumerate(table_casualties_road_surface.iterrows()):\n",
    "    plt.bar(road_condition, row['number_of_casualties'], color=colors_table[i], label=road_condition)\n",
    "\n",
    "# Add title and labels\n",
    "plt.title('Casualties by Road Surface Condition')\n",
    "plt.xlabel('Number of Casualties')\n",
    "plt.ylabel('Road Type')\n",
    "plt.legend(title=\"Road Type\")\n",
    "plt.show()"
   ]
  },
  {
   "cell_type": "markdown",
   "metadata": {},
   "source": [
    "<div style='color:DarkOrange'> Casualties by Location Type</div>"
   ]
  },
  {
   "cell_type": "code",
   "execution_count": 39,
   "metadata": {},
   "outputs": [
    {
     "data": {
      "text/html": [
       "<div>\n",
       "<style scoped>\n",
       "    .dataframe tbody tr th:only-of-type {\n",
       "        vertical-align: middle;\n",
       "    }\n",
       "\n",
       "    .dataframe tbody tr th {\n",
       "        vertical-align: top;\n",
       "    }\n",
       "\n",
       "    .dataframe thead th {\n",
       "        text-align: right;\n",
       "    }\n",
       "</style>\n",
       "<table border=\"1\" class=\"dataframe\">\n",
       "  <thead>\n",
       "    <tr style=\"text-align: right;\">\n",
       "      <th></th>\n",
       "      <th>number_of_casualties</th>\n",
       "    </tr>\n",
       "    <tr>\n",
       "      <th>location</th>\n",
       "      <th></th>\n",
       "    </tr>\n",
       "  </thead>\n",
       "  <tbody>\n",
       "    <tr>\n",
       "      <th>Rural</th>\n",
       "      <td>162019</td>\n",
       "    </tr>\n",
       "    <tr>\n",
       "      <th>Urban</th>\n",
       "      <td>255864</td>\n",
       "    </tr>\n",
       "  </tbody>\n",
       "</table>\n",
       "</div>"
      ],
      "text/plain": [
       "          number_of_casualties\n",
       "location                      \n",
       "Rural                   162019\n",
       "Urban                   255864"
      ]
     },
     "execution_count": 39,
     "metadata": {},
     "output_type": "execute_result"
    }
   ],
   "source": [
    "# Casualties by Location Type\n",
    "table_casualties_location = df_explore.loc[:, ['location','number_of_casualties']].groupby('location').sum()\n",
    "table_casualties_location"
   ]
  },
  {
   "cell_type": "code",
   "execution_count": 40,
   "metadata": {},
   "outputs": [
    {
     "data": {
      "image/png": "[encoded data removed]",
      "text/plain": [
       "<Figure size 400x400 with 1 Axes>"
      ]
     },
     "metadata": {},
     "output_type": "display_data"
    }
   ],
   "source": [
    "# Plot pie chart\n",
    "table_casualties_location.plot.pie(\n",
    "    y='number_of_casualties',\n",
    "    autopct='%1.1f%%',\n",
    "    legend=False,\n",
    "    figsize=(4,4),\n",
    "    colors=['#99ff99', '#ffcc99']\n",
    ")\n",
    "plt.title('Casualties by Location')\n",
    "plt.ylabel('')  # Remove default ylabel\n",
    "plt.show()"
   ]
  },
  {
   "cell_type": "markdown",
   "metadata": {},
   "source": [
    "<div style='color:DarkOrange'> Casualties by Time of Day</div>"
   ]
  },
  {
   "cell_type": "code",
   "execution_count": 41,
   "metadata": {},
   "outputs": [
    {
     "data": {
      "text/html": [
       "<div>\n",
       "<style scoped>\n",
       "    .dataframe tbody tr th:only-of-type {\n",
       "        vertical-align: middle;\n",
       "    }\n",
       "\n",
       "    .dataframe tbody tr th {\n",
       "        vertical-align: top;\n",
       "    }\n",
       "\n",
       "    .dataframe thead th {\n",
       "        text-align: right;\n",
       "    }\n",
       "</style>\n",
       "<table border=\"1\" class=\"dataframe\">\n",
       "  <thead>\n",
       "    <tr style=\"text-align: right;\">\n",
       "      <th></th>\n",
       "      <th>number_of_casualties</th>\n",
       "    </tr>\n",
       "    <tr>\n",
       "      <th>light_condition</th>\n",
       "      <th></th>\n",
       "    </tr>\n",
       "  </thead>\n",
       "  <tbody>\n",
       "    <tr>\n",
       "      <th>Darkness</th>\n",
       "      <td>112920</td>\n",
       "    </tr>\n",
       "    <tr>\n",
       "      <th>Daylight</th>\n",
       "      <td>304963</td>\n",
       "    </tr>\n",
       "  </tbody>\n",
       "</table>\n",
       "</div>"
      ],
      "text/plain": [
       "                 number_of_casualties\n",
       "light_condition                      \n",
       "Darkness                       112920\n",
       "Daylight                       304963"
      ]
     },
     "execution_count": 41,
     "metadata": {},
     "output_type": "execute_result"
    }
   ],
   "source": [
    "# Casualties by Time of Day\n",
    "table_casualties_light_condition = df_explore.loc[:, ['light_condition', 'number_of_casualties']].groupby(by='light_condition').sum()\n",
    "table_casualties_light_condition"
   ]
  },
  {
   "cell_type": "code",
   "execution_count": 42,
   "metadata": {},
   "outputs": [
    {
     "data": {
      "image/png": "[encoded data removed]",
      "text/plain": [
       "<Figure size 400x400 with 1 Axes>"
      ]
     },
     "metadata": {},
     "output_type": "display_data"
    }
   ],
   "source": [
    "# Plot pie chart\n",
    "table_casualties_light_condition.plot.pie(\n",
    "    y='number_of_casualties',\n",
    "    autopct='%1.1f%%',\n",
    "    legend=False,\n",
    "    figsize=(4,4),\n",
    "    colors=['#ff9999', '#66b3ff', '#99ff99', '#ffcc99']\n",
    ")\n",
    "plt.title('Casualties by Time of Day')\n",
    "plt.ylabel('')  # Remove default ylabel\n",
    "plt.show()"
   ]
  },
  {
   "cell_type": "code",
   "execution_count": 43,
   "metadata": {},
   "outputs": [
    {
     "data": {
      "text/html": [
       "<div>\n",
       "<style scoped>\n",
       "    .dataframe tbody tr th:only-of-type {\n",
       "        vertical-align: middle;\n",
       "    }\n",
       "\n",
       "    .dataframe tbody tr th {\n",
       "        vertical-align: top;\n",
       "    }\n",
       "\n",
       "    .dataframe thead th {\n",
       "        text-align: right;\n",
       "    }\n",
       "</style>\n",
       "<table border=\"1\" class=\"dataframe\">\n",
       "  <thead>\n",
       "    <tr style=\"text-align: right;\">\n",
       "      <th></th>\n",
       "      <th>number_of_casualties</th>\n",
       "    </tr>\n",
       "    <tr>\n",
       "      <th>light_condition</th>\n",
       "      <th></th>\n",
       "    </tr>\n",
       "  </thead>\n",
       "  <tbody>\n",
       "    <tr>\n",
       "      <th>Daylight</th>\n",
       "      <td>4234</td>\n",
       "    </tr>\n",
       "    <tr>\n",
       "      <th>Darkness</th>\n",
       "      <td>2901</td>\n",
       "    </tr>\n",
       "  </tbody>\n",
       "</table>\n",
       "</div>"
      ],
      "text/plain": [
       "                 number_of_casualties\n",
       "light_condition                      \n",
       "Daylight                         4234\n",
       "Darkness                         2901"
      ]
     },
     "execution_count": 43,
     "metadata": {},
     "output_type": "execute_result"
    }
   ],
   "source": [
    "# Time of the day where fatal accident occur the most\n",
    "df_explore.loc[df_explore['severity'] == 'Fatal', ['number_of_casualties','light_condition']].groupby(by='light_condition').sum().sort_values(by=\"number_of_casualties\", ascending=False)"
   ]
  },
  {
   "cell_type": "markdown",
   "metadata": {},
   "source": [
    "## <span style=\"color:MediumSeaGreen\">Key Findings</span>"
   ]
  },
  {
   "cell_type": "markdown",
   "metadata": {},
   "source": [
    "This project addresses the following objectives. Key numbers are included to highlight findings for each metric. \n",
    "\n",
    "### <span style=\"color: #1f77b4;\">Total Casualties</span>\n",
    "The total number of casualties in the dataset is **<span style=\"color: #ff7f0e;\">417,883</span>**.\n",
    "\n",
    "### <span style=\"color: #1f77b4;\">Total Serious Casualties</span>\n",
    "The total number of serious casualties recorded is **<span style=\"color: #ff7f0e;\">59,312</span>**.\n",
    "\n",
    "### <span style=\"color: #1f77b4;\">Total Fatal Casualties</span>\n",
    "The number of fatal casualties is **<span style=\"color: #ff7f0e;\">7,135</span>**.\n",
    "\n",
    "### <span style=\"color: #1f77b4;\">Total Slight Casualties</span>\n",
    "The total number of slight casualties is **<span style=\"color: #ff7f0e;\">351,436</span>**.\n",
    "\n",
    "### <span style=\"color: #1f77b4;\">Total Casualties by Car</span>\n",
    "The total number of casualties involving cars is **<span style=\"color: #ff7f0e;\">325,922</span>**.\n",
    "\n",
    "### <span style=\"color: #1f77b4;\">Casualties by Vehicle Types</span>\n",
    "- **<span style=\"color: #2ca02c;\">Car</span>**: <span style=\"color: #ff7f0e;\">325,922</span>  \n",
    "- **<span style=\"color: #2ca02c;\">Motorcycle</span>**: <span style=\"color: #ff7f0e;\">33,672</span>  \n",
    "- **<span style=\"color: #2ca02c;\">Van</span>**: <span style=\"color: #ff7f0e;\">21,298</span>  \n",
    "- **<span style=\"color: #2ca02c;\">Other vehicle</span>**: <span style=\"color: #ff7f0e;\">15,503</span>  \n",
    "- **<span style=\"color: #2ca02c;\">Bus</span>**: <span style=\"color: #ff7f0e;\">12,798</span>  \n",
    "- **<span style=\"color: #2ca02c;\">Taxi</span>**: <span style=\"color: #ff7f0e;\">7,563</span>  \n",
    "- **<span style=\"color: #2ca02c;\">Agricultural vehicle</span>**: <span style=\"color: #ff7f0e;\">1,032</span>  \n",
    "- **<span style=\"color: #2ca02c;\">Pedal cycle</span>**: <span style=\"color: #ff7f0e;\">92</span>  \n",
    "- **<span style=\"color: #2ca02c;\">Ridden horse</span>**: <span style=\"color: #ff7f0e;\">3</span>\n"
   ]
  },
  {
   "cell_type": "markdown",
   "metadata": {},
   "source": [
    "## <span style=\"color:MediumSeaGreen\">Interpretation of Metrics </span>"
   ]
  },
  {
   "cell_type": "markdown",
   "metadata": {},
   "source": [
    "\n",
    "To interpret these metrics, the following elements are included in the analysis: \n",
    "\n",
    "#### <span style=\"color: #1f77b4;\">Casualties by Vehicle Type</span>\n",
    "- A **<span style=\"color: #ff7f0e;\">pie chart</span>** depicting the distribution of casualties across different vehicle types.\n",
    "\n",
    "#### <span style=\"color: #1f77b4;\">Monthly Casualties Trends</span>\n",
    "- A **<span style=\"color: #ff7f0e;\">line chart</span>** showing the trends in casualties over the months.\n",
    "\n",
    "#### <span style=\"color: #1f77b4;\">Casualties by Road Type</span>\n",
    "- A **<span style=\"color: #ff7f0e;\">bar graph</span>** comparing casualties on urban and rural roads.\n",
    "\n",
    "#### <span style=\"color: #1f77b4;\">Casualties by Road Surface Condition</span>\n",
    "- A **<span style=\"color: #ff7f0e;\">bar chart</span>** displaying casualties on dry, wet, and other surfaces.\n",
    "\n",
    "#### <span style=\"color: #1f77b4;\">Casualties by Time of Day</span>\n",
    "- A **<span style=\"color: #ff7f0e;\">bar graph</span>** categorizing casualties by time of day (morning, afternoon, evening/night).\n",
    "- "
   ]
  },
  {
   "cell_type": "markdown",
   "metadata": {},
   "source": [
    "## <span style=\"color:MediumSeaGreen\">Analysis Summary</span>"
   ]
  },
  {
   "cell_type": "markdown",
   "metadata": {},
   "source": [
    "The Casualty Data Analysis highlights significant trends and patterns in accident casualties, with a focus on vehicle types, road conditions, and time-related factors. Key findings suggest that:\n",
    "\n",
    "### <span style=\"color: #1f77b4;\">Key Findings</span>\n",
    "- There is an **<span style=\"color: #ff7f0e;\">increase in the number of casualties</span>** from March to November 2021 and 2022.  \n",
    "- **<span style=\"color: #ff7f0e;\">Single carriageway</span>** recorded the highest number of casualties.  \n",
    "- Most casualties occur on **<span style=\"color: #ff7f0e;\">dry</span>** and **<span style=\"color: #ff7f0e;\">urban roads</span>**.  \n",
    "- Most casualties occur at **<span style=\"color: #ff7f0e;\">Daytime</span>**.  \n",
    "- **<span style=\"color: #ff7f0e;\">Fatal casualties</span>** occur at **<span style=\"color: #ff7f0e;\">Daytime</span>**.\n",
    "\n",
    "### <span style=\"color: #1f77b4;\">Conclusion</span>\n",
    "This analysis helps to identify critical areas for intervention to improve road safety and reduce accident-related harm.\n"
   ]
  },
  {
   "cell_type": "markdown",
   "metadata": {},
   "source": [
    "<span style=\"color:DarkOrange\"> orange </span>\n",
    "<span style=\"color:MediumSeaGreen\"> green </span>\n",
    "<span style=\"color:Tomato\"> red </span>\n",
    "<span style=\"color:DodgerBlue\"> blue </span>\n",
    "<span style=\"color:#9b59b6\"> purple </span>\n",
    "<span style=\"color:#1abc9c\"> teal </span>\n"
   ]
  }
 ],
 "metadata": {
  "kernelspec": {
   "display_name": "Python 3",
   "language": "python",
   "name": "python3"
  },
  "language_info": {
   "codemirror_mode": {
    "name": "ipython",
    "version": 3
   },
   "file_extension": ".py",
   "mimetype": "text/x-python",
   "name": "python",
   "nbconvert_exporter": "python",
   "pygments_lexer": "ipython3",
   "version": "3.12.1"
  }
 },
 "nbformat": 4,
 "nbformat_minor": 2
}
