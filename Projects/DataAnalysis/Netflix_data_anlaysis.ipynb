{
 "cells": [
  {
   "cell_type": "markdown",
   "metadata": {},
   "source": [
    "<h1 style=\"color:DarkOrange\" >Netflix Data Analysis: Trends and Insights</h1>"
   ]
  },
  {
   "cell_type": "markdown",
   "metadata": {},
   "source": [
    "## <span style=\"color:MediumSeaGreen\">Objectives</span>"
   ]
  },
  {
   "cell_type": "markdown",
   "metadata": {},
   "source": [
    "- To determine the year which recorded the highest number of TV shows and Movies \n",
    "\n",
    "- Which movies were release in the year 2000 \n",
    "\n",
    "- Determine the number of Movie and TV shows \n",
    "\n",
    "- Identify the top 10 directors who gave the highest number of TV shows and Movies on Netflix \n",
    "\n",
    "- Identify the number of Movies Tom Cruise cast. \n",
    "\n",
    "- Determine the Movie/Show with the maximum duration on Netflix \n",
    "\n",
    "- To Identify country with the highest number of TV shows "
   ]
  },
  {
   "cell_type": "markdown",
   "metadata": {},
   "source": [
    "## <span style=\"color:MediumSeaGreen\">Import and Read Data</span>"
   ]
  },
  {
   "cell_type": "markdown",
   "metadata": {},
   "source": [
    "## <span style=\"color:MediumSeaGreen\">Data Cleaning</span>"
   ]
  },
  {
   "cell_type": "markdown",
   "metadata": {},
   "source": [
    "## <span style=\"color:MediumSeaGreen\">Data Exploration and Visualization</span>"
   ]
  },
  {
   "cell_type": "markdown",
   "metadata": {},
   "source": [
    "## <span style=\"color:MediumSeaGreen\">Key Findings</span>"
   ]
  }
 ],
 "metadata": {
  "language_info": {
   "name": "python"
  }
 },
 "nbformat": 4,
 "nbformat_minor": 2
}
