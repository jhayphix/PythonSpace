{
 "cells": [
  {
   "cell_type": "markdown",
   "metadata": {},
   "source": [
    "<h1 style=\"color:#f39c12\">Road Accident</h1>"
   ]
  },
  {
   "cell_type": "markdown",
   "metadata": {},
   "source": [
    "<h2 style=\"color:#2ecc71\">Objectives</h2>"
   ]
  },
  {
   "cell_type": "markdown",
   "metadata": {},
   "source": [
    "\n",
    "CARDS\n",
    "\n",
    "- Total Casualties\n",
    "- Total Serious Casaulties\n",
    "- Total Fatal Casaulties\n",
    "- Total Slight Casaulties\n",
    "- Total Casaulties by Car\n",
    "- Casaulties By [Vehicle Types]\n",
    "\n",
    "GRAPHS\n",
    "- Casaulties by Monthly trends\n",
    "- Casaulties by [Road Type]\n",
    "- Casaulties by Road Surface\n",
    "- Casaulties by Location\n",
    "- Casualties by Day Night\n"
   ]
  },
  {
   "cell_type": "markdown",
   "metadata": {},
   "source": [
    "<h2 style=\"color:#2ecc71\">Import and Reading of data</h2>"
   ]
  },
  {
   "cell_type": "code",
   "execution_count": 1,
   "metadata": {},
   "outputs": [],
   "source": [
    "# Imports\n",
    "import pandas as pd\n",
    "import seaborn as sns\n",
    "import matplotlib.pyplot as plt"
   ]
  },
  {
   "cell_type": "code",
   "execution_count": null,
   "metadata": {},
   "outputs": [],
   "source": [
    "data_path = '/workspaces/PythonSpace/Datasource/Project/Road_accident.xlsx'\n",
    "raw = pd.read_excel(data_path)"
   ]
  },
  {
   "cell_type": "code",
   "execution_count": 66,
   "metadata": {},
   "outputs": [],
   "source": [
    "df_unclean = raw"
   ]
  },
  {
   "cell_type": "markdown",
   "metadata": {},
   "source": [
    "### Data Cleaning"
   ]
  },
  {
   "cell_type": "code",
   "execution_count": 67,
   "metadata": {},
   "outputs": [],
   "source": [
    "# Remove column names not needed in analysis\n",
    "\n",
    "columns_to_drop = ['Local_Authority_(District)', 'Carriageway_Hazards', 'Accident_Index', 'Latitude', 'Longitude', 'Carriageway_Hazards', 'Number_of_Vehicles', 'Police_Force', 'Speed_limit', 'Time', 'Weather_Conditions', 'Junction_Control', 'Junction_Detail']\n",
    "\n",
    "df_unclean = df_unclean.drop(columns = columns_to_drop)"
   ]
  },
  {
   "cell_type": "code",
   "execution_count": 68,
   "metadata": {},
   "outputs": [],
   "source": [
    "# Rename column name\n",
    "\n",
    "column_names = [ 'date', 'day', 'severity', 'light_condition', 'number_of_casualties', 'road_condition', 'road_type', 'location', 'vehicle_type']\n",
    "\n",
    "df_unclean.columns = column_names"
   ]
  },
  {
   "cell_type": "markdown",
   "metadata": {},
   "source": [
    "Clean Date"
   ]
  },
  {
   "cell_type": "code",
   "execution_count": 71,
   "metadata": {},
   "outputs": [],
   "source": [
    "# Create a column for year\n",
    "df_unclean['year'] = pd.to_datetime(df_unclean['date']).dt.year\n",
    "df_unclean['month'] = pd.to_datetime(df_unclean['date']).dt.strftime('%b')\n"
   ]
  },
  {
   "cell_type": "code",
   "execution_count": 72,
   "metadata": {},
   "outputs": [
    {
     "data": {
      "text/html": [
       "<div>\n",
       "<style scoped>\n",
       "    .dataframe tbody tr th:only-of-type {\n",
       "        vertical-align: middle;\n",
       "    }\n",
       "\n",
       "    .dataframe tbody tr th {\n",
       "        vertical-align: top;\n",
       "    }\n",
       "\n",
       "    .dataframe thead th {\n",
       "        text-align: right;\n",
       "    }\n",
       "</style>\n",
       "<table border=\"1\" class=\"dataframe\">\n",
       "  <thead>\n",
       "    <tr style=\"text-align: right;\">\n",
       "      <th></th>\n",
       "      <th>month</th>\n",
       "      <th>day</th>\n",
       "      <th>severity</th>\n",
       "      <th>light_condition</th>\n",
       "      <th>number_of_casualties</th>\n",
       "      <th>road_condition</th>\n",
       "      <th>road_type</th>\n",
       "      <th>location</th>\n",
       "      <th>vehicle_type</th>\n",
       "    </tr>\n",
       "    <tr>\n",
       "      <th>year</th>\n",
       "      <th></th>\n",
       "      <th></th>\n",
       "      <th></th>\n",
       "      <th></th>\n",
       "      <th></th>\n",
       "      <th></th>\n",
       "      <th></th>\n",
       "      <th></th>\n",
       "      <th></th>\n",
       "    </tr>\n",
       "  </thead>\n",
       "  <tbody>\n",
       "    <tr>\n",
       "      <th>2021</th>\n",
       "      <td>Jan</td>\n",
       "      <td>Thursday</td>\n",
       "      <td>Serious</td>\n",
       "      <td>Daylight</td>\n",
       "      <td>1</td>\n",
       "      <td>Dry</td>\n",
       "      <td>One way street</td>\n",
       "      <td>Urban</td>\n",
       "      <td>Car</td>\n",
       "    </tr>\n",
       "    <tr>\n",
       "      <th>2021</th>\n",
       "      <td>Jan</td>\n",
       "      <td>Monday</td>\n",
       "      <td>Serious</td>\n",
       "      <td>Daylight</td>\n",
       "      <td>11</td>\n",
       "      <td>Wet or damp</td>\n",
       "      <td>Single carriageway</td>\n",
       "      <td>Urban</td>\n",
       "      <td>Taxi/Private hire car</td>\n",
       "    </tr>\n",
       "    <tr>\n",
       "      <th>2021</th>\n",
       "      <td>Jan</td>\n",
       "      <td>Sunday</td>\n",
       "      <td>Slight</td>\n",
       "      <td>Daylight</td>\n",
       "      <td>1</td>\n",
       "      <td>Dry</td>\n",
       "      <td>Single carriageway</td>\n",
       "      <td>Urban</td>\n",
       "      <td>Taxi/Private hire car</td>\n",
       "    </tr>\n",
       "    <tr>\n",
       "      <th>2021</th>\n",
       "      <td>Jan</td>\n",
       "      <td>Monday</td>\n",
       "      <td>Serious</td>\n",
       "      <td>Daylight</td>\n",
       "      <td>1</td>\n",
       "      <td>Frost or ice</td>\n",
       "      <td>Single carriageway</td>\n",
       "      <td>Urban</td>\n",
       "      <td>Motorcycle over 500cc</td>\n",
       "    </tr>\n",
       "    <tr>\n",
       "      <th>2021</th>\n",
       "      <td>Jan</td>\n",
       "      <td>Tuesday</td>\n",
       "      <td>Serious</td>\n",
       "      <td>Darkness - lights lit</td>\n",
       "      <td>1</td>\n",
       "      <td>Dry</td>\n",
       "      <td>Single carriageway</td>\n",
       "      <td>Urban</td>\n",
       "      <td>Car</td>\n",
       "    </tr>\n",
       "    <tr>\n",
       "      <th>...</th>\n",
       "      <td>...</td>\n",
       "      <td>...</td>\n",
       "      <td>...</td>\n",
       "      <td>...</td>\n",
       "      <td>...</td>\n",
       "      <td>...</td>\n",
       "      <td>...</td>\n",
       "      <td>...</td>\n",
       "      <td>...</td>\n",
       "    </tr>\n",
       "    <tr>\n",
       "      <th>2022</th>\n",
       "      <td>Feb</td>\n",
       "      <td>Thursday</td>\n",
       "      <td>Slight</td>\n",
       "      <td>Daylight</td>\n",
       "      <td>2</td>\n",
       "      <td>Dry</td>\n",
       "      <td>Single carriageway</td>\n",
       "      <td>Rural</td>\n",
       "      <td>Car</td>\n",
       "    </tr>\n",
       "    <tr>\n",
       "      <th>2022</th>\n",
       "      <td>Feb</td>\n",
       "      <td>Sunday</td>\n",
       "      <td>Slight</td>\n",
       "      <td>Darkness - no lighting</td>\n",
       "      <td>1</td>\n",
       "      <td>Frost or ice</td>\n",
       "      <td>Single carriageway</td>\n",
       "      <td>Rural</td>\n",
       "      <td>Car</td>\n",
       "    </tr>\n",
       "    <tr>\n",
       "      <th>2022</th>\n",
       "      <td>Feb</td>\n",
       "      <td>Tuesday</td>\n",
       "      <td>Slight</td>\n",
       "      <td>Daylight</td>\n",
       "      <td>1</td>\n",
       "      <td>Frost or ice</td>\n",
       "      <td>Single carriageway</td>\n",
       "      <td>Rural</td>\n",
       "      <td>Car</td>\n",
       "    </tr>\n",
       "    <tr>\n",
       "      <th>2022</th>\n",
       "      <td>Feb</td>\n",
       "      <td>Tuesday</td>\n",
       "      <td>Serious</td>\n",
       "      <td>Darkness - no lighting</td>\n",
       "      <td>1</td>\n",
       "      <td>Wet or damp</td>\n",
       "      <td>Single carriageway</td>\n",
       "      <td>Rural</td>\n",
       "      <td>Motorcycle over 500cc</td>\n",
       "    </tr>\n",
       "    <tr>\n",
       "      <th>2022</th>\n",
       "      <td>Feb</td>\n",
       "      <td>Sunday</td>\n",
       "      <td>Serious</td>\n",
       "      <td>Daylight</td>\n",
       "      <td>1</td>\n",
       "      <td>Wet or damp</td>\n",
       "      <td>Dual carriageway</td>\n",
       "      <td>Rural</td>\n",
       "      <td>Car</td>\n",
       "    </tr>\n",
       "  </tbody>\n",
       "</table>\n",
       "<p>307973 rows × 9 columns</p>\n",
       "</div>"
      ],
      "text/plain": [
       "     month       day severity         light_condition  number_of_casualties  \\\n",
       "year                                                                          \n",
       "2021   Jan  Thursday  Serious                Daylight                     1   \n",
       "2021   Jan    Monday  Serious                Daylight                    11   \n",
       "2021   Jan    Sunday   Slight                Daylight                     1   \n",
       "2021   Jan    Monday  Serious                Daylight                     1   \n",
       "2021   Jan   Tuesday  Serious   Darkness - lights lit                     1   \n",
       "...    ...       ...      ...                     ...                   ...   \n",
       "2022   Feb  Thursday   Slight                Daylight                     2   \n",
       "2022   Feb    Sunday   Slight  Darkness - no lighting                     1   \n",
       "2022   Feb   Tuesday   Slight                Daylight                     1   \n",
       "2022   Feb   Tuesday  Serious  Darkness - no lighting                     1   \n",
       "2022   Feb    Sunday  Serious                Daylight                     1   \n",
       "\n",
       "     road_condition           road_type location           vehicle_type  \n",
       "year                                                                     \n",
       "2021            Dry      One way street    Urban                    Car  \n",
       "2021    Wet or damp  Single carriageway    Urban  Taxi/Private hire car  \n",
       "2021            Dry  Single carriageway    Urban  Taxi/Private hire car  \n",
       "2021   Frost or ice  Single carriageway    Urban  Motorcycle over 500cc  \n",
       "2021            Dry  Single carriageway    Urban                    Car  \n",
       "...             ...                 ...      ...                    ...  \n",
       "2022            Dry  Single carriageway    Rural                    Car  \n",
       "2022   Frost or ice  Single carriageway    Rural                    Car  \n",
       "2022   Frost or ice  Single carriageway    Rural                    Car  \n",
       "2022    Wet or damp  Single carriageway    Rural  Motorcycle over 500cc  \n",
       "2022    Wet or damp    Dual carriageway    Rural                    Car  \n",
       "\n",
       "[307973 rows x 9 columns]"
      ]
     },
     "execution_count": 72,
     "metadata": {},
     "output_type": "execute_result"
    }
   ],
   "source": [
    "# Reorder coumns. Excluded date\n",
    "df_unclean = df_unclean[['year', 'month', 'day', 'severity', 'light_condition', 'number_of_casualties', 'road_condition', 'road_type', 'location', 'vehicle_type']]\n",
    "\n",
    "df_unclean.set_index('year').sort_index()"
   ]
  },
  {
   "cell_type": "code",
   "execution_count": 73,
   "metadata": {},
   "outputs": [
    {
     "name": "stdout",
     "output_type": "stream",
     "text": [
      "       Accident_Index Accident Date Day_of_Week              Junction_Control  \\\n",
      "0       200901BS70001    2021-01-01    Thursday      Give way or uncontrolled   \n",
      "1       200901BS70002    2021-01-05      Monday      Give way or uncontrolled   \n",
      "2       200901BS70003    2021-01-04      Sunday      Give way or uncontrolled   \n",
      "3       200901BS70004    2021-01-05      Monday           Auto traffic signal   \n",
      "4       200901BS70005    2021-01-06     Tuesday           Auto traffic signal   \n",
      "...               ...           ...         ...                           ...   \n",
      "307968  201091NM01760    2022-02-18    Thursday  Data missing or out of range   \n",
      "307969  201091NM01881    2022-02-21      Sunday  Data missing or out of range   \n",
      "307970  201091NM01935    2022-02-23     Tuesday      Give way or uncontrolled   \n",
      "307971  201091NM01964    2022-02-23     Tuesday      Give way or uncontrolled   \n",
      "307972  201091NM02142    2022-02-28      Sunday      Give way or uncontrolled   \n",
      "\n",
      "                            Junction_Detail Accident_Severity   Latitude  \\\n",
      "0                   T or staggered junction           Serious  51.512273   \n",
      "1                                Crossroads           Serious  51.514399   \n",
      "2                   T or staggered junction            Slight  51.486668   \n",
      "3                   T or staggered junction           Serious  51.507804   \n",
      "4                                Crossroads           Serious  51.482076   \n",
      "...                                     ...               ...        ...   \n",
      "307968  Not at junction or within 20 metres            Slight  57.374005   \n",
      "307969  Not at junction or within 20 metres            Slight  57.232273   \n",
      "307970              T or staggered junction            Slight  57.585044   \n",
      "307971              T or staggered junction           Serious  57.214898   \n",
      "307972              T or staggered junction           Serious  57.575210   \n",
      "\n",
      "              Light_Conditions Local_Authority_(District)  \\\n",
      "0                     Daylight     Kensington and Chelsea   \n",
      "1                     Daylight     Kensington and Chelsea   \n",
      "2                     Daylight     Kensington and Chelsea   \n",
      "3                     Daylight     Kensington and Chelsea   \n",
      "4        Darkness - lights lit     Kensington and Chelsea   \n",
      "...                        ...                        ...   \n",
      "307968                Daylight                   Highland   \n",
      "307969  Darkness - no lighting                   Highland   \n",
      "307970                Daylight                   Highland   \n",
      "307971  Darkness - no lighting                   Highland   \n",
      "307972                Daylight                   Highland   \n",
      "\n",
      "         Carriageway_Hazards  ...  Number_of_Casualties  Number_of_Vehicles  \\\n",
      "0                        NaN  ...                     1                   2   \n",
      "1                        NaN  ...                    11                   2   \n",
      "2                        NaN  ...                     1                   2   \n",
      "3                        NaN  ...                     1                   2   \n",
      "4                        NaN  ...                     1                   2   \n",
      "...                      ...  ...                   ...                 ...   \n",
      "307968                   NaN  ...                     2                   1   \n",
      "307969                   NaN  ...                     1                   1   \n",
      "307970                   NaN  ...                     1                   3   \n",
      "307971                   NaN  ...                     1                   2   \n",
      "307972  Other object on road  ...                     1                   1   \n",
      "\n",
      "               Police_Force Road_Surface_Conditions           Road_Type  \\\n",
      "0       Metropolitan Police                     Dry      One way street   \n",
      "1       Metropolitan Police             Wet or damp  Single carriageway   \n",
      "2       Metropolitan Police                     Dry  Single carriageway   \n",
      "3       Metropolitan Police            Frost or ice  Single carriageway   \n",
      "4       Metropolitan Police                     Dry  Single carriageway   \n",
      "...                     ...                     ...                 ...   \n",
      "307968             Northern                     Dry  Single carriageway   \n",
      "307969             Northern            Frost or ice  Single carriageway   \n",
      "307970             Northern            Frost or ice  Single carriageway   \n",
      "307971             Northern             Wet or damp  Single carriageway   \n",
      "307972             Northern             Wet or damp    Dual carriageway   \n",
      "\n",
      "       Speed_limit      Time Urban_or_Rural_Area     Weather_Conditions  \\\n",
      "0               30  15:11:00               Urban     Fine no high winds   \n",
      "1               30  10:59:00               Urban     Fine no high winds   \n",
      "2               30  14:19:00               Urban     Fine no high winds   \n",
      "3               30  08:10:00               Urban                  Other   \n",
      "4               30  17:25:00               Urban     Fine no high winds   \n",
      "...            ...       ...                 ...                    ...   \n",
      "307968          60  07:00:00               Rural     Fine no high winds   \n",
      "307969          60  03:00:00               Rural     Fine no high winds   \n",
      "307970          30  09:38:00               Rural     Fine no high winds   \n",
      "307971          60  18:25:00               Rural     Fine no high winds   \n",
      "307972          60  15:45:00               Rural  Snowing no high winds   \n",
      "\n",
      "                 Vehicle_Type  \n",
      "0                         Car  \n",
      "1       Taxi/Private hire car  \n",
      "2       Taxi/Private hire car  \n",
      "3       Motorcycle over 500cc  \n",
      "4                         Car  \n",
      "...                       ...  \n",
      "307968                    Car  \n",
      "307969                    Car  \n",
      "307970                    Car  \n",
      "307971  Motorcycle over 500cc  \n",
      "307972                    Car  \n",
      "\n",
      "[307973 rows x 21 columns]\n"
     ]
    }
   ],
   "source": [
    "print(df)"
   ]
  },
  {
   "cell_type": "code",
   "execution_count": null,
   "metadata": {},
   "outputs": [],
   "source": []
  },
  {
   "cell_type": "code",
   "execution_count": null,
   "metadata": {},
   "outputs": [],
   "source": []
  },
  {
   "cell_type": "markdown",
   "metadata": {},
   "source": [
    "### Data Exploration"
   ]
  },
  {
   "cell_type": "code",
   "execution_count": null,
   "metadata": {},
   "outputs": [],
   "source": []
  },
  {
   "cell_type": "markdown",
   "metadata": {},
   "source": [
    "### Data Visualization"
   ]
  },
  {
   "cell_type": "code",
   "execution_count": null,
   "metadata": {},
   "outputs": [],
   "source": []
  },
  {
   "cell_type": "markdown",
   "metadata": {},
   "source": [
    "### Conclusion"
   ]
  },
  {
   "cell_type": "code",
   "execution_count": null,
   "metadata": {},
   "outputs": [],
   "source": []
  },
  {
   "cell_type": "markdown",
   "metadata": {},
   "source": [
    "<span style=\"color:#FF5733\"> red </span>\n",
    "<span style=\"color:#3498db\"> blue </span>\n",
    "<span style=\"color:#2ecc71\"> green </span>\n",
    "<span style=\"color:#9b59b6\"> purple </span>\n",
    "<span style=\"color:#f39c12\"> orange </span>\n",
    "<span style=\"color:#1abc9c\"> teal </span>"
   ]
  },
  {
   "cell_type": "markdown",
   "metadata": {},
   "source": [
    "red = '#FF5733'\n",
    "blue = '#3498db'\n",
    "green = '#2ecc71'\n",
    "purple = '#9b59b6'\n",
    "orange = '#f39c12'\n",
    "teal = '#1abc9c'"
   ]
  },
  {
   "cell_type": "markdown",
   "metadata": {},
   "source": []
  }
 ],
 "metadata": {
  "kernelspec": {
   "display_name": "Python 3",
   "language": "python",
   "name": "python3"
  },
  "language_info": {
   "codemirror_mode": {
    "name": "ipython",
    "version": 3
   },
   "file_extension": ".py",
   "mimetype": "text/x-python",
   "name": "python",
   "nbconvert_exporter": "python",
   "pygments_lexer": "ipython3",
   "version": "3.12.1"
  }
 },
 "nbformat": 4,
 "nbformat_minor": 2
}
