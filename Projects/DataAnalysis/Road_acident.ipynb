{
 "cells": [
  {
   "cell_type": "markdown",
   "metadata": {},
   "source": [
    "# Road Accident"
   ]
  },
  {
   "cell_type": "markdown",
   "metadata": {},
   "source": [
    "### Objectives"
   ]
  },
  {
   "cell_type": "markdown",
   "metadata": {},
   "source": [
    "\n",
    "CARDS\n",
    "\n",
    "- Total Casualties\n",
    "- Total Serious Casaulties\n",
    "- Total Fatal Casaulties\n",
    "- Total Slight Casaulties\n",
    "- Total Casaulties by Car\n",
    "- Casaulties By [Vehicle Types]\n",
    "\n",
    "GRAPHS\n",
    "- Casaulties by Monthly trends\n",
    "- Casaulties by [Road Type]\n",
    "- Casaulties by Road Surface\n",
    "- Casaulties by Location\n",
    "- Casualties by Day Night\n"
   ]
  },
  {
   "cell_type": "markdown",
   "metadata": {},
   "source": [
    "### Import and Reading of data"
   ]
  },
  {
   "cell_type": "code",
   "execution_count": 1,
   "metadata": {},
   "outputs": [],
   "source": [
    "# Imports\n",
    "import pandas as pd\n",
    "import seaborn as sns\n",
    "import matplotlib.pyplot as plt"
   ]
  },
  {
   "cell_type": "code",
   "execution_count": null,
   "metadata": {},
   "outputs": [],
   "source": [
    "data_path = '/workspaces/PythonSpace/Datasource/Project/Road_accident.xlsx'\n",
    "raw = pd.read_excel(data_path)"
   ]
  },
  {
   "cell_type": "code",
   "execution_count": 16,
   "metadata": {},
   "outputs": [],
   "source": [
    "df = raw"
   ]
  },
  {
   "cell_type": "markdown",
   "metadata": {},
   "source": [
    "### Data Cleaning"
   ]
  },
  {
   "cell_type": "code",
   "execution_count": 17,
   "metadata": {},
   "outputs": [],
   "source": [
    "columns_to_drop = ['Local_Authority_(District)', 'Carriageway_Hazards', 'Accident_Index', 'Latitude', 'Longitude', 'Carriageway_Hazards', 'Number_of_Vehicles', 'Police_Force', 'Speed_limit', 'Time', 'Weather_Conditions', 'Junction_Control', 'Junction_Detail']\n",
    "\n",
    "df = df.drop(columns = columns_to_drop)"
   ]
  },
  {
   "cell_type": "code",
   "execution_count": 28,
   "metadata": {},
   "outputs": [],
   "source": [
    "column_names = [ 'date', 'day', 'severity', 'light_condition', 'number_of_casualties', 'road_condition', 'road_type', 'location', 'vehicle_type']\n",
    "\n",
    "df.columns = column_names"
   ]
  },
  {
   "cell_type": "code",
   "execution_count": null,
   "metadata": {},
   "outputs": [
    {
     "data": {
      "text/plain": [
       "<DatetimeArray>\n",
       "['2021-01-01 00:00:00', '2021-01-05 00:00:00', '2021-01-04 00:00:00',\n",
       " '2021-01-06 00:00:00', '2021-01-08 00:00:00', '2021-01-02 00:00:00',\n",
       " '2021-01-07 00:00:00', '2021-01-10 00:00:00', '2021-01-16 00:00:00',\n",
       " '2021-01-12 00:00:00',\n",
       " ...\n",
       " '2022-09-13 00:00:00', '2022-10-31 00:00:00', '2022-11-21 00:00:00',\n",
       " '2022-12-02 00:00:00', '2022-12-18 00:00:00', '2022-12-29 00:00:00',\n",
       " '2022-12-30 00:00:00', '2022-12-26 00:00:00', '2022-07-25 00:00:00',\n",
       " '2022-12-25 00:00:00']\n",
       "Length: 730, dtype: datetime64[ns]"
      ]
     },
     "execution_count": 32,
     "metadata": {},
     "output_type": "execute_result"
    }
   ],
   "source": []
  },
  {
   "cell_type": "code",
   "execution_count": null,
   "metadata": {},
   "outputs": [],
   "source": []
  },
  {
   "cell_type": "code",
   "execution_count": null,
   "metadata": {},
   "outputs": [],
   "source": []
  },
  {
   "cell_type": "markdown",
   "metadata": {},
   "source": [
    "### Data Exploration"
   ]
  },
  {
   "cell_type": "code",
   "execution_count": null,
   "metadata": {},
   "outputs": [],
   "source": []
  },
  {
   "cell_type": "markdown",
   "metadata": {},
   "source": [
    "### Data Visualization"
   ]
  },
  {
   "cell_type": "code",
   "execution_count": null,
   "metadata": {},
   "outputs": [],
   "source": []
  },
  {
   "cell_type": "markdown",
   "metadata": {},
   "source": [
    "### Conclusion"
   ]
  },
  {
   "cell_type": "code",
   "execution_count": null,
   "metadata": {},
   "outputs": [],
   "source": []
  }
 ],
 "metadata": {
  "kernelspec": {
   "display_name": "Python 3",
   "language": "python",
   "name": "python3"
  },
  "language_info": {
   "codemirror_mode": {
    "name": "ipython",
    "version": 3
   },
   "file_extension": ".py",
   "mimetype": "text/x-python",
   "name": "python",
   "nbconvert_exporter": "python",
   "pygments_lexer": "ipython3",
   "version": "3.12.1"
  }
 },
 "nbformat": 4,
 "nbformat_minor": 2
}
