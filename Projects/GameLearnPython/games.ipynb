{
 "cells": [
  {
   "cell_type": "markdown",
   "metadata": {},
   "source": [
    "<h1 style='color:MediumSeaGreen'> Games <h1>"
   ]
  },
  {
   "cell_type": "markdown",
   "metadata": {},
   "source": [
    "## <h2 style='color:DarkOrange'> Roll Dice Game <h1>"
   ]
  },
  {
   "cell_type": "code",
   "execution_count": null,
   "metadata": {},
   "outputs": [],
   "source": [
    "import random\n",
    "\n",
    "while True:\n",
    "    choice = str(input('Roll the dice? (y/n) : ')).lower()\n",
    "    if choice == 'y':\n",
    "        die1 = random.randint(1, 6)\n",
    "        die2 = random.randint(1, 6)\n",
    "        print(f'({die1}, {die2})')\n",
    "    elif choice == 'n':\n",
    "        print('Thanks for playing!')\n",
    "        break\n",
    "    else:\n",
    "        print('Invalid choice!')"
   ]
  },
  {
   "cell_type": "markdown",
   "metadata": {},
   "source": [
    "## <h2 style='color:DarkOrange'> Number guessing game <h1>"
   ]
  },
  {
   "cell_type": "code",
   "execution_count": null,
   "metadata": {},
   "outputs": [],
   "source": [
    "import random\n",
    "\n",
    "number = round(random.randint(1,100))\n",
    "number_of_guess = 0\n",
    "while True:\n",
    "    try:\n",
    "        guess = int(input('Guess the number between 1 and 100: '))\n",
    "\n",
    "        if guess > number:\n",
    "            print(\"Too high!\")\n",
    "        elif guess < number:\n",
    "            print(\"Too low!\")\n",
    "        else:\n",
    "            print(f\"Congratulations! You've guessed the number. \\nYou guess {number_of_guess + 1} times\")\n",
    "            break\n",
    "        number_of_guess += 1\n",
    "    except ValueError:\n",
    "        print('Please enter a valid number')"
   ]
  },
  {
   "cell_type": "markdown",
   "metadata": {},
   "source": [
    "## <h2 style='color:DarkOrange'> Game name <h1>"
   ]
  },
  {
   "cell_type": "code",
   "execution_count": null,
   "metadata": {},
   "outputs": [],
   "source": []
  }
 ],
 "metadata": {
  "kernelspec": {
   "display_name": "Python 3",
   "language": "python",
   "name": "python3"
  },
  "language_info": {
   "codemirror_mode": {
    "name": "ipython",
    "version": 3
   },
   "file_extension": ".py",
   "mimetype": "text/x-python",
   "name": "python",
   "nbconvert_exporter": "python",
   "pygments_lexer": "ipython3",
   "version": "3.12.1"
  }
 },
 "nbformat": 4,
 "nbformat_minor": 2
}
