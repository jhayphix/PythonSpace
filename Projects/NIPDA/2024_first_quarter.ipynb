{
 "cells": [
  {
   "cell_type": "markdown",
   "metadata": {},
   "source": [
    "<h1 style=\"color:DarkOrange\">2024 NIPDA Team Project - First Quarter</h1>"
   ]
  },
  {
   "cell_type": "markdown",
   "metadata": {},
   "source": [
    "The 2024 NIPDA Team Projects dataset records data from multiple visits and screenings performed from January to October 2024. It includes details such as company information, geographical coordinates, sector activities, fee processing, document status, and officer assignments. This project aims to uncover actionable insights, streamline monthly reporting, and facilitate dynamic updates for continuous monitoring and evaluation. "
   ]
  },
  {
   "cell_type": "markdown",
   "metadata": {},
   "source": [
    "The dataset contains information such as: \n",
    "\n",
    "- Date of Visit: Date on which the visit occurred. \n",
    "\n",
    "- Company Information: Name of the company visited. \n",
    "\n",
    "- Location Details: Includes latitude, longitude, and region. \n",
    "\n",
    "- Sector: The type of industry (e.g., Manufacturing, Energy). \n",
    "\n",
    "- Undertaking and Description: Activities or projects undertaken by the company. \n",
    "\n",
    "- Fees and Payments: Processing fees, permit fees, total charges, and payment status. \n",
    "\n",
    "- Status: Status of processing (e.g., Pending, Paid, Permitted). \n",
    "\n",
    "- Officer Assignments: Officers and personnel handling specific tasks. "
   ]
  },
  {
   "cell_type": "markdown",
   "metadata": {},
   "source": [
    "## <span style=\"color:MediumSeaGreen\"> Objectives <span>"
   ]
  },
  {
   "cell_type": "markdown",
   "metadata": {},
   "source": [
    "## <span style=\"color:MediumSeaGreen\"> Imports and data reading <span>"
   ]
  },
  {
   "cell_type": "code",
   "execution_count": null,
   "metadata": {
    "vscode": {
     "languageId": "plaintext"
    }
   },
   "outputs": [],
   "source": []
  },
  {
   "cell_type": "code",
   "execution_count": null,
   "metadata": {
    "vscode": {
     "languageId": "plaintext"
    }
   },
   "outputs": [],
   "source": []
  },
  {
   "cell_type": "code",
   "execution_count": null,
   "metadata": {
    "vscode": {
     "languageId": "plaintext"
    }
   },
   "outputs": [],
   "source": []
  },
  {
   "cell_type": "markdown",
   "metadata": {},
   "source": [
    "## <span style=\"color:MediumSeaGreen\"> Data Cleaning <span>"
   ]
  },
  {
   "cell_type": "markdown",
   "metadata": {},
   "source": [
    "## <span style=\"color:MediumSeaGreen\"> Data Exploration <span>"
   ]
  },
  {
   "cell_type": "markdown",
   "metadata": {},
   "source": [
    "## <span style=\"color:MediumSeaGreen\"> Data Visualization <span>"
   ]
  }
 ],
 "metadata": {
  "language_info": {
   "name": "python"
  }
 },
 "nbformat": 4,
 "nbformat_minor": 2
}
