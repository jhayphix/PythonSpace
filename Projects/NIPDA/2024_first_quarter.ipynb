{
 "cells": [
  {
   "cell_type": "markdown",
   "metadata": {},
   "source": [
    "<h1 style=\"color:DarkOrange\">2024 NIPDA Team Project - First Quarter</h1>"
   ]
  },
  {
   "cell_type": "markdown",
   "metadata": {},
   "source": [
    "The 2024 NIPDA Team Projects dataset records data from multiple visits and screenings performed from January to October 2024. It includes details such as company information, geographical coordinates, sector activities, fee processing, document status, and officer assignments. This project aims to uncover actionable insights, streamline monthly reporting, and facilitate dynamic updates for continuous monitoring and evaluation. "
   ]
  },
  {
   "cell_type": "markdown",
   "metadata": {},
   "source": [
    "The dataset contains information such as: \n",
    "\n",
    "    - Date of Visit: Date on which the visit occurred. \n",
    "\n",
    "    - Company Information: Name of the company visited. \n",
    "\n",
    "    - Location Details: Includes latitude, longitude, and region. \n",
    "\n",
    "    - Sector: The type of industry (e.g., Manufacturing, Energy). \n",
    "\n",
    "    - Undertaking and Description: Activities or projects undertaken by the company. \n",
    "\n",
    "    - Fees and Payments: Processing fees, permit fees, total charges, and payment status. \n",
    "\n",
    "    - Status: Status of processing (e.g., Pending, Paid, Permitted). \n",
    "\n",
    "    - Officer Assignments: Officers and personnel handling specific tasks. "
   ]
  },
  {
   "cell_type": "markdown",
   "metadata": {},
   "source": [
    "## <span style=\"color:MediumSeaGreen\"> Objectives <span>"
   ]
  },
  {
   "cell_type": "markdown",
   "metadata": {},
   "source": [
    "Visits Overview \n",
    "\n",
    "        Total Visits: ___ \n",
    "\n",
    "        Most Common Sector: ___ \n",
    "\n",
    "        Sector with the Most Pending Status: ___ \n",
    "\n",
    "        Number of companies screened: ____ \n",
    "\n",
    "        Number of companies verified: ____ \n",
    "\n",
    "        Number of companies monitored: ____ \n",
    "\n",
    "        Officer performance: Number of visits or tasks assigned per officer. \n",
    "\n",
    " "
   ]
  },
  {
   "cell_type": "markdown",
   "metadata": {},
   "source": [
    "\n",
    "\n",
    " \n",
    "\n",
    " \n",
    "\n",
    "Payments Summary \n",
    "\n",
    "        Total processing fees: ____ \n",
    "\n",
    "        Total Permit fees: ____ \n",
    "\n",
    "        Number of pending payments: ____ \n",
    "\n",
    "        Number of payments marked as completed: ____ \n",
    "\n",
    "        Total Revenue Collected: GHC ___ \n",
    "\n",
    "        Total Potential Revenue Collected: GHC ___ \n",
    "\n",
    "        Total Unpaid Amount: GHC ___ \n",
    "\n",
    "        Company with Highest Payment: ___ \n",
    "\n",
    " \n",
    "\n"
   ]
  },
  {
   "cell_type": "markdown",
   "metadata": {},
   "source": [
    "Activity Analysis \n",
    "\n",
    "        Most Common Activity: ___ \n",
    "\n",
    "        Status with the Highest Frequency: ___ \n",
    "\n",
    "        Personnel Contribution \n",
    "\n",
    "        Officer with Most Visits: ___ \n",
    "\n",
    "        Officer Assigned to the Most Pending Cases: ___ "
   ]
  },
  {
   "cell_type": "markdown",
   "metadata": {},
   "source": [
    "## <span style=\"color:MediumSeaGreen\"> Imports and data reading <span>"
   ]
  },
  {
   "cell_type": "code",
   "execution_count": 1,
   "metadata": {},
   "outputs": [],
   "source": [
    "import pandas as pd\n",
    "import matplotlib.pyplot as plt\n",
    "import seaborn as sns"
   ]
  },
  {
   "cell_type": "code",
   "execution_count": 3,
   "metadata": {},
   "outputs": [],
   "source": [
    "data_path = \"/workspaces/PythonSpace/Projects/NIPDA/2024_NIPDA_Data.xlsx\"\n",
    "data_read = pd.read_excel(data_path, sheet_name=\"1ST QUARTER 24\")\n"
   ]
  },
  {
   "cell_type": "code",
   "execution_count": 4,
   "metadata": {},
   "outputs": [],
   "source": [
    "data_raw = data_read"
   ]
  },
  {
   "cell_type": "code",
   "execution_count": 5,
   "metadata": {},
   "outputs": [
    {
     "data": {
      "text/html": [
       "<div>\n",
       "<style scoped>\n",
       "    .dataframe tbody tr th:only-of-type {\n",
       "        vertical-align: middle;\n",
       "    }\n",
       "\n",
       "    .dataframe tbody tr th {\n",
       "        vertical-align: top;\n",
       "    }\n",
       "\n",
       "    .dataframe thead th {\n",
       "        text-align: right;\n",
       "    }\n",
       "</style>\n",
       "<table border=\"1\" class=\"dataframe\">\n",
       "  <thead>\n",
       "    <tr style=\"text-align: right;\">\n",
       "      <th></th>\n",
       "      <th>NO.</th>\n",
       "      <th>DATE OF MINUTING</th>\n",
       "      <th>DATE OF VISIT</th>\n",
       "      <th>COMPANY</th>\n",
       "      <th>LATITUDE</th>\n",
       "      <th>LONGITUDE</th>\n",
       "      <th>LOCATION</th>\n",
       "      <th>SECTOR</th>\n",
       "      <th>UNDERTAKING</th>\n",
       "      <th>DESCRIPTION</th>\n",
       "      <th>...</th>\n",
       "      <th>PROCESSING FEES</th>\n",
       "      <th>PERMIT FEES</th>\n",
       "      <th>TOTAL</th>\n",
       "      <th>PAID / UNPAID</th>\n",
       "      <th>STATUS</th>\n",
       "      <th>OFFICER 1</th>\n",
       "      <th>OFFICER 2</th>\n",
       "      <th>PERSONNEL</th>\n",
       "      <th>DRIVER</th>\n",
       "      <th>Unnamed: 21</th>\n",
       "    </tr>\n",
       "  </thead>\n",
       "  <tbody>\n",
       "    <tr>\n",
       "      <th>0</th>\n",
       "      <td>1.0</td>\n",
       "      <td>2023-07-03</td>\n",
       "      <td>2024-01-10 00:00:00</td>\n",
       "      <td>CFH OIL INDUSTRY LIMITED</td>\n",
       "      <td>5.884278</td>\n",
       "      <td>0.266075</td>\n",
       "      <td>DAWA</td>\n",
       "      <td>MANUFACTURING</td>\n",
       "      <td>PLASTIC RECYCLING</td>\n",
       "      <td>PROPOSED PLASTIC &amp; TYRE RECYCLING PROJECT</td>\n",
       "      <td>...</td>\n",
       "      <td>15000</td>\n",
       "      <td>NaN</td>\n",
       "      <td>15000.0</td>\n",
       "      <td>NaN</td>\n",
       "      <td>SCOPING REPORT PENDING</td>\n",
       "      <td>HANNAH</td>\n",
       "      <td>IVY</td>\n",
       "      <td>EUNICE</td>\n",
       "      <td>PATRICK</td>\n",
       "      <td>NaN</td>\n",
       "    </tr>\n",
       "    <tr>\n",
       "      <th>1</th>\n",
       "      <td>2.0</td>\n",
       "      <td>2023-07-03</td>\n",
       "      <td>2024-01-10 00:00:00</td>\n",
       "      <td>AWARRIOR LIMITED</td>\n",
       "      <td>5.824773</td>\n",
       "      <td>0.202750</td>\n",
       "      <td>TSOPOLI</td>\n",
       "      <td>MANUFACTURING</td>\n",
       "      <td>LPG BOTTLING</td>\n",
       "      <td>EXISTING LPG CYLINDER MANUFACTURING FACILITY</td>\n",
       "      <td>...</td>\n",
       "      <td>NaN</td>\n",
       "      <td>NaN</td>\n",
       "      <td>0.0</td>\n",
       "      <td>PAID</td>\n",
       "      <td>TRC</td>\n",
       "      <td>HANNAH</td>\n",
       "      <td>IVY</td>\n",
       "      <td>EUNICE</td>\n",
       "      <td>PATRICK</td>\n",
       "      <td>NaN</td>\n",
       "    </tr>\n",
       "    <tr>\n",
       "      <th>2</th>\n",
       "      <td>35.0</td>\n",
       "      <td>NaT</td>\n",
       "      <td>2024-01-29 00:00:00</td>\n",
       "      <td>NAOMI FARM</td>\n",
       "      <td>6.029019</td>\n",
       "      <td>0.051568</td>\n",
       "      <td>TEYE KWAME</td>\n",
       "      <td>AGRICULTURE</td>\n",
       "      <td>LIVESTOCK FARM</td>\n",
       "      <td>PROPOSED POULTRY FARM &amp; PIGGERY</td>\n",
       "      <td>...</td>\n",
       "      <td>1155</td>\n",
       "      <td>NaN</td>\n",
       "      <td>1155.0</td>\n",
       "      <td>UNPAID</td>\n",
       "      <td>ZONING &amp; PAYMENT PENDING</td>\n",
       "      <td>KLENAM</td>\n",
       "      <td>IVY</td>\n",
       "      <td>EUNICE</td>\n",
       "      <td>PATRICK</td>\n",
       "      <td>NaN</td>\n",
       "    </tr>\n",
       "  </tbody>\n",
       "</table>\n",
       "<p>3 rows × 22 columns</p>\n",
       "</div>"
      ],
      "text/plain": [
       "    NO. DATE OF MINUTING        DATE OF VISIT                   COMPANY  \\\n",
       "0   1.0       2023-07-03  2024-01-10 00:00:00  CFH OIL INDUSTRY LIMITED   \n",
       "1   2.0       2023-07-03  2024-01-10 00:00:00          AWARRIOR LIMITED   \n",
       "2  35.0              NaT  2024-01-29 00:00:00                NAOMI FARM   \n",
       "\n",
       "   LATITUDE  LONGITUDE    LOCATION         SECTOR        UNDERTAKING  \\\n",
       "0  5.884278   0.266075        DAWA  MANUFACTURING  PLASTIC RECYCLING   \n",
       "1  5.824773   0.202750     TSOPOLI  MANUFACTURING       LPG BOTTLING   \n",
       "2  6.029019   0.051568  TEYE KWAME    AGRICULTURE     LIVESTOCK FARM   \n",
       "\n",
       "                                    DESCRIPTION  ... PROCESSING FEES  \\\n",
       "0     PROPOSED PLASTIC & TYRE RECYCLING PROJECT  ...           15000   \n",
       "1  EXISTING LPG CYLINDER MANUFACTURING FACILITY  ...             NaN   \n",
       "2               PROPOSED POULTRY FARM & PIGGERY  ...            1155   \n",
       "\n",
       "  PERMIT FEES    TOTAL PAID / UNPAID                    STATUS OFFICER 1  \\\n",
       "0         NaN  15000.0           NaN    SCOPING REPORT PENDING    HANNAH   \n",
       "1         NaN      0.0          PAID                       TRC    HANNAH   \n",
       "2         NaN   1155.0        UNPAID  ZONING & PAYMENT PENDING    KLENAM   \n",
       "\n",
       "  OFFICER 2 PERSONNEL   DRIVER Unnamed: 21  \n",
       "0       IVY    EUNICE  PATRICK         NaN  \n",
       "1       IVY    EUNICE  PATRICK         NaN  \n",
       "2       IVY    EUNICE  PATRICK         NaN  \n",
       "\n",
       "[3 rows x 22 columns]"
      ]
     },
     "execution_count": 5,
     "metadata": {},
     "output_type": "execute_result"
    }
   ],
   "source": [
    "data_raw.head(3)"
   ]
  },
  {
   "cell_type": "markdown",
   "metadata": {},
   "source": [
    "## <span style=\"color:MediumSeaGreen\"> Data Cleaning <span>"
   ]
  },
  {
   "cell_type": "markdown",
   "metadata": {},
   "source": [
    "## <span style=\"color:MediumSeaGreen\"> Data Exploration <span>"
   ]
  },
  {
   "cell_type": "markdown",
   "metadata": {},
   "source": [
    "## <span style=\"color:MediumSeaGreen\"> Data Visualization <span>"
   ]
  }
 ],
 "metadata": {
  "kernelspec": {
   "display_name": "Python 3",
   "language": "python",
   "name": "python3"
  },
  "language_info": {
   "codemirror_mode": {
    "name": "ipython",
    "version": 3
   },
   "file_extension": ".py",
   "mimetype": "text/x-python",
   "name": "python",
   "nbconvert_exporter": "python",
   "pygments_lexer": "ipython3",
   "version": "3.12.1"
  }
 },
 "nbformat": 4,
 "nbformat_minor": 2
}
