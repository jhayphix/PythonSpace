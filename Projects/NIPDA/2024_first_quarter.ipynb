{
 "cells": [
  {
   "cell_type": "markdown",
   "metadata": {},
   "source": [
    "<h1 style=\"color:DarkOrange\">2024 NIPDA Team Project - First Quarter</h1>"
   ]
  },
  {
   "cell_type": "markdown",
   "metadata": {},
   "source": [
    "The 2024 NIPDA Team Projects dataset records data from multiple visits and screenings performed from January to October 2024. It includes details such as company information, geographical coordinates, sector activities, fee processing, document status, and officer assignments. This project aims to uncover actionable insights, streamline monthly reporting, and facilitate dynamic updates for continuous monitoring and evaluation. "
   ]
  },
  {
   "cell_type": "markdown",
   "metadata": {},
   "source": [
    "The dataset contains information such as: \n",
    "\n",
    "    - Date of Visit: Date on which the visit occurred. \n",
    "\n",
    "    - Company Information: Name of the company visited. \n",
    "\n",
    "    - Location Details: Includes latitude, longitude, and region. \n",
    "\n",
    "    - Sector: The type of industry (e.g., Manufacturing, Energy). \n",
    "\n",
    "    - Undertaking and Description: Activities or projects undertaken by the company. \n",
    "\n",
    "    - Fees and Payments: Processing fees, permit fees, total charges, and payment status. \n",
    "\n",
    "    - Status: Status of processing (e.g., Pending, Paid, Permitted). \n",
    "\n",
    "    - Officer Assignments: Officers and personnel handling specific tasks. "
   ]
  },
  {
   "cell_type": "markdown",
   "metadata": {},
   "source": [
    "## <span style=\"color:MediumSeaGreen\"> Objectives <span>"
   ]
  },
  {
   "cell_type": "markdown",
   "metadata": {},
   "source": [
    "## <span style=\"color:MediumSeaGreen\"> Imports and data reading <span>"
   ]
  },
  {
   "cell_type": "code",
   "execution_count": 1,
   "metadata": {},
   "outputs": [],
   "source": [
    "import pandas as pd\n",
    "import matplotlib.pyplot as plt\n",
    "import seaborn as sns"
   ]
  },
  {
   "cell_type": "code",
   "execution_count": 2,
   "metadata": {},
   "outputs": [],
   "source": [
    "data_path = \"/workspaces/PythonSpace/Projects/NIPDA/2024_NIPDA_Data.xlsx\"\n",
    "sheet_name = \"1ST QUARTER 24\"\n",
    "data_read = pd.read_excel(data_path, sheet_name=sheet_name)"
   ]
  },
  {
   "cell_type": "code",
   "execution_count": 3,
   "metadata": {},
   "outputs": [],
   "source": [
    "df_raw = data_read.copy()"
   ]
  },
  {
   "cell_type": "code",
   "execution_count": 4,
   "metadata": {},
   "outputs": [
    {
     "data": {
      "text/html": [
       "<div>\n",
       "<style scoped>\n",
       "    .dataframe tbody tr th:only-of-type {\n",
       "        vertical-align: middle;\n",
       "    }\n",
       "\n",
       "    .dataframe tbody tr th {\n",
       "        vertical-align: top;\n",
       "    }\n",
       "\n",
       "    .dataframe thead th {\n",
       "        text-align: right;\n",
       "    }\n",
       "</style>\n",
       "<table border=\"1\" class=\"dataframe\">\n",
       "  <thead>\n",
       "    <tr style=\"text-align: right;\">\n",
       "      <th></th>\n",
       "      <th>NO.</th>\n",
       "      <th>DATE OF MINUTING</th>\n",
       "      <th>DATE OF VISIT</th>\n",
       "      <th>COMPANY</th>\n",
       "      <th>LATITUDE</th>\n",
       "      <th>LONGITUDE</th>\n",
       "      <th>LOCATION</th>\n",
       "      <th>SECTOR</th>\n",
       "      <th>UNDERTAKING</th>\n",
       "      <th>DESCRIPTION</th>\n",
       "      <th>...</th>\n",
       "      <th>PROCESSING FEES</th>\n",
       "      <th>PERMIT FEES</th>\n",
       "      <th>TOTAL</th>\n",
       "      <th>PAID / UNPAID</th>\n",
       "      <th>STATUS</th>\n",
       "      <th>OFFICER 1</th>\n",
       "      <th>OFFICER 2</th>\n",
       "      <th>PERSONNEL</th>\n",
       "      <th>DRIVER</th>\n",
       "      <th>Unnamed: 21</th>\n",
       "    </tr>\n",
       "  </thead>\n",
       "  <tbody>\n",
       "    <tr>\n",
       "      <th>0</th>\n",
       "      <td>1.0</td>\n",
       "      <td>2023-07-03</td>\n",
       "      <td>2024-01-10</td>\n",
       "      <td>CFH OIL INDUSTRY LIMITED</td>\n",
       "      <td>5.884278</td>\n",
       "      <td>0.266075</td>\n",
       "      <td>DAWA</td>\n",
       "      <td>MANUFACTURING</td>\n",
       "      <td>PLASTIC RECYCLING</td>\n",
       "      <td>PROPOSED PLASTIC &amp; TYRE RECYCLING PROJECT</td>\n",
       "      <td>...</td>\n",
       "      <td>15000</td>\n",
       "      <td>NaN</td>\n",
       "      <td>15000.0</td>\n",
       "      <td>NaN</td>\n",
       "      <td>SCOPING REPORT PENDING</td>\n",
       "      <td>HANNAH</td>\n",
       "      <td>IVY</td>\n",
       "      <td>EUNICE</td>\n",
       "      <td>PATRICK</td>\n",
       "      <td>NaN</td>\n",
       "    </tr>\n",
       "    <tr>\n",
       "      <th>1</th>\n",
       "      <td>2.0</td>\n",
       "      <td>2023-07-03</td>\n",
       "      <td>2024-01-10</td>\n",
       "      <td>AWARRIOR LIMITED</td>\n",
       "      <td>5.824773</td>\n",
       "      <td>0.202750</td>\n",
       "      <td>TSOPOLI</td>\n",
       "      <td>MANUFACTURING</td>\n",
       "      <td>LPG BOTTLING</td>\n",
       "      <td>EXISTING LPG CYLINDER MANUFACTURING FACILITY</td>\n",
       "      <td>...</td>\n",
       "      <td>NaN</td>\n",
       "      <td>NaN</td>\n",
       "      <td>0.0</td>\n",
       "      <td>PAID</td>\n",
       "      <td>TRC</td>\n",
       "      <td>HANNAH</td>\n",
       "      <td>IVY</td>\n",
       "      <td>EUNICE</td>\n",
       "      <td>PATRICK</td>\n",
       "      <td>NaN</td>\n",
       "    </tr>\n",
       "    <tr>\n",
       "      <th>2</th>\n",
       "      <td>35.0</td>\n",
       "      <td>NaT</td>\n",
       "      <td>2024-01-29</td>\n",
       "      <td>NAOMI FARM</td>\n",
       "      <td>6.029019</td>\n",
       "      <td>0.051568</td>\n",
       "      <td>TEYE KWAME</td>\n",
       "      <td>AGRICULTURE</td>\n",
       "      <td>LIVESTOCK FARM</td>\n",
       "      <td>PROPOSED POULTRY FARM &amp; PIGGERY</td>\n",
       "      <td>...</td>\n",
       "      <td>1155</td>\n",
       "      <td>NaN</td>\n",
       "      <td>1155.0</td>\n",
       "      <td>UNPAID</td>\n",
       "      <td>ZONING &amp; PAYMENT PENDING</td>\n",
       "      <td>KLENAM</td>\n",
       "      <td>IVY</td>\n",
       "      <td>EUNICE</td>\n",
       "      <td>PATRICK</td>\n",
       "      <td>NaN</td>\n",
       "    </tr>\n",
       "  </tbody>\n",
       "</table>\n",
       "<p>3 rows × 22 columns</p>\n",
       "</div>"
      ],
      "text/plain": [
       "    NO. DATE OF MINUTING DATE OF VISIT                   COMPANY  LATITUDE  \\\n",
       "0   1.0       2023-07-03    2024-01-10  CFH OIL INDUSTRY LIMITED  5.884278   \n",
       "1   2.0       2023-07-03    2024-01-10          AWARRIOR LIMITED  5.824773   \n",
       "2  35.0              NaT    2024-01-29                NAOMI FARM  6.029019   \n",
       "\n",
       "   LONGITUDE    LOCATION         SECTOR        UNDERTAKING  \\\n",
       "0   0.266075        DAWA  MANUFACTURING  PLASTIC RECYCLING   \n",
       "1   0.202750     TSOPOLI  MANUFACTURING       LPG BOTTLING   \n",
       "2   0.051568  TEYE KWAME    AGRICULTURE     LIVESTOCK FARM   \n",
       "\n",
       "                                    DESCRIPTION  ... PROCESSING FEES  \\\n",
       "0     PROPOSED PLASTIC & TYRE RECYCLING PROJECT  ...           15000   \n",
       "1  EXISTING LPG CYLINDER MANUFACTURING FACILITY  ...             NaN   \n",
       "2               PROPOSED POULTRY FARM & PIGGERY  ...            1155   \n",
       "\n",
       "  PERMIT FEES    TOTAL PAID / UNPAID                    STATUS OFFICER 1  \\\n",
       "0         NaN  15000.0           NaN    SCOPING REPORT PENDING    HANNAH   \n",
       "1         NaN      0.0          PAID                       TRC    HANNAH   \n",
       "2         NaN   1155.0        UNPAID  ZONING & PAYMENT PENDING    KLENAM   \n",
       "\n",
       "  OFFICER 2 PERSONNEL   DRIVER Unnamed: 21  \n",
       "0       IVY    EUNICE  PATRICK         NaN  \n",
       "1       IVY    EUNICE  PATRICK         NaN  \n",
       "2       IVY    EUNICE  PATRICK         NaN  \n",
       "\n",
       "[3 rows x 22 columns]"
      ]
     },
     "execution_count": 4,
     "metadata": {},
     "output_type": "execute_result"
    }
   ],
   "source": [
    "df_raw.head(3)"
   ]
  },
  {
   "cell_type": "markdown",
   "metadata": {},
   "source": [
    "## <span style=\"color:MediumSeaGreen\"> Data Cleaning <span>"
   ]
  },
  {
   "cell_type": "code",
   "execution_count": 5,
   "metadata": {},
   "outputs": [
    {
     "data": {
      "text/html": [
       "<div>\n",
       "<style scoped>\n",
       "    .dataframe tbody tr th:only-of-type {\n",
       "        vertical-align: middle;\n",
       "    }\n",
       "\n",
       "    .dataframe tbody tr th {\n",
       "        vertical-align: top;\n",
       "    }\n",
       "\n",
       "    .dataframe thead th {\n",
       "        text-align: right;\n",
       "    }\n",
       "</style>\n",
       "<table border=\"1\" class=\"dataframe\">\n",
       "  <thead>\n",
       "    <tr style=\"text-align: right;\">\n",
       "      <th></th>\n",
       "      <th>NO.</th>\n",
       "      <th>DATE OF MINUTING</th>\n",
       "      <th>DATE OF VISIT</th>\n",
       "      <th>COMPANY</th>\n",
       "      <th>LATITUDE</th>\n",
       "      <th>LONGITUDE</th>\n",
       "      <th>LOCATION</th>\n",
       "      <th>SECTOR</th>\n",
       "      <th>UNDERTAKING</th>\n",
       "      <th>DESCRIPTION</th>\n",
       "      <th>...</th>\n",
       "      <th>PROCESSING FEES</th>\n",
       "      <th>PERMIT FEES</th>\n",
       "      <th>TOTAL</th>\n",
       "      <th>PAID / UNPAID</th>\n",
       "      <th>STATUS</th>\n",
       "      <th>OFFICER 1</th>\n",
       "      <th>OFFICER 2</th>\n",
       "      <th>PERSONNEL</th>\n",
       "      <th>DRIVER</th>\n",
       "      <th>Unnamed: 21</th>\n",
       "    </tr>\n",
       "  </thead>\n",
       "  <tbody>\n",
       "    <tr>\n",
       "      <th>0</th>\n",
       "      <td>1.0</td>\n",
       "      <td>2023-07-03</td>\n",
       "      <td>2024-01-10</td>\n",
       "      <td>CFH OIL INDUSTRY LIMITED</td>\n",
       "      <td>5.884278</td>\n",
       "      <td>0.266075</td>\n",
       "      <td>DAWA</td>\n",
       "      <td>MANUFACTURING</td>\n",
       "      <td>PLASTIC RECYCLING</td>\n",
       "      <td>PROPOSED PLASTIC &amp; TYRE RECYCLING PROJECT</td>\n",
       "      <td>...</td>\n",
       "      <td>15000</td>\n",
       "      <td>NaN</td>\n",
       "      <td>15000.0</td>\n",
       "      <td>NaN</td>\n",
       "      <td>SCOPING REPORT PENDING</td>\n",
       "      <td>HANNAH</td>\n",
       "      <td>IVY</td>\n",
       "      <td>EUNICE</td>\n",
       "      <td>PATRICK</td>\n",
       "      <td>NaN</td>\n",
       "    </tr>\n",
       "    <tr>\n",
       "      <th>1</th>\n",
       "      <td>2.0</td>\n",
       "      <td>2023-07-03</td>\n",
       "      <td>2024-01-10</td>\n",
       "      <td>AWARRIOR LIMITED</td>\n",
       "      <td>5.824773</td>\n",
       "      <td>0.202750</td>\n",
       "      <td>TSOPOLI</td>\n",
       "      <td>MANUFACTURING</td>\n",
       "      <td>LPG BOTTLING</td>\n",
       "      <td>EXISTING LPG CYLINDER MANUFACTURING FACILITY</td>\n",
       "      <td>...</td>\n",
       "      <td>NaN</td>\n",
       "      <td>NaN</td>\n",
       "      <td>0.0</td>\n",
       "      <td>PAID</td>\n",
       "      <td>TRC</td>\n",
       "      <td>HANNAH</td>\n",
       "      <td>IVY</td>\n",
       "      <td>EUNICE</td>\n",
       "      <td>PATRICK</td>\n",
       "      <td>NaN</td>\n",
       "    </tr>\n",
       "    <tr>\n",
       "      <th>2</th>\n",
       "      <td>35.0</td>\n",
       "      <td>NaT</td>\n",
       "      <td>2024-01-29</td>\n",
       "      <td>NAOMI FARM</td>\n",
       "      <td>6.029019</td>\n",
       "      <td>0.051568</td>\n",
       "      <td>TEYE KWAME</td>\n",
       "      <td>AGRICULTURE</td>\n",
       "      <td>LIVESTOCK FARM</td>\n",
       "      <td>PROPOSED POULTRY FARM &amp; PIGGERY</td>\n",
       "      <td>...</td>\n",
       "      <td>1155</td>\n",
       "      <td>NaN</td>\n",
       "      <td>1155.0</td>\n",
       "      <td>UNPAID</td>\n",
       "      <td>ZONING &amp; PAYMENT PENDING</td>\n",
       "      <td>KLENAM</td>\n",
       "      <td>IVY</td>\n",
       "      <td>EUNICE</td>\n",
       "      <td>PATRICK</td>\n",
       "      <td>NaN</td>\n",
       "    </tr>\n",
       "  </tbody>\n",
       "</table>\n",
       "<p>3 rows × 22 columns</p>\n",
       "</div>"
      ],
      "text/plain": [
       "    NO. DATE OF MINUTING DATE OF VISIT                   COMPANY  LATITUDE  \\\n",
       "0   1.0       2023-07-03    2024-01-10  CFH OIL INDUSTRY LIMITED  5.884278   \n",
       "1   2.0       2023-07-03    2024-01-10          AWARRIOR LIMITED  5.824773   \n",
       "2  35.0              NaT    2024-01-29                NAOMI FARM  6.029019   \n",
       "\n",
       "   LONGITUDE    LOCATION         SECTOR        UNDERTAKING  \\\n",
       "0   0.266075        DAWA  MANUFACTURING  PLASTIC RECYCLING   \n",
       "1   0.202750     TSOPOLI  MANUFACTURING       LPG BOTTLING   \n",
       "2   0.051568  TEYE KWAME    AGRICULTURE     LIVESTOCK FARM   \n",
       "\n",
       "                                    DESCRIPTION  ... PROCESSING FEES  \\\n",
       "0     PROPOSED PLASTIC & TYRE RECYCLING PROJECT  ...           15000   \n",
       "1  EXISTING LPG CYLINDER MANUFACTURING FACILITY  ...             NaN   \n",
       "2               PROPOSED POULTRY FARM & PIGGERY  ...            1155   \n",
       "\n",
       "  PERMIT FEES    TOTAL PAID / UNPAID                    STATUS OFFICER 1  \\\n",
       "0         NaN  15000.0           NaN    SCOPING REPORT PENDING    HANNAH   \n",
       "1         NaN      0.0          PAID                       TRC    HANNAH   \n",
       "2         NaN   1155.0        UNPAID  ZONING & PAYMENT PENDING    KLENAM   \n",
       "\n",
       "  OFFICER 2 PERSONNEL   DRIVER Unnamed: 21  \n",
       "0       IVY    EUNICE  PATRICK         NaN  \n",
       "1       IVY    EUNICE  PATRICK         NaN  \n",
       "2       IVY    EUNICE  PATRICK         NaN  \n",
       "\n",
       "[3 rows x 22 columns]"
      ]
     },
     "execution_count": 5,
     "metadata": {},
     "output_type": "execute_result"
    }
   ],
   "source": [
    "df_unclean = df_raw.copy()\n",
    "df_unclean.head(3)"
   ]
  },
  {
   "cell_type": "code",
   "execution_count": 6,
   "metadata": {},
   "outputs": [
    {
     "data": {
      "text/plain": [
       "Index(['NO.', 'DATE OF MINUTING', 'DATE OF VISIT', 'COMPANY', 'LATITUDE',\n",
       "       'LONGITUDE', 'LOCATION', 'SECTOR', 'UNDERTAKING', 'DESCRIPTION',\n",
       "       'ACTIVITY', 'DOCUMENT', 'PROCESSING FEES', 'PERMIT FEES', 'TOTAL',\n",
       "       'PAID / UNPAID', 'STATUS', 'OFFICER 1', 'OFFICER 2', 'PERSONNEL',\n",
       "       'DRIVER', 'Unnamed: 21'],\n",
       "      dtype='object')"
      ]
     },
     "execution_count": 6,
     "metadata": {},
     "output_type": "execute_result"
    }
   ],
   "source": [
    "df_unclean.columns"
   ]
  },
  {
   "cell_type": "code",
   "execution_count": 7,
   "metadata": {},
   "outputs": [],
   "source": [
    "new_column_names = ['no.','date_of_minuting','date_of_visit','company','latitude','longitude','location','sector','undertaking','description','activity','document','processing_fee','permit_fee','total_fee','payment_status','status','officer_1','officer_2', 'personnel','driver','unnamed']\n",
    "\n",
    "df_unclean.columns = new_column_names"
   ]
  },
  {
   "cell_type": "code",
   "execution_count": 8,
   "metadata": {},
   "outputs": [
    {
     "data": {
      "text/html": [
       "<div>\n",
       "<style scoped>\n",
       "    .dataframe tbody tr th:only-of-type {\n",
       "        vertical-align: middle;\n",
       "    }\n",
       "\n",
       "    .dataframe tbody tr th {\n",
       "        vertical-align: top;\n",
       "    }\n",
       "\n",
       "    .dataframe thead th {\n",
       "        text-align: right;\n",
       "    }\n",
       "</style>\n",
       "<table border=\"1\" class=\"dataframe\">\n",
       "  <thead>\n",
       "    <tr style=\"text-align: right;\">\n",
       "      <th></th>\n",
       "      <th>date_of_visit</th>\n",
       "      <th>company</th>\n",
       "      <th>latitude</th>\n",
       "      <th>longitude</th>\n",
       "      <th>location</th>\n",
       "      <th>sector</th>\n",
       "      <th>undertaking</th>\n",
       "      <th>description</th>\n",
       "      <th>activity</th>\n",
       "      <th>document</th>\n",
       "      <th>processing_fee</th>\n",
       "      <th>permit_fee</th>\n",
       "      <th>total_fee</th>\n",
       "      <th>payment_status</th>\n",
       "      <th>status</th>\n",
       "      <th>officer_1</th>\n",
       "      <th>officer_2</th>\n",
       "      <th>personnel</th>\n",
       "      <th>driver</th>\n",
       "    </tr>\n",
       "  </thead>\n",
       "  <tbody>\n",
       "    <tr>\n",
       "      <th>0</th>\n",
       "      <td>2024-01-10</td>\n",
       "      <td>CFH OIL INDUSTRY LIMITED</td>\n",
       "      <td>5.884278</td>\n",
       "      <td>0.266075</td>\n",
       "      <td>DAWA</td>\n",
       "      <td>MANUFACTURING</td>\n",
       "      <td>PLASTIC RECYCLING</td>\n",
       "      <td>PROPOSED PLASTIC &amp; TYRE RECYCLING PROJECT</td>\n",
       "      <td>SCREENING</td>\n",
       "      <td>FORM EA1</td>\n",
       "      <td>15000</td>\n",
       "      <td>NaN</td>\n",
       "      <td>15000.0</td>\n",
       "      <td>NaN</td>\n",
       "      <td>SCOPING REPORT PENDING</td>\n",
       "      <td>HANNAH</td>\n",
       "      <td>IVY</td>\n",
       "      <td>EUNICE</td>\n",
       "      <td>PATRICK</td>\n",
       "    </tr>\n",
       "    <tr>\n",
       "      <th>1</th>\n",
       "      <td>2024-01-10</td>\n",
       "      <td>AWARRIOR LIMITED</td>\n",
       "      <td>5.824773</td>\n",
       "      <td>0.202750</td>\n",
       "      <td>TSOPOLI</td>\n",
       "      <td>MANUFACTURING</td>\n",
       "      <td>LPG BOTTLING</td>\n",
       "      <td>EXISTING LPG CYLINDER MANUFACTURING FACILITY</td>\n",
       "      <td>MONITORING</td>\n",
       "      <td>ENFORCEMENT LETTER</td>\n",
       "      <td>NaN</td>\n",
       "      <td>NaN</td>\n",
       "      <td>0.0</td>\n",
       "      <td>PAID</td>\n",
       "      <td>TRC</td>\n",
       "      <td>HANNAH</td>\n",
       "      <td>IVY</td>\n",
       "      <td>EUNICE</td>\n",
       "      <td>PATRICK</td>\n",
       "    </tr>\n",
       "    <tr>\n",
       "      <th>2</th>\n",
       "      <td>2024-01-29</td>\n",
       "      <td>NAOMI FARM</td>\n",
       "      <td>6.029019</td>\n",
       "      <td>0.051568</td>\n",
       "      <td>TEYE KWAME</td>\n",
       "      <td>AGRICULTURE</td>\n",
       "      <td>LIVESTOCK FARM</td>\n",
       "      <td>PROPOSED POULTRY FARM &amp; PIGGERY</td>\n",
       "      <td>SCREENING</td>\n",
       "      <td>FORM EA1</td>\n",
       "      <td>1155</td>\n",
       "      <td>NaN</td>\n",
       "      <td>1155.0</td>\n",
       "      <td>UNPAID</td>\n",
       "      <td>ZONING &amp; PAYMENT PENDING</td>\n",
       "      <td>KLENAM</td>\n",
       "      <td>IVY</td>\n",
       "      <td>EUNICE</td>\n",
       "      <td>PATRICK</td>\n",
       "    </tr>\n",
       "  </tbody>\n",
       "</table>\n",
       "</div>"
      ],
      "text/plain": [
       "  date_of_visit                   company  latitude  longitude    location  \\\n",
       "0    2024-01-10  CFH OIL INDUSTRY LIMITED  5.884278   0.266075        DAWA   \n",
       "1    2024-01-10          AWARRIOR LIMITED  5.824773   0.202750     TSOPOLI   \n",
       "2    2024-01-29                NAOMI FARM  6.029019   0.051568  TEYE KWAME   \n",
       "\n",
       "          sector        undertaking  \\\n",
       "0  MANUFACTURING  PLASTIC RECYCLING   \n",
       "1  MANUFACTURING       LPG BOTTLING   \n",
       "2    AGRICULTURE     LIVESTOCK FARM   \n",
       "\n",
       "                                    description    activity  \\\n",
       "0     PROPOSED PLASTIC & TYRE RECYCLING PROJECT   SCREENING   \n",
       "1  EXISTING LPG CYLINDER MANUFACTURING FACILITY  MONITORING   \n",
       "2               PROPOSED POULTRY FARM & PIGGERY   SCREENING   \n",
       "\n",
       "             document processing_fee permit_fee  total_fee payment_status  \\\n",
       "0            FORM EA1          15000        NaN    15000.0            NaN   \n",
       "1  ENFORCEMENT LETTER            NaN        NaN        0.0           PAID   \n",
       "2            FORM EA1           1155        NaN     1155.0         UNPAID   \n",
       "\n",
       "                     status officer_1 officer_2 personnel   driver  \n",
       "0    SCOPING REPORT PENDING    HANNAH       IVY    EUNICE  PATRICK  \n",
       "1                       TRC    HANNAH       IVY    EUNICE  PATRICK  \n",
       "2  ZONING & PAYMENT PENDING    KLENAM       IVY    EUNICE  PATRICK  "
      ]
     },
     "execution_count": 8,
     "metadata": {},
     "output_type": "execute_result"
    }
   ],
   "source": [
    "# Select columns needed\n",
    "columns_needed = ['date_of_visit','company','latitude','longitude','location','sector','undertaking','description','activity','document','processing_fee','permit_fee','total_fee','payment_status','status','officer_1','officer_2', 'personnel','driver']\n",
    "df_unclean = df_unclean[columns_needed]\n",
    "df_unclean.head(3)"
   ]
  },
  {
   "cell_type": "markdown",
   "metadata": {},
   "source": [
    "<span style=\"color:DarkOrange\">Clean Date</span>"
   ]
  },
  {
   "cell_type": "code",
   "execution_count": 9,
   "metadata": {},
   "outputs": [],
   "source": [
    "# Clean date\n",
    "df_unclean.loc[:,'date_of_visit'] = pd.to_datetime(df_unclean['date_of_visit'], errors='coerce').dt.date"
   ]
  },
  {
   "cell_type": "code",
   "execution_count": 10,
   "metadata": {},
   "outputs": [],
   "source": [
    "df_unclean.loc[:, 'month'] = pd.to_datetime(df_unclean['date_of_visit'], errors='coerce').dt.strftime('%b')\n",
    "add_month_to_columns_needed = ['month'] + columns_needed\n",
    "df_unclean = df_unclean[add_month_to_columns_needed]"
   ]
  },
  {
   "cell_type": "code",
   "execution_count": 11,
   "metadata": {},
   "outputs": [
    {
     "data": {
      "text/html": [
       "<div>\n",
       "<style scoped>\n",
       "    .dataframe tbody tr th:only-of-type {\n",
       "        vertical-align: middle;\n",
       "    }\n",
       "\n",
       "    .dataframe tbody tr th {\n",
       "        vertical-align: top;\n",
       "    }\n",
       "\n",
       "    .dataframe thead th {\n",
       "        text-align: right;\n",
       "    }\n",
       "</style>\n",
       "<table border=\"1\" class=\"dataframe\">\n",
       "  <thead>\n",
       "    <tr style=\"text-align: right;\">\n",
       "      <th></th>\n",
       "      <th>month</th>\n",
       "      <th>date_of_visit</th>\n",
       "      <th>company</th>\n",
       "      <th>latitude</th>\n",
       "      <th>longitude</th>\n",
       "      <th>location</th>\n",
       "      <th>sector</th>\n",
       "      <th>undertaking</th>\n",
       "      <th>description</th>\n",
       "      <th>activity</th>\n",
       "      <th>document</th>\n",
       "      <th>processing_fee</th>\n",
       "      <th>permit_fee</th>\n",
       "      <th>total_fee</th>\n",
       "      <th>payment_status</th>\n",
       "      <th>status</th>\n",
       "      <th>officer_1</th>\n",
       "      <th>officer_2</th>\n",
       "      <th>personnel</th>\n",
       "      <th>driver</th>\n",
       "    </tr>\n",
       "  </thead>\n",
       "  <tbody>\n",
       "    <tr>\n",
       "      <th>0</th>\n",
       "      <td>Jan</td>\n",
       "      <td>2024-01-10</td>\n",
       "      <td>CFH OIL INDUSTRY LIMITED</td>\n",
       "      <td>5.884278</td>\n",
       "      <td>0.266075</td>\n",
       "      <td>DAWA</td>\n",
       "      <td>MANUFACTURING</td>\n",
       "      <td>PLASTIC RECYCLING</td>\n",
       "      <td>PROPOSED PLASTIC &amp; TYRE RECYCLING PROJECT</td>\n",
       "      <td>SCREENING</td>\n",
       "      <td>FORM EA1</td>\n",
       "      <td>15000</td>\n",
       "      <td>NaN</td>\n",
       "      <td>15000.0</td>\n",
       "      <td>NaN</td>\n",
       "      <td>SCOPING REPORT PENDING</td>\n",
       "      <td>HANNAH</td>\n",
       "      <td>IVY</td>\n",
       "      <td>EUNICE</td>\n",
       "      <td>PATRICK</td>\n",
       "    </tr>\n",
       "    <tr>\n",
       "      <th>1</th>\n",
       "      <td>Jan</td>\n",
       "      <td>2024-01-10</td>\n",
       "      <td>AWARRIOR LIMITED</td>\n",
       "      <td>5.824773</td>\n",
       "      <td>0.202750</td>\n",
       "      <td>TSOPOLI</td>\n",
       "      <td>MANUFACTURING</td>\n",
       "      <td>LPG BOTTLING</td>\n",
       "      <td>EXISTING LPG CYLINDER MANUFACTURING FACILITY</td>\n",
       "      <td>MONITORING</td>\n",
       "      <td>ENFORCEMENT LETTER</td>\n",
       "      <td>NaN</td>\n",
       "      <td>NaN</td>\n",
       "      <td>0.0</td>\n",
       "      <td>PAID</td>\n",
       "      <td>TRC</td>\n",
       "      <td>HANNAH</td>\n",
       "      <td>IVY</td>\n",
       "      <td>EUNICE</td>\n",
       "      <td>PATRICK</td>\n",
       "    </tr>\n",
       "    <tr>\n",
       "      <th>2</th>\n",
       "      <td>Jan</td>\n",
       "      <td>2024-01-29</td>\n",
       "      <td>NAOMI FARM</td>\n",
       "      <td>6.029019</td>\n",
       "      <td>0.051568</td>\n",
       "      <td>TEYE KWAME</td>\n",
       "      <td>AGRICULTURE</td>\n",
       "      <td>LIVESTOCK FARM</td>\n",
       "      <td>PROPOSED POULTRY FARM &amp; PIGGERY</td>\n",
       "      <td>SCREENING</td>\n",
       "      <td>FORM EA1</td>\n",
       "      <td>1155</td>\n",
       "      <td>NaN</td>\n",
       "      <td>1155.0</td>\n",
       "      <td>UNPAID</td>\n",
       "      <td>ZONING &amp; PAYMENT PENDING</td>\n",
       "      <td>KLENAM</td>\n",
       "      <td>IVY</td>\n",
       "      <td>EUNICE</td>\n",
       "      <td>PATRICK</td>\n",
       "    </tr>\n",
       "  </tbody>\n",
       "</table>\n",
       "</div>"
      ],
      "text/plain": [
       "  month date_of_visit                   company  latitude  longitude  \\\n",
       "0   Jan    2024-01-10  CFH OIL INDUSTRY LIMITED  5.884278   0.266075   \n",
       "1   Jan    2024-01-10          AWARRIOR LIMITED  5.824773   0.202750   \n",
       "2   Jan    2024-01-29                NAOMI FARM  6.029019   0.051568   \n",
       "\n",
       "     location         sector        undertaking  \\\n",
       "0        DAWA  MANUFACTURING  PLASTIC RECYCLING   \n",
       "1     TSOPOLI  MANUFACTURING       LPG BOTTLING   \n",
       "2  TEYE KWAME    AGRICULTURE     LIVESTOCK FARM   \n",
       "\n",
       "                                    description    activity  \\\n",
       "0     PROPOSED PLASTIC & TYRE RECYCLING PROJECT   SCREENING   \n",
       "1  EXISTING LPG CYLINDER MANUFACTURING FACILITY  MONITORING   \n",
       "2               PROPOSED POULTRY FARM & PIGGERY   SCREENING   \n",
       "\n",
       "             document processing_fee permit_fee  total_fee payment_status  \\\n",
       "0            FORM EA1          15000        NaN    15000.0            NaN   \n",
       "1  ENFORCEMENT LETTER            NaN        NaN        0.0           PAID   \n",
       "2            FORM EA1           1155        NaN     1155.0         UNPAID   \n",
       "\n",
       "                     status officer_1 officer_2 personnel   driver  \n",
       "0    SCOPING REPORT PENDING    HANNAH       IVY    EUNICE  PATRICK  \n",
       "1                       TRC    HANNAH       IVY    EUNICE  PATRICK  \n",
       "2  ZONING & PAYMENT PENDING    KLENAM       IVY    EUNICE  PATRICK  "
      ]
     },
     "execution_count": 11,
     "metadata": {},
     "output_type": "execute_result"
    }
   ],
   "source": [
    "df_unclean.head(3)"
   ]
  },
  {
   "cell_type": "code",
   "execution_count": 12,
   "metadata": {},
   "outputs": [],
   "source": [
    "finish_column_names = ['Month','Date of Visit','Company','Latitude','Longitude','Location','Sector','Undertaking','Description','Activity','Document','Processing Fee','Permit Fee','Total Fee','Payment Status','Status','Officer 1','Officer 2', 'Personnel','Driver']\n",
    "\n",
    "df_export = df_unclean.copy()\n",
    "\n",
    "df_export['date_of_visit'] = df_export['date_of_visit'].astype(str) # Change to string\n",
    "\n",
    "if len(finish_column_names) == len(df_export.columns):\n",
    "    df_export.columns = finish_column_names\n",
    "else:\n",
    "    print(\"Ooops !!! Column length dismatch\")\n"
   ]
  },
  {
   "cell_type": "code",
   "execution_count": 13,
   "metadata": {},
   "outputs": [
    {
     "name": "stdout",
     "output_type": "stream",
     "text": [
      "NIPDA_2024_Clean.xlsx already exists. Choose a different name or back up the file.\n"
     ]
    }
   ],
   "source": [
    "import os\n",
    "\n",
    "export = True\n",
    "\n",
    "file_name = 'NIPDA_2024_Clean.xlsx'\n",
    "\n",
    "if export:\n",
    "    if os.path.exists(file_name):\n",
    "        print(f\"{file_name} already exists. Choose a different name or back up the file.\")\n",
    "    else:\n",
    "        with pd.ExcelWriter(file_name) as writer:\n",
    "            df_export.to_excel(writer, sheet_name='1ST QUARTER', index=False)\n",
    "            print(\"Exported\")\n",
    "else:\n",
    "    print(\"Not exported : Export is false\")"
   ]
  },
  {
   "cell_type": "markdown",
   "metadata": {},
   "source": [
    "## <span style=\"color:MediumSeaGreen\"> Data Exploration <span>"
   ]
  },
  {
   "cell_type": "code",
   "execution_count": 93,
   "metadata": {},
   "outputs": [],
   "source": [
    "df_explore = df_unclean.copy()"
   ]
  },
  {
   "cell_type": "code",
   "execution_count": 94,
   "metadata": {},
   "outputs": [
    {
     "data": {
      "text/html": [
       "<div>\n",
       "<style scoped>\n",
       "    .dataframe tbody tr th:only-of-type {\n",
       "        vertical-align: middle;\n",
       "    }\n",
       "\n",
       "    .dataframe tbody tr th {\n",
       "        vertical-align: top;\n",
       "    }\n",
       "\n",
       "    .dataframe thead th {\n",
       "        text-align: right;\n",
       "    }\n",
       "</style>\n",
       "<table border=\"1\" class=\"dataframe\">\n",
       "  <thead>\n",
       "    <tr style=\"text-align: right;\">\n",
       "      <th></th>\n",
       "      <th>month</th>\n",
       "      <th>date_of_visit</th>\n",
       "      <th>company</th>\n",
       "      <th>latitude</th>\n",
       "      <th>longitude</th>\n",
       "      <th>location</th>\n",
       "      <th>sector</th>\n",
       "      <th>undertaking</th>\n",
       "      <th>description</th>\n",
       "      <th>activity</th>\n",
       "      <th>document</th>\n",
       "      <th>processing_fee</th>\n",
       "      <th>permit_fee</th>\n",
       "      <th>total_fee</th>\n",
       "      <th>payment_status</th>\n",
       "      <th>status</th>\n",
       "      <th>officer_1</th>\n",
       "      <th>officer_2</th>\n",
       "      <th>personnel</th>\n",
       "      <th>driver</th>\n",
       "    </tr>\n",
       "  </thead>\n",
       "  <tbody>\n",
       "    <tr>\n",
       "      <th>0</th>\n",
       "      <td>Jan</td>\n",
       "      <td>2024-01-10</td>\n",
       "      <td>CFH OIL INDUSTRY LIMITED</td>\n",
       "      <td>5.884278</td>\n",
       "      <td>0.266075</td>\n",
       "      <td>DAWA</td>\n",
       "      <td>MANUFACTURING</td>\n",
       "      <td>PLASTIC RECYCLING</td>\n",
       "      <td>PROPOSED PLASTIC &amp; TYRE RECYCLING PROJECT</td>\n",
       "      <td>SCREENING</td>\n",
       "      <td>FORM EA1</td>\n",
       "      <td>15000</td>\n",
       "      <td>NaN</td>\n",
       "      <td>15000.0</td>\n",
       "      <td>NaN</td>\n",
       "      <td>SCOPING REPORT PENDING</td>\n",
       "      <td>HANNAH</td>\n",
       "      <td>IVY</td>\n",
       "      <td>EUNICE</td>\n",
       "      <td>PATRICK</td>\n",
       "    </tr>\n",
       "    <tr>\n",
       "      <th>1</th>\n",
       "      <td>Jan</td>\n",
       "      <td>2024-01-10</td>\n",
       "      <td>AWARRIOR LIMITED</td>\n",
       "      <td>5.824773</td>\n",
       "      <td>0.202750</td>\n",
       "      <td>TSOPOLI</td>\n",
       "      <td>MANUFACTURING</td>\n",
       "      <td>LPG BOTTLING</td>\n",
       "      <td>EXISTING LPG CYLINDER MANUFACTURING FACILITY</td>\n",
       "      <td>MONITORING</td>\n",
       "      <td>ENFORCEMENT LETTER</td>\n",
       "      <td>NaN</td>\n",
       "      <td>NaN</td>\n",
       "      <td>0.0</td>\n",
       "      <td>PAID</td>\n",
       "      <td>TRC</td>\n",
       "      <td>HANNAH</td>\n",
       "      <td>IVY</td>\n",
       "      <td>EUNICE</td>\n",
       "      <td>PATRICK</td>\n",
       "    </tr>\n",
       "    <tr>\n",
       "      <th>2</th>\n",
       "      <td>Jan</td>\n",
       "      <td>2024-01-29</td>\n",
       "      <td>NAOMI FARM</td>\n",
       "      <td>6.029019</td>\n",
       "      <td>0.051568</td>\n",
       "      <td>TEYE KWAME</td>\n",
       "      <td>AGRICULTURE</td>\n",
       "      <td>LIVESTOCK FARM</td>\n",
       "      <td>PROPOSED POULTRY FARM &amp; PIGGERY</td>\n",
       "      <td>SCREENING</td>\n",
       "      <td>FORM EA1</td>\n",
       "      <td>1155</td>\n",
       "      <td>NaN</td>\n",
       "      <td>1155.0</td>\n",
       "      <td>UNPAID</td>\n",
       "      <td>ZONING &amp; PAYMENT PENDING</td>\n",
       "      <td>KLENAM</td>\n",
       "      <td>IVY</td>\n",
       "      <td>EUNICE</td>\n",
       "      <td>PATRICK</td>\n",
       "    </tr>\n",
       "    <tr>\n",
       "      <th>3</th>\n",
       "      <td>Jan</td>\n",
       "      <td>2024-01-10</td>\n",
       "      <td>NANAM VENTURES LIMITED</td>\n",
       "      <td>5.746137</td>\n",
       "      <td>0.041132</td>\n",
       "      <td>DAWHENYA</td>\n",
       "      <td>GENERAL CONSTRUCTION</td>\n",
       "      <td>WAREHOUSE</td>\n",
       "      <td>EXISTING WAREHOUSE FOR THE STORAGE OF PESTICID...</td>\n",
       "      <td>VERIFICATION</td>\n",
       "      <td>AER</td>\n",
       "      <td>NaN</td>\n",
       "      <td>3000</td>\n",
       "      <td>3000.0</td>\n",
       "      <td>PAID</td>\n",
       "      <td>PERMITTED</td>\n",
       "      <td>HANNAH</td>\n",
       "      <td>IVY</td>\n",
       "      <td>EUNICE</td>\n",
       "      <td>PATRICK</td>\n",
       "    </tr>\n",
       "    <tr>\n",
       "      <th>4</th>\n",
       "      <td>Jan</td>\n",
       "      <td>2024-01-15</td>\n",
       "      <td>BOWERS PADDIE</td>\n",
       "      <td>5.900579</td>\n",
       "      <td>-0.081960</td>\n",
       "      <td>APINYA</td>\n",
       "      <td>GENERAL CONSTRUCTION</td>\n",
       "      <td>SHOPS &amp; APARTMENTS</td>\n",
       "      <td>PROPOSED 2NO MULTIPURPOSE BUILDING FOR APARTME...</td>\n",
       "      <td>SCREENING</td>\n",
       "      <td>FORM EA1</td>\n",
       "      <td>1659.2</td>\n",
       "      <td>3966.5</td>\n",
       "      <td>5625.7</td>\n",
       "      <td>PAID</td>\n",
       "      <td>PERMITTED</td>\n",
       "      <td>KLENAM</td>\n",
       "      <td>IVY</td>\n",
       "      <td>NELSON</td>\n",
       "      <td>PATRICK</td>\n",
       "    </tr>\n",
       "  </tbody>\n",
       "</table>\n",
       "</div>"
      ],
      "text/plain": [
       "  month date_of_visit                   company  latitude  longitude  \\\n",
       "0   Jan    2024-01-10  CFH OIL INDUSTRY LIMITED  5.884278   0.266075   \n",
       "1   Jan    2024-01-10          AWARRIOR LIMITED  5.824773   0.202750   \n",
       "2   Jan    2024-01-29                NAOMI FARM  6.029019   0.051568   \n",
       "3   Jan    2024-01-10    NANAM VENTURES LIMITED  5.746137   0.041132   \n",
       "4   Jan    2024-01-15             BOWERS PADDIE  5.900579  -0.081960   \n",
       "\n",
       "     location                sector         undertaking  \\\n",
       "0        DAWA         MANUFACTURING   PLASTIC RECYCLING   \n",
       "1     TSOPOLI         MANUFACTURING        LPG BOTTLING   \n",
       "2  TEYE KWAME           AGRICULTURE      LIVESTOCK FARM   \n",
       "3    DAWHENYA  GENERAL CONSTRUCTION           WAREHOUSE   \n",
       "4      APINYA  GENERAL CONSTRUCTION  SHOPS & APARTMENTS   \n",
       "\n",
       "                                         description      activity  \\\n",
       "0          PROPOSED PLASTIC & TYRE RECYCLING PROJECT     SCREENING   \n",
       "1       EXISTING LPG CYLINDER MANUFACTURING FACILITY    MONITORING   \n",
       "2                    PROPOSED POULTRY FARM & PIGGERY     SCREENING   \n",
       "3  EXISTING WAREHOUSE FOR THE STORAGE OF PESTICID...  VERIFICATION   \n",
       "4  PROPOSED 2NO MULTIPURPOSE BUILDING FOR APARTME...     SCREENING   \n",
       "\n",
       "             document processing_fee permit_fee  total_fee payment_status  \\\n",
       "0            FORM EA1          15000        NaN    15000.0            NaN   \n",
       "1  ENFORCEMENT LETTER            NaN        NaN        0.0           PAID   \n",
       "2            FORM EA1           1155        NaN     1155.0         UNPAID   \n",
       "3                 AER            NaN       3000     3000.0           PAID   \n",
       "4            FORM EA1         1659.2     3966.5     5625.7           PAID   \n",
       "\n",
       "                     status officer_1 officer_2 personnel   driver  \n",
       "0    SCOPING REPORT PENDING    HANNAH       IVY    EUNICE  PATRICK  \n",
       "1                       TRC    HANNAH       IVY    EUNICE  PATRICK  \n",
       "2  ZONING & PAYMENT PENDING    KLENAM       IVY    EUNICE  PATRICK  \n",
       "3                 PERMITTED    HANNAH       IVY    EUNICE  PATRICK  \n",
       "4                 PERMITTED    KLENAM       IVY    NELSON  PATRICK  "
      ]
     },
     "execution_count": 94,
     "metadata": {},
     "output_type": "execute_result"
    }
   ],
   "source": [
    "df_explore.head()"
   ]
  },
  {
   "cell_type": "markdown",
   "metadata": {},
   "source": [
    "### <span style=\"color:DarkOrange\">Visit Overview</span> "
   ]
  },
  {
   "cell_type": "code",
   "execution_count": 114,
   "metadata": {},
   "outputs": [],
   "source": [
    "plot_kind = ['line', 'bar', 'barh', 'hist', 'box', 'kde', 'density', 'area', 'pie', 'scatter', 'hexbin']\n"
   ]
  },
  {
   "cell_type": "markdown",
   "metadata": {},
   "source": [
    "#### <span style=\"color:DarkOrange\">Visits</span> "
   ]
  },
  {
   "cell_type": "code",
   "execution_count": 95,
   "metadata": {},
   "outputs": [
    {
     "name": "stdout",
     "output_type": "stream",
     "text": [
      "Total Visits: 115\n"
     ]
    }
   ],
   "source": [
    "# Total Visits\n",
    "total_visits = len(df_explore)\n",
    "print(f\"Total Visits: {total_visits}\")"
   ]
  },
  {
   "cell_type": "markdown",
   "metadata": {},
   "source": [
    "<span style=\"color:DarkOrange\">Monthly Distribution of Visits</span>"
   ]
  },
  {
   "cell_type": "code",
   "execution_count": 96,
   "metadata": {},
   "outputs": [
    {
     "name": "stdout",
     "output_type": "stream",
     "text": [
      "Monthly Visits Distribution:\n",
      "month\n",
      "Feb    51\n",
      "Jan    38\n",
      "Mar    26\n",
      "Name: count, dtype: int64\n"
     ]
    }
   ],
   "source": [
    "# Monthly Distribution of Visits\n",
    "\n",
    "monthly_visits = df_explore['month'].value_counts()\n",
    "print(\"Monthly Visits Distribution:\")\n",
    "print(monthly_visits)\n"
   ]
  },
  {
   "cell_type": "code",
   "execution_count": 97,
   "metadata": {},
   "outputs": [
    {
     "data": {
      "image/png": "[encoded data removed]",
      "text/plain": [
       "<Figure size 800x500 with 1 Axes>"
      ]
     },
     "metadata": {},
     "output_type": "display_data"
    }
   ],
   "source": [
    "\n",
    "# List of bright colors for each bar\n",
    "bright_colors = ['#FF6347', '#FFD700', '#32CD32', '#00BFFF', '#FF69B4', '#FF4500', '#8A2BE2', '#FF1493', '#FF8C00']\n",
    "\n",
    "# Plotting the data with each bar in a bright color\n",
    "plt.figure(figsize=(8, 5))\n",
    "monthly_visits.plot(kind='bar', color=bright_colors[:len(monthly_visits)])\n",
    "\n",
    "# Adding titles and labels\n",
    "plt.title('Monthly Distribution of Visits', fontsize=14)\n",
    "plt.xlabel('Month', fontsize=12)\n",
    "plt.ylabel('Number of Visits', fontsize=12)\n",
    "plt.xticks(rotation=0)\n",
    "plt.show()\n"
   ]
  },
  {
   "cell_type": "code",
   "execution_count": 113,
   "metadata": {},
   "outputs": [
    {
     "name": "stdout",
     "output_type": "stream",
     "text": [
      "Most Common Sector: GENERAL CONSTRUCTION \n",
      "\n",
      "Number of Visits per Sector:\n",
      "sector\n",
      "GENERAL CONSTRUCTION    32\n",
      "MANUFACTURING           26\n",
      "ENERGY                  21\n",
      "HOSPITALITY             17\n",
      "HEALTHCARE               8\n",
      "COMPLAINT                6\n",
      "AGRICULTURE              4\n",
      "PESTICIDES               1\n",
      "Name: count, dtype: int64\n"
     ]
    },
    {
     "data": {
      "image/png": "[encoded data removed]",
      "text/plain": [
       "<Figure size 800x600 with 1 Axes>"
      ]
     },
     "metadata": {},
     "output_type": "display_data"
    }
   ],
   "source": [
    "# Display the most common sector\n",
    "most_common_sector = df_explore['sector'].value_counts().idxmax()\n",
    "print(f\"Most Common Sector: {most_common_sector} \\n\")\n",
    "\n",
    "# Visits by Sector\n",
    "sector_visits = df_explore['sector'].value_counts()\n",
    "print(\"Number of Visits per Sector:\")\n",
    "print(sector_visits)\n",
    "\n",
    "# Plotting with different colors for each bar\n",
    "plt.figure(figsize=(8, 6))\n",
    "sector_visits.plot(kind='bar', color=plt.cm.tab20.colors)\n",
    "plt.title(\"Number of Visits per Sector\", fontsize=14)\n",
    "plt.xlabel(\"Sector\", fontsize=12)\n",
    "plt.ylabel(\"Number of Visits\", fontsize=12)\n",
    "plt.xticks(rotation=45, ha=\"right\")\n",
    "plt.tight_layout()\n",
    "plt.show()"
   ]
  },
  {
   "cell_type": "code",
   "execution_count": 115,
   "metadata": {},
   "outputs": [
    {
     "name": "stdout",
     "output_type": "stream",
     "text": [
      "['line', 'bar', 'barh', 'hist', 'box', 'kde', 'density', 'area', 'pie', 'scatter', 'hexbin']\n"
     ]
    }
   ],
   "source": [
    "print(plot_kind)"
   ]
  },
  {
   "cell_type": "code",
   "execution_count": 126,
   "metadata": {},
   "outputs": [
    {
     "name": "stdout",
     "output_type": "stream",
     "text": [
      "Top Companies with the Most Visits:\n",
      "company\n",
      "POWER FUELS DISTRIBUTION COMPANY LIMITED    3\n",
      "ATLANTIC BAY BEACH RESORT                   2\n",
      "SEA2SEA FOUNDATION                          2\n",
      "EMPRESS JULIE GUEST HOUSE                   2\n",
      "FRONTIER OIL GHANA LIMITED                  2\n",
      "Name: count, dtype: int64\n"
     ]
    },
    {
     "data": {
      "image/png": "[encoded data removed]",
      "text/plain": [
       "<Figure size 500x500 with 1 Axes>"
      ]
     },
     "metadata": {},
     "output_type": "display_data"
    }
   ],
   "source": [
    "# Top Companies with the Most Visits\n",
    "\n",
    "company_visits = df_explore['company'].value_counts()\n",
    "print(\"Top Companies with the Most Visits:\")\n",
    "print(company_visits.head())\n",
    "\n",
    "# Shortening the company names and plotting as a pie chart\n",
    "top_companies = company_visits.head()\n",
    "\n",
    "# Shorten the company names by taking the first 10 characters\n",
    "shortened_companies = top_companies.index.str.slice(0, 10)\n",
    "\n",
    "# Plotting the top companies with the most visits as a pie chart\n",
    "plt.figure(figsize=(5, 5))\n",
    "top_companies.plot(kind='pie', labels=shortened_companies, color=plt.cm.Paired.colors, autopct='%1.1f%%')\n",
    "plt.title(\"Top Companies with the Most Visits\", fontsize=14)\n",
    "plt.ylabel(\"\")  # Remove the default label\n",
    "plt.tight_layout()\n",
    "plt.show()\n",
    "\n"
   ]
  },
  {
   "cell_type": "code",
   "execution_count": 138,
   "metadata": {},
   "outputs": [
    {
     "name": "stdout",
     "output_type": "stream",
     "text": [
      "Activity Breakdown:\n",
      "activity\n",
      "SCREENING                  43\n",
      "MONITORING                 41\n",
      "VERIFICATION               25\n",
      "COMPLAINT INVESTIGATION     6\n",
      "Name: count, dtype: int64\n"
     ]
    },
    {
     "data": {
      "image/png": "[encoded data removed]",
      "text/plain": [
       "<Figure size 800x400 with 1 Axes>"
      ]
     },
     "metadata": {},
     "output_type": "display_data"
    }
   ],
   "source": [
    "# Count how many visits were assigned to each activity.\n",
    "\n",
    "activity_counts = df_explore['activity'].value_counts()\n",
    "print(\"Activity Breakdown:\")\n",
    "print(activity_counts)\n",
    "\n",
    "# Plotting the activity breakdown as a bar chart with wrapped x-axis labels\n",
    "plt.figure(figsize=(8, 4))\n",
    "activity_counts.plot(kind='bar', color=plt.cm.Paired.colors, edgecolor='black')\n",
    "plt.title(\"Activity Breakdown\", fontsize=14)\n",
    "plt.xlabel(\"Activity\", fontsize=12)\n",
    "plt.ylabel(\"Number of Visits\", fontsize=12)\n",
    "\n",
    "# Wrapping long x-axis labels\n",
    "plt.xticks(rotation=0, ha=\"center\")\n",
    "labels = [label.get_text().split(' ') for label in plt.gca().get_xticklabels()]\n",
    "wrapped_labels = ['\\n'.join(label) for label in labels]\n",
    "plt.gca().set_xticklabels(wrapped_labels)\n",
    "\n",
    "plt.tight_layout()\n",
    "plt.show()\n"
   ]
  },
  {
   "cell_type": "code",
   "execution_count": 101,
   "metadata": {},
   "outputs": [
    {
     "name": "stdout",
     "output_type": "stream",
     "text": [
      "Officer Visits Count:\n",
      "FRED      24.0\n",
      "HANNAH    36.0\n",
      "IVY       57.0\n",
      "KLENAM    72.0\n",
      "MONTE     41.0\n",
      "Name: count, dtype: float64\n"
     ]
    }
   ],
   "source": [
    "# Visits Based on Officer\n",
    "# Count how many visits each officer (officer_1 and officer_2) handled.\n",
    "\n",
    "officer_visits = df_explore['officer_1'].value_counts().add(df_explore['officer_2'].value_counts(), fill_value=0)\n",
    "print(\"Officer Visits Count:\")\n",
    "print(officer_visits)\n"
   ]
  },
  {
   "cell_type": "code",
   "execution_count": 102,
   "metadata": {},
   "outputs": [
    {
     "name": "stdout",
     "output_type": "stream",
     "text": [
      "Personnel Visits Count:\n",
      "personnel\n",
      "NELSON    42\n",
      "EUNICE    35\n",
      "HANNAH    17\n",
      "IVY       11\n",
      "MONTE      5\n",
      "FRED       5\n",
      "Name: count, dtype: int64\n"
     ]
    }
   ],
   "source": [
    "# Visits Based on Personnel\n",
    "# Count how many visits each Personnel handled.\n",
    "\n",
    "personnel_visits = df_explore['personnel'].value_counts()\n",
    "\n",
    "print(\"Personnel Visits Count:\")\n",
    "print(personnel_visits)\n"
   ]
  },
  {
   "cell_type": "code",
   "execution_count": 103,
   "metadata": {},
   "outputs": [
    {
     "name": "stdout",
     "output_type": "stream",
     "text": [
      "Driver Visits Count:\n",
      "driver\n",
      "PATRICK    81\n",
      "ASARE      28\n",
      "ALBERT      6\n",
      "Name: count, dtype: int64\n"
     ]
    }
   ],
   "source": [
    "# Visits by Driver\n",
    "# Count how many visits each driver is assigned to.\n",
    "\n",
    "driver_visits = df_explore['driver'].value_counts()\n",
    "print(\"Driver Visits Count:\")\n",
    "print(driver_visits)"
   ]
  },
  {
   "cell_type": "code",
   "execution_count": null,
   "metadata": {},
   "outputs": [],
   "source": []
  },
  {
   "cell_type": "markdown",
   "metadata": {},
   "source": [
    "#### <span style=\"color:DarkOrange\">Other</span> "
   ]
  },
  {
   "cell_type": "code",
   "execution_count": null,
   "metadata": {},
   "outputs": [],
   "source": []
  },
  {
   "cell_type": "code",
   "execution_count": 104,
   "metadata": {},
   "outputs": [
    {
     "name": "stdout",
     "output_type": "stream",
     "text": [
      "Sector with the Most Pending Status: GENERAL CONSTRUCTION (18 pending statuses) \n",
      " \n",
      "sector\n",
      "GENERAL CONSTRUCTION    18\n",
      "MANUFACTURING            9\n",
      "ENERGY                   9\n",
      "HOSPITALITY              6\n",
      "AGRICULTURE              2\n",
      "COMPLAINT                2\n",
      "PESTICIDES               1\n",
      "HEALTHCARE               1\n",
      "Name: count, dtype: int64\n"
     ]
    }
   ],
   "source": [
    "## Sector with most pending status\n",
    "\n",
    "# Filter rows with 'pending' in the status column (case-insensitive)\n",
    "pending_status = df_explore[df_explore['status'].str.contains('pending', case=False, na=False)]\n",
    "\n",
    "# Group by sector and count the number of pending statuses in each sector\n",
    "sector_pending_counts = pending_status['sector'].value_counts()\n",
    "\n",
    "# Get the sector with the most pending statuses\n",
    "most_pending_sector = sector_pending_counts.idxmax()\n",
    "most_pending_count = sector_pending_counts.max()\n",
    "\n",
    "print(f\"Sector with the Most Pending Status: {most_pending_sector} ({most_pending_count} pending statuses) \\n \")\n",
    "print(sector_pending_counts)"
   ]
  },
  {
   "cell_type": "code",
   "execution_count": 105,
   "metadata": {},
   "outputs": [
    {
     "name": "stdout",
     "output_type": "stream",
     "text": [
      "Pending Status Distribution:\n",
      "status\n",
      "PAYMENT RECEIPT PENDING           37\n",
      "ADDITIONAL INFORMATION PENDING     4\n",
      "ZONING & PAYMENT PENDING           2\n",
      "MEETING PENDING                    2\n",
      "SCOPING REPORT PENDING             1\n",
      "NO OBJECTION & PAYMENT PENDING     1\n",
      "ZONING, WMP & PAYMENT PENDING      1\n",
      "Name: count, dtype: int64\n"
     ]
    }
   ],
   "source": [
    "# Status with the Most Pending Activities\n",
    "# Find which status is most associated with pending activities.\n",
    "\n",
    "pending_status = df_explore[df_explore['status'].str.contains('PENDING', na=False)]['status'].value_counts()\n",
    "print(\"Pending Status Distribution:\")\n",
    "print(pending_status)\n"
   ]
  },
  {
   "cell_type": "markdown",
   "metadata": {},
   "source": [
    "<span style=\"color:DarkOrange\">Company and activity</span> "
   ]
  },
  {
   "cell_type": "code",
   "execution_count": 106,
   "metadata": {},
   "outputs": [
    {
     "name": "stdout",
     "output_type": "stream",
     "text": [
      "Number of companies: 109 \n",
      "\n",
      "Number of Companies Screened: 43 \n",
      "\n",
      "Number of Companies per Activity: \n",
      "\n",
      "activity\n",
      "SCREENING                  43\n",
      "MONITORING                 41\n",
      "VERIFICATION               25\n",
      "COMPLAINT INVESTIGATION     6\n",
      "Name: count, dtype: int64\n"
     ]
    }
   ],
   "source": [
    "number_of_companies = df_explore['company'].nunique()\n",
    "\n",
    "# Filter for 'SCREENING' activity\n",
    "screening_data = df_explore[df_explore['activity'] == 'SCREENING']\n",
    "\n",
    "# Number of companies screened\n",
    "number_of_screened_companies = screening_data['company'].nunique()\n",
    "\n",
    "# Count the number of companies for each activity\n",
    "activity_counts = df_explore['activity'].value_counts()\n",
    "\n",
    "# Print the results\n",
    "print(f'Number of companies: {number_of_companies} \\n')\n",
    "\n",
    "print(f\"Number of Companies Screened: {number_of_screened_companies} \\n\")\n",
    "\n",
    "print(\"Number of Companies per Activity: \\n\")\n",
    "print(activity_counts)\n",
    "\n"
   ]
  },
  {
   "cell_type": "code",
   "execution_count": 107,
   "metadata": {},
   "outputs": [
    {
     "name": "stdout",
     "output_type": "stream",
     "text": [
      "Visits by Location:\n",
      "location\n",
      "PRAMPRAM            24\n",
      "DAWHENYA            16\n",
      "SHAI HILLS          12\n",
      "DODOWA               7\n",
      "AYIKUMA              6\n",
      "MATAHEKO-AFIENYA     6\n",
      "TSOPOLI              5\n",
      "DORYUMU              4\n",
      "AFIENYA              4\n",
      "TEYE KWAME           4\n",
      "MANYA-JORPANYA       3\n",
      "MOBOLE               3\n",
      "NEW NINGO            3\n",
      "APESE                2\n",
      "AMRAHIA              2\n",
      "MIOTSO               2\n",
      "APINYA               2\n",
      "ASUTSUARE            2\n",
      "SOTA                 1\n",
      "DAWA                 1\n",
      "OLD NINGO            1\n",
      "ADUMANYA             1\n",
      "KASUNYA              1\n",
      "SAASABI              1\n",
      "BULAASO              1\n",
      "AYENYA               1\n",
      "Name: count, dtype: int64\n"
     ]
    }
   ],
   "source": [
    "# Location-Based Analysis\n",
    "# Analyze the visits based on the location, latitude, and longitude\n",
    "\n",
    "location_visits = df_explore['location'].value_counts()\n",
    "print(\"Visits by Location:\")\n",
    "print(location_visits)\n"
   ]
  },
  {
   "cell_type": "markdown",
   "metadata": {},
   "source": [
    "### <span style=\"color:DarkOrange\">Payment Summary</span> "
   ]
  },
  {
   "cell_type": "code",
   "execution_count": 108,
   "metadata": {},
   "outputs": [
    {
     "name": "stdout",
     "output_type": "stream",
     "text": [
      "Average Fees per Sector:\n",
      "                      processing_fee  permit_fee\n",
      "sector                                          \n",
      "AGRICULTURE                  1155.00         NaN\n",
      "COMPLAINT                        NaN         NaN\n",
      "ENERGY                       1310.40     1434.00\n",
      "GENERAL CONSTRUCTION         1671.73     2438.33\n",
      "HEALTHCARE                    552.50     1700.00\n",
      "HOSPITALITY                   401.25      795.00\n",
      "MANUFACTURING                3958.75    10774.64\n",
      "PESTICIDES                       NaN     1000.00\n"
     ]
    }
   ],
   "source": [
    "# Average Fee per Sector : Find the average processing_fee, permit_fee, and total_fee per sector.\n",
    "\n",
    "df_explore['processing_fee'] = pd.to_numeric(df_explore['processing_fee'], errors='coerce')\n",
    "df_explore['permit_fee'] = pd.to_numeric(df_explore['permit_fee'], errors='coerce')\n",
    "df_explore['total_fee'] = pd.to_numeric(df_explore['total_fee'], errors='coerce')\n",
    "\n",
    "# Group by sector and calculate the average\n",
    "avg_fees_per_sector = df_explore.groupby('sector')[['processing_fee', 'permit_fee']].mean()\n",
    "\n",
    "# Round the results to 2 decimal places\n",
    "avg_fees_per_sector = avg_fees_per_sector.round(2)\n",
    "\n",
    "print(\"Average Fees per Sector:\")\n",
    "print(avg_fees_per_sector)\n"
   ]
  },
  {
   "cell_type": "code",
   "execution_count": 109,
   "metadata": {},
   "outputs": [
    {
     "name": "stdout",
     "output_type": "stream",
     "text": [
      "Payment Status Distribution:\n",
      "payment_status\n",
      "UNPAID        41\n",
      "PAID          25\n",
      "PROCESSING     2\n",
      "Name: count, dtype: int64\n"
     ]
    }
   ],
   "source": [
    "# Payment Status Distribution : Get a count of how many visits had each payment status.\n",
    "\n",
    "payment_status_counts = df_explore['payment_status'].value_counts()\n",
    "print(\"Payment Status Distribution:\")\n",
    "print(payment_status_counts)"
   ]
  },
  {
   "cell_type": "code",
   "execution_count": null,
   "metadata": {},
   "outputs": [],
   "source": []
  },
  {
   "cell_type": "code",
   "execution_count": null,
   "metadata": {},
   "outputs": [],
   "source": []
  },
  {
   "cell_type": "code",
   "execution_count": null,
   "metadata": {},
   "outputs": [],
   "source": []
  },
  {
   "cell_type": "markdown",
   "metadata": {},
   "source": [
    "## <span style=\"color:MediumSeaGreen\"> Data Visualization <span>"
   ]
  }
 ],
 "metadata": {
  "kernelspec": {
   "display_name": "Python 3",
   "language": "python",
   "name": "python3"
  },
  "language_info": {
   "codemirror_mode": {
    "name": "ipython",
    "version": 3
   },
   "file_extension": ".py",
   "mimetype": "text/x-python",
   "name": "python",
   "nbconvert_exporter": "python",
   "pygments_lexer": "ipython3",
   "version": "3.12.1"
  }
 },
 "nbformat": 4,
 "nbformat_minor": 2
}
